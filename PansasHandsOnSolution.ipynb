{
 "cells": [
  {
   "cell_type": "markdown",
   "metadata": {},
   "source": [
    "# Pandas hands-on\n",
    "\n",
    "The goal of this notebook is to get acquainted with some of the core functionalities of Pandas."
   ]
  },
  {
   "cell_type": "code",
   "execution_count": 1,
   "metadata": {},
   "outputs": [],
   "source": [
    "import numpy as np\n",
    "import pandas as pd\n",
    "import matplotlib.pyplot as plt\n",
    "import statsmodels.api as sm"
   ]
  },
  {
   "cell_type": "markdown",
   "metadata": {},
   "source": [
    "## Basic manipulations on dataframes\n",
    "\n",
    "Run the commands in the cells below to create a dataframe starting from a dictionary."
   ]
  },
  {
   "cell_type": "code",
   "execution_count": 2,
   "metadata": {},
   "outputs": [],
   "source": [
    "family = pd.DataFrame({'name': ['Alice', 'Bob', 'Cathy', 'Daniel', 'Emily'], 'age': [38, 38, 9, 6, 6], 'parent-child': ['P', 'P', 'C', 'C', 'C']})"
   ]
  },
  {
   "cell_type": "code",
   "execution_count": 3,
   "metadata": {},
   "outputs": [
    {
     "data": {
      "text/html": [
       "<div>\n",
       "<style scoped>\n",
       "    .dataframe tbody tr th:only-of-type {\n",
       "        vertical-align: middle;\n",
       "    }\n",
       "\n",
       "    .dataframe tbody tr th {\n",
       "        vertical-align: top;\n",
       "    }\n",
       "\n",
       "    .dataframe thead th {\n",
       "        text-align: right;\n",
       "    }\n",
       "</style>\n",
       "<table border=\"1\" class=\"dataframe\">\n",
       "  <thead>\n",
       "    <tr style=\"text-align: right;\">\n",
       "      <th></th>\n",
       "      <th>name</th>\n",
       "      <th>age</th>\n",
       "      <th>parent-child</th>\n",
       "    </tr>\n",
       "  </thead>\n",
       "  <tbody>\n",
       "    <tr>\n",
       "      <th>0</th>\n",
       "      <td>Alice</td>\n",
       "      <td>38</td>\n",
       "      <td>P</td>\n",
       "    </tr>\n",
       "    <tr>\n",
       "      <th>1</th>\n",
       "      <td>Bob</td>\n",
       "      <td>38</td>\n",
       "      <td>P</td>\n",
       "    </tr>\n",
       "    <tr>\n",
       "      <th>2</th>\n",
       "      <td>Cathy</td>\n",
       "      <td>9</td>\n",
       "      <td>C</td>\n",
       "    </tr>\n",
       "    <tr>\n",
       "      <th>3</th>\n",
       "      <td>Daniel</td>\n",
       "      <td>6</td>\n",
       "      <td>C</td>\n",
       "    </tr>\n",
       "    <tr>\n",
       "      <th>4</th>\n",
       "      <td>Emily</td>\n",
       "      <td>6</td>\n",
       "      <td>C</td>\n",
       "    </tr>\n",
       "  </tbody>\n",
       "</table>\n",
       "</div>"
      ],
      "text/plain": [
       "     name  age parent-child\n",
       "0   Alice   38            P\n",
       "1     Bob   38            P\n",
       "2   Cathy    9            C\n",
       "3  Daniel    6            C\n",
       "4   Emily    6            C"
      ]
     },
     "execution_count": 3,
     "metadata": {},
     "output_type": "execute_result"
    }
   ],
   "source": [
    "family"
   ]
  },
  {
   "cell_type": "markdown",
   "metadata": {},
   "source": [
    "Use the **set_index** command to make the *name* column become the index of the dataframe.\n",
    "\n",
    "**Nb:** the goal is not to create a new dataframe, but have the *family* dataframe itself modified with the new index."
   ]
  },
  {
   "cell_type": "code",
   "execution_count": 4,
   "metadata": {},
   "outputs": [],
   "source": [
    "family.set_index('name', inplace=True)"
   ]
  },
  {
   "cell_type": "code",
   "execution_count": 5,
   "metadata": {},
   "outputs": [
    {
     "data": {
      "text/html": [
       "<div>\n",
       "<style scoped>\n",
       "    .dataframe tbody tr th:only-of-type {\n",
       "        vertical-align: middle;\n",
       "    }\n",
       "\n",
       "    .dataframe tbody tr th {\n",
       "        vertical-align: top;\n",
       "    }\n",
       "\n",
       "    .dataframe thead th {\n",
       "        text-align: right;\n",
       "    }\n",
       "</style>\n",
       "<table border=\"1\" class=\"dataframe\">\n",
       "  <thead>\n",
       "    <tr style=\"text-align: right;\">\n",
       "      <th></th>\n",
       "      <th>age</th>\n",
       "      <th>parent-child</th>\n",
       "    </tr>\n",
       "    <tr>\n",
       "      <th>name</th>\n",
       "      <th></th>\n",
       "      <th></th>\n",
       "    </tr>\n",
       "  </thead>\n",
       "  <tbody>\n",
       "    <tr>\n",
       "      <th>Alice</th>\n",
       "      <td>38</td>\n",
       "      <td>P</td>\n",
       "    </tr>\n",
       "    <tr>\n",
       "      <th>Bob</th>\n",
       "      <td>38</td>\n",
       "      <td>P</td>\n",
       "    </tr>\n",
       "    <tr>\n",
       "      <th>Cathy</th>\n",
       "      <td>9</td>\n",
       "      <td>C</td>\n",
       "    </tr>\n",
       "    <tr>\n",
       "      <th>Daniel</th>\n",
       "      <td>6</td>\n",
       "      <td>C</td>\n",
       "    </tr>\n",
       "    <tr>\n",
       "      <th>Emily</th>\n",
       "      <td>6</td>\n",
       "      <td>C</td>\n",
       "    </tr>\n",
       "  </tbody>\n",
       "</table>\n",
       "</div>"
      ],
      "text/plain": [
       "        age parent-child\n",
       "name                    \n",
       "Alice    38            P\n",
       "Bob      38            P\n",
       "Cathy     9            C\n",
       "Daniel    6            C\n",
       "Emily     6            C"
      ]
     },
     "execution_count": 5,
     "metadata": {},
     "output_type": "execute_result"
    }
   ],
   "source": [
    "family"
   ]
  },
  {
   "cell_type": "markdown",
   "metadata": {},
   "source": [
    "Select the *age* column from this dataframe, using attribute-based selection."
   ]
  },
  {
   "cell_type": "code",
   "execution_count": 6,
   "metadata": {},
   "outputs": [
    {
     "data": {
      "text/plain": [
       "name\n",
       "Alice     38\n",
       "Bob       38\n",
       "Cathy      9\n",
       "Daniel     6\n",
       "Emily      6\n",
       "Name: age, dtype: int64"
      ]
     },
     "execution_count": 6,
     "metadata": {},
     "output_type": "execute_result"
    }
   ],
   "source": [
    "family.age"
   ]
  },
  {
   "cell_type": "markdown",
   "metadata": {},
   "source": [
    "Select the *age* column from this dataframe, using the name of the column."
   ]
  },
  {
   "cell_type": "code",
   "execution_count": 7,
   "metadata": {},
   "outputs": [
    {
     "data": {
      "text/plain": [
       "name\n",
       "Alice     38\n",
       "Bob       38\n",
       "Cathy      9\n",
       "Daniel     6\n",
       "Emily      6\n",
       "Name: age, dtype: int64"
      ]
     },
     "execution_count": 7,
     "metadata": {},
     "output_type": "execute_result"
    }
   ],
   "source": [
    "family['age']"
   ]
  },
  {
   "cell_type": "markdown",
   "metadata": {},
   "source": [
    "Use the **iloc** command on the dataframe to select the element at the second row and first column."
   ]
  },
  {
   "cell_type": "code",
   "execution_count": 8,
   "metadata": {},
   "outputs": [
    {
     "data": {
      "text/plain": [
       "38"
      ]
     },
     "execution_count": 8,
     "metadata": {},
     "output_type": "execute_result"
    }
   ],
   "source": [
    "family.iloc[1,0]"
   ]
  },
  {
   "cell_type": "markdown",
   "metadata": {},
   "source": [
    "Use the **iloc** command to get a slice of the dataframe containing the last three rows."
   ]
  },
  {
   "cell_type": "code",
   "execution_count": 9,
   "metadata": {},
   "outputs": [
    {
     "data": {
      "text/html": [
       "<div>\n",
       "<style scoped>\n",
       "    .dataframe tbody tr th:only-of-type {\n",
       "        vertical-align: middle;\n",
       "    }\n",
       "\n",
       "    .dataframe tbody tr th {\n",
       "        vertical-align: top;\n",
       "    }\n",
       "\n",
       "    .dataframe thead th {\n",
       "        text-align: right;\n",
       "    }\n",
       "</style>\n",
       "<table border=\"1\" class=\"dataframe\">\n",
       "  <thead>\n",
       "    <tr style=\"text-align: right;\">\n",
       "      <th></th>\n",
       "      <th>age</th>\n",
       "      <th>parent-child</th>\n",
       "    </tr>\n",
       "    <tr>\n",
       "      <th>name</th>\n",
       "      <th></th>\n",
       "      <th></th>\n",
       "    </tr>\n",
       "  </thead>\n",
       "  <tbody>\n",
       "    <tr>\n",
       "      <th>Cathy</th>\n",
       "      <td>9</td>\n",
       "      <td>C</td>\n",
       "    </tr>\n",
       "    <tr>\n",
       "      <th>Daniel</th>\n",
       "      <td>6</td>\n",
       "      <td>C</td>\n",
       "    </tr>\n",
       "    <tr>\n",
       "      <th>Emily</th>\n",
       "      <td>6</td>\n",
       "      <td>C</td>\n",
       "    </tr>\n",
       "  </tbody>\n",
       "</table>\n",
       "</div>"
      ],
      "text/plain": [
       "        age parent-child\n",
       "name                    \n",
       "Cathy     9            C\n",
       "Daniel    6            C\n",
       "Emily     6            C"
      ]
     },
     "execution_count": 9,
     "metadata": {},
     "output_type": "execute_result"
    }
   ],
   "source": [
    "family.iloc[-3:,:]"
   ]
  },
  {
   "cell_type": "markdown",
   "metadata": {},
   "source": [
    "Use the **loc** command to get a series of booleans that are true for the rows containing the '*C*' attribute in the *parent-child* column."
   ]
  },
  {
   "cell_type": "code",
   "execution_count": 10,
   "metadata": {},
   "outputs": [
    {
     "data": {
      "text/plain": [
       "name\n",
       "Alice     False\n",
       "Bob       False\n",
       "Cathy      True\n",
       "Daniel     True\n",
       "Emily      True\n",
       "Name: parent-child, dtype: bool"
      ]
     },
     "execution_count": 10,
     "metadata": {},
     "output_type": "execute_result"
    }
   ],
   "source": [
    "family[\"parent-child\"]=='C'"
   ]
  },
  {
   "cell_type": "markdown",
   "metadata": {},
   "source": [
    "Use the **loc** command to get a slice of the dataframe containing all the children ('*C*' attribute)."
   ]
  },
  {
   "cell_type": "code",
   "execution_count": 11,
   "metadata": {},
   "outputs": [
    {
     "data": {
      "text/html": [
       "<div>\n",
       "<style scoped>\n",
       "    .dataframe tbody tr th:only-of-type {\n",
       "        vertical-align: middle;\n",
       "    }\n",
       "\n",
       "    .dataframe tbody tr th {\n",
       "        vertical-align: top;\n",
       "    }\n",
       "\n",
       "    .dataframe thead th {\n",
       "        text-align: right;\n",
       "    }\n",
       "</style>\n",
       "<table border=\"1\" class=\"dataframe\">\n",
       "  <thead>\n",
       "    <tr style=\"text-align: right;\">\n",
       "      <th></th>\n",
       "      <th>age</th>\n",
       "      <th>parent-child</th>\n",
       "    </tr>\n",
       "    <tr>\n",
       "      <th>name</th>\n",
       "      <th></th>\n",
       "      <th></th>\n",
       "    </tr>\n",
       "  </thead>\n",
       "  <tbody>\n",
       "    <tr>\n",
       "      <th>Cathy</th>\n",
       "      <td>9</td>\n",
       "      <td>C</td>\n",
       "    </tr>\n",
       "    <tr>\n",
       "      <th>Daniel</th>\n",
       "      <td>6</td>\n",
       "      <td>C</td>\n",
       "    </tr>\n",
       "    <tr>\n",
       "      <th>Emily</th>\n",
       "      <td>6</td>\n",
       "      <td>C</td>\n",
       "    </tr>\n",
       "  </tbody>\n",
       "</table>\n",
       "</div>"
      ],
      "text/plain": [
       "        age parent-child\n",
       "name                    \n",
       "Cathy     9            C\n",
       "Daniel    6            C\n",
       "Emily     6            C"
      ]
     },
     "execution_count": 11,
     "metadata": {},
     "output_type": "execute_result"
    }
   ],
   "source": [
    "family.loc[family['parent-child']=='C']"
   ]
  },
  {
   "cell_type": "markdown",
   "metadata": {},
   "source": [
    "Copy the slice of the dataframe containing all the children into a new dataframe named *children*."
   ]
  },
  {
   "cell_type": "code",
   "execution_count": 12,
   "metadata": {},
   "outputs": [],
   "source": [
    "children = family.loc[family['parent-child'] == 'C'].copy()"
   ]
  },
  {
   "cell_type": "code",
   "execution_count": 13,
   "metadata": {},
   "outputs": [
    {
     "data": {
      "text/html": [
       "<div>\n",
       "<style scoped>\n",
       "    .dataframe tbody tr th:only-of-type {\n",
       "        vertical-align: middle;\n",
       "    }\n",
       "\n",
       "    .dataframe tbody tr th {\n",
       "        vertical-align: top;\n",
       "    }\n",
       "\n",
       "    .dataframe thead th {\n",
       "        text-align: right;\n",
       "    }\n",
       "</style>\n",
       "<table border=\"1\" class=\"dataframe\">\n",
       "  <thead>\n",
       "    <tr style=\"text-align: right;\">\n",
       "      <th></th>\n",
       "      <th>age</th>\n",
       "      <th>parent-child</th>\n",
       "    </tr>\n",
       "    <tr>\n",
       "      <th>name</th>\n",
       "      <th></th>\n",
       "      <th></th>\n",
       "    </tr>\n",
       "  </thead>\n",
       "  <tbody>\n",
       "    <tr>\n",
       "      <th>Cathy</th>\n",
       "      <td>9</td>\n",
       "      <td>C</td>\n",
       "    </tr>\n",
       "    <tr>\n",
       "      <th>Daniel</th>\n",
       "      <td>6</td>\n",
       "      <td>C</td>\n",
       "    </tr>\n",
       "    <tr>\n",
       "      <th>Emily</th>\n",
       "      <td>6</td>\n",
       "      <td>C</td>\n",
       "    </tr>\n",
       "  </tbody>\n",
       "</table>\n",
       "</div>"
      ],
      "text/plain": [
       "        age parent-child\n",
       "name                    \n",
       "Cathy     9            C\n",
       "Daniel    6            C\n",
       "Emily     6            C"
      ]
     },
     "execution_count": 13,
     "metadata": {},
     "output_type": "execute_result"
    }
   ],
   "source": [
    "children"
   ]
  },
  {
   "cell_type": "markdown",
   "metadata": {},
   "source": [
    "Use the **loc** method to add a new child, Franck, age 0, to the *family* dataframe.\n",
    "\n",
    "**Hint:** reset the index before adding the row, and then set it back to the **name** column."
   ]
  },
  {
   "cell_type": "code",
   "execution_count": 14,
   "metadata": {},
   "outputs": [],
   "source": [
    "family.reset_index(inplace=True)\n",
    "family.loc[len(family)] = {'name': 'Franck', 'age': 0, 'parent-child': 'C'}\n",
    "family.set_index('name', inplace=True)"
   ]
  },
  {
   "cell_type": "code",
   "execution_count": 15,
   "metadata": {},
   "outputs": [
    {
     "data": {
      "text/html": [
       "<div>\n",
       "<style scoped>\n",
       "    .dataframe tbody tr th:only-of-type {\n",
       "        vertical-align: middle;\n",
       "    }\n",
       "\n",
       "    .dataframe tbody tr th {\n",
       "        vertical-align: top;\n",
       "    }\n",
       "\n",
       "    .dataframe thead th {\n",
       "        text-align: right;\n",
       "    }\n",
       "</style>\n",
       "<table border=\"1\" class=\"dataframe\">\n",
       "  <thead>\n",
       "    <tr style=\"text-align: right;\">\n",
       "      <th></th>\n",
       "      <th>age</th>\n",
       "      <th>parent-child</th>\n",
       "    </tr>\n",
       "    <tr>\n",
       "      <th>name</th>\n",
       "      <th></th>\n",
       "      <th></th>\n",
       "    </tr>\n",
       "  </thead>\n",
       "  <tbody>\n",
       "    <tr>\n",
       "      <th>Alice</th>\n",
       "      <td>38</td>\n",
       "      <td>P</td>\n",
       "    </tr>\n",
       "    <tr>\n",
       "      <th>Bob</th>\n",
       "      <td>38</td>\n",
       "      <td>P</td>\n",
       "    </tr>\n",
       "    <tr>\n",
       "      <th>Cathy</th>\n",
       "      <td>9</td>\n",
       "      <td>C</td>\n",
       "    </tr>\n",
       "    <tr>\n",
       "      <th>Daniel</th>\n",
       "      <td>6</td>\n",
       "      <td>C</td>\n",
       "    </tr>\n",
       "    <tr>\n",
       "      <th>Emily</th>\n",
       "      <td>6</td>\n",
       "      <td>C</td>\n",
       "    </tr>\n",
       "    <tr>\n",
       "      <th>Franck</th>\n",
       "      <td>0</td>\n",
       "      <td>C</td>\n",
       "    </tr>\n",
       "  </tbody>\n",
       "</table>\n",
       "</div>"
      ],
      "text/plain": [
       "        age parent-child\n",
       "name                    \n",
       "Alice    38            P\n",
       "Bob      38            P\n",
       "Cathy     9            C\n",
       "Daniel    6            C\n",
       "Emily     6            C\n",
       "Franck    0            C"
      ]
     },
     "execution_count": 15,
     "metadata": {},
     "output_type": "execute_result"
    }
   ],
   "source": [
    "family"
   ]
  },
  {
   "cell_type": "markdown",
   "metadata": {},
   "source": [
    "Add a column named *sex* to the *family* dataframe, stating whether the individual is male ('*M*'), or female ('*F*')."
   ]
  },
  {
   "cell_type": "code",
   "execution_count": 16,
   "metadata": {},
   "outputs": [],
   "source": [
    "family['sex'] = ['F', 'M', 'F', 'M', 'F', 'M']"
   ]
  },
  {
   "cell_type": "markdown",
   "metadata": {},
   "source": [
    "Increase the age of each family member by 1."
   ]
  },
  {
   "cell_type": "code",
   "execution_count": 17,
   "metadata": {},
   "outputs": [],
   "source": [
    "family.loc[:,'age'] = family.age + 1"
   ]
  },
  {
   "cell_type": "code",
   "execution_count": 18,
   "metadata": {},
   "outputs": [
    {
     "data": {
      "text/html": [
       "<div>\n",
       "<style scoped>\n",
       "    .dataframe tbody tr th:only-of-type {\n",
       "        vertical-align: middle;\n",
       "    }\n",
       "\n",
       "    .dataframe tbody tr th {\n",
       "        vertical-align: top;\n",
       "    }\n",
       "\n",
       "    .dataframe thead th {\n",
       "        text-align: right;\n",
       "    }\n",
       "</style>\n",
       "<table border=\"1\" class=\"dataframe\">\n",
       "  <thead>\n",
       "    <tr style=\"text-align: right;\">\n",
       "      <th></th>\n",
       "      <th>age</th>\n",
       "      <th>parent-child</th>\n",
       "      <th>sex</th>\n",
       "    </tr>\n",
       "    <tr>\n",
       "      <th>name</th>\n",
       "      <th></th>\n",
       "      <th></th>\n",
       "      <th></th>\n",
       "    </tr>\n",
       "  </thead>\n",
       "  <tbody>\n",
       "    <tr>\n",
       "      <th>Alice</th>\n",
       "      <td>39</td>\n",
       "      <td>P</td>\n",
       "      <td>F</td>\n",
       "    </tr>\n",
       "    <tr>\n",
       "      <th>Bob</th>\n",
       "      <td>39</td>\n",
       "      <td>P</td>\n",
       "      <td>M</td>\n",
       "    </tr>\n",
       "    <tr>\n",
       "      <th>Cathy</th>\n",
       "      <td>10</td>\n",
       "      <td>C</td>\n",
       "      <td>F</td>\n",
       "    </tr>\n",
       "    <tr>\n",
       "      <th>Daniel</th>\n",
       "      <td>7</td>\n",
       "      <td>C</td>\n",
       "      <td>M</td>\n",
       "    </tr>\n",
       "    <tr>\n",
       "      <th>Emily</th>\n",
       "      <td>7</td>\n",
       "      <td>C</td>\n",
       "      <td>F</td>\n",
       "    </tr>\n",
       "    <tr>\n",
       "      <th>Franck</th>\n",
       "      <td>1</td>\n",
       "      <td>C</td>\n",
       "      <td>M</td>\n",
       "    </tr>\n",
       "  </tbody>\n",
       "</table>\n",
       "</div>"
      ],
      "text/plain": [
       "        age parent-child sex\n",
       "name                        \n",
       "Alice    39            P   F\n",
       "Bob      39            P   M\n",
       "Cathy    10            C   F\n",
       "Daniel    7            C   M\n",
       "Emily     7            C   F\n",
       "Franck    1            C   M"
      ]
     },
     "execution_count": 18,
     "metadata": {},
     "output_type": "execute_result"
    }
   ],
   "source": [
    "family"
   ]
  },
  {
   "cell_type": "markdown",
   "metadata": {},
   "source": [
    "## Analysis of numerical data\n",
    "\n",
    "Create a dataframe named **crypto_prices** containing the data available in the file **crypto_prices.csv**. Use the **parse_dates** argument to specify that the first column consists of dates."
   ]
  },
  {
   "cell_type": "code",
   "execution_count": 19,
   "metadata": {},
   "outputs": [],
   "source": [
    "crypto_prices = pd.read_csv(\"crypto_prices.csv\", parse_dates=[0])"
   ]
  },
  {
   "cell_type": "markdown",
   "metadata": {},
   "source": [
    "Set the index of **crypto_prices** to be the *date* column."
   ]
  },
  {
   "cell_type": "code",
   "execution_count": 20,
   "metadata": {},
   "outputs": [],
   "source": [
    "crypto_prices.set_index('date', inplace=True)"
   ]
  },
  {
   "cell_type": "markdown",
   "metadata": {},
   "source": [
    "Use the *info()* method to get a summary of the contents of **crypto_prices**."
   ]
  },
  {
   "cell_type": "code",
   "execution_count": 21,
   "metadata": {},
   "outputs": [
    {
     "name": "stdout",
     "output_type": "stream",
     "text": [
      "<class 'pandas.core.frame.DataFrame'>\n",
      "DatetimeIndex: 809 entries, 2018-03-10 to 2020-05-26\n",
      "Data columns (total 50 columns):\n",
      " #   Column                 Non-Null Count  Dtype  \n",
      "---  ------                 --------------  -----  \n",
      " 0   0x                     809 non-null    float64\n",
      " 1   aave                   809 non-null    float64\n",
      " 2   augur                  809 non-null    float64\n",
      " 3   basic-attention-token  809 non-null    float64\n",
      " 4   binance-coin           809 non-null    float64\n",
      " 5   bitcoin-cash           809 non-null    float64\n",
      " 6   bitcoin                809 non-null    float64\n",
      " 7   bytom                  809 non-null    float64\n",
      " 8   cardano                809 non-null    float64\n",
      " 9   chainlink              809 non-null    float64\n",
      " 10  dash                   809 non-null    float64\n",
      " 11  decentraland           809 non-null    float64\n",
      " 12  decred                 809 non-null    float64\n",
      " 13  digibyte               809 non-null    float64\n",
      " 14  dogecoin               809 non-null    float64\n",
      " 15  electroneum            809 non-null    float64\n",
      " 16  enjin-coin             809 non-null    float64\n",
      " 17  eos                    809 non-null    float64\n",
      " 18  ethereum-classic       809 non-null    float64\n",
      " 19  ethereum               809 non-null    float64\n",
      " 20  golem-network-tokens   809 non-null    float64\n",
      " 21  icon                   809 non-null    float64\n",
      " 22  iostoken               809 non-null    float64\n",
      " 23  iota                   809 non-null    float64\n",
      " 24  komodo                 809 non-null    float64\n",
      " 25  kyber-network          809 non-null    float64\n",
      " 26  lisk                   809 non-null    float64\n",
      " 27  litecoin               809 non-null    float64\n",
      " 28  loopring               809 non-null    float64\n",
      " 29  maidsafecoin           809 non-null    float64\n",
      " 30  monacoin               809 non-null    float64\n",
      " 31  monero                 809 non-null    float64\n",
      " 32  nano                   809 non-null    float64\n",
      " 33  nem                    809 non-null    float64\n",
      " 34  neo                    809 non-null    float64\n",
      " 35  omg                    809 non-null    float64\n",
      " 36  qtum                   809 non-null    float64\n",
      " 37  ravencoin              809 non-null    float64\n",
      " 38  ren                    809 non-null    float64\n",
      " 39  siacoin                809 non-null    float64\n",
      " 40  status                 809 non-null    float64\n",
      " 41  stellar                809 non-null    float64\n",
      " 42  tether                 809 non-null    float64\n",
      " 43  theta                  809 non-null    float64\n",
      " 44  tron                   809 non-null    float64\n",
      " 45  waves                  809 non-null    float64\n",
      " 46  wax                    809 non-null    float64\n",
      " 47  xrp                    809 non-null    float64\n",
      " 48  zcash                  809 non-null    float64\n",
      " 49  zilliqa                809 non-null    float64\n",
      "dtypes: float64(50)\n",
      "memory usage: 322.3 KB\n"
     ]
    }
   ],
   "source": [
    "crypto_prices.info()"
   ]
  },
  {
   "cell_type": "markdown",
   "metadata": {},
   "source": [
    "Use the *describe()* method to retrieve basic statistics about the data in the **crypto_prices** "
   ]
  },
  {
   "cell_type": "code",
   "execution_count": 22,
   "metadata": {},
   "outputs": [
    {
     "data": {
      "text/html": [
       "<div>\n",
       "<style scoped>\n",
       "    .dataframe tbody tr th:only-of-type {\n",
       "        vertical-align: middle;\n",
       "    }\n",
       "\n",
       "    .dataframe tbody tr th {\n",
       "        vertical-align: top;\n",
       "    }\n",
       "\n",
       "    .dataframe thead th {\n",
       "        text-align: right;\n",
       "    }\n",
       "</style>\n",
       "<table border=\"1\" class=\"dataframe\">\n",
       "  <thead>\n",
       "    <tr style=\"text-align: right;\">\n",
       "      <th></th>\n",
       "      <th>0x</th>\n",
       "      <th>aave</th>\n",
       "      <th>augur</th>\n",
       "      <th>basic-attention-token</th>\n",
       "      <th>binance-coin</th>\n",
       "      <th>bitcoin-cash</th>\n",
       "      <th>bitcoin</th>\n",
       "      <th>bytom</th>\n",
       "      <th>cardano</th>\n",
       "      <th>chainlink</th>\n",
       "      <th>...</th>\n",
       "      <th>status</th>\n",
       "      <th>stellar</th>\n",
       "      <th>tether</th>\n",
       "      <th>theta</th>\n",
       "      <th>tron</th>\n",
       "      <th>waves</th>\n",
       "      <th>wax</th>\n",
       "      <th>xrp</th>\n",
       "      <th>zcash</th>\n",
       "      <th>zilliqa</th>\n",
       "    </tr>\n",
       "  </thead>\n",
       "  <tbody>\n",
       "    <tr>\n",
       "      <th>count</th>\n",
       "      <td>809.000000</td>\n",
       "      <td>809.000000</td>\n",
       "      <td>809.000000</td>\n",
       "      <td>809.000000</td>\n",
       "      <td>809.000000</td>\n",
       "      <td>809.000000</td>\n",
       "      <td>809.000000</td>\n",
       "      <td>809.000000</td>\n",
       "      <td>809.000000</td>\n",
       "      <td>809.000000</td>\n",
       "      <td>...</td>\n",
       "      <td>809.000000</td>\n",
       "      <td>809.000000</td>\n",
       "      <td>809.000000</td>\n",
       "      <td>809.000000</td>\n",
       "      <td>809.000000</td>\n",
       "      <td>809.000000</td>\n",
       "      <td>809.000000</td>\n",
       "      <td>809.000000</td>\n",
       "      <td>809.000000</td>\n",
       "      <td>809.000000</td>\n",
       "    </tr>\n",
       "    <tr>\n",
       "      <th>mean</th>\n",
       "      <td>0.454733</td>\n",
       "      <td>0.020540</td>\n",
       "      <td>17.147651</td>\n",
       "      <td>0.228927</td>\n",
       "      <td>16.134944</td>\n",
       "      <td>421.829023</td>\n",
       "      <td>7299.306786</td>\n",
       "      <td>0.189546</td>\n",
       "      <td>0.083096</td>\n",
       "      <td>1.398354</td>\n",
       "      <td>...</td>\n",
       "      <td>0.035938</td>\n",
       "      <td>0.138135</td>\n",
       "      <td>1.001748</td>\n",
       "      <td>0.112059</td>\n",
       "      <td>0.025888</td>\n",
       "      <td>2.165449</td>\n",
       "      <td>0.076126</td>\n",
       "      <td>0.363534</td>\n",
       "      <td>96.707713</td>\n",
       "      <td>0.028548</td>\n",
       "    </tr>\n",
       "    <tr>\n",
       "      <th>std</th>\n",
       "      <td>0.335863</td>\n",
       "      <td>0.017989</td>\n",
       "      <td>9.979124</td>\n",
       "      <td>0.076607</td>\n",
       "      <td>7.344888</td>\n",
       "      <td>306.729980</td>\n",
       "      <td>2137.463260</td>\n",
       "      <td>0.201809</td>\n",
       "      <td>0.065250</td>\n",
       "      <td>1.237721</td>\n",
       "      <td>...</td>\n",
       "      <td>0.033955</td>\n",
       "      <td>0.090727</td>\n",
       "      <td>0.007528</td>\n",
       "      <td>0.043304</td>\n",
       "      <td>0.014564</td>\n",
       "      <td>1.351344</td>\n",
       "      <td>0.068303</td>\n",
       "      <td>0.153306</td>\n",
       "      <td>73.663084</td>\n",
       "      <td>0.032859</td>\n",
       "    </tr>\n",
       "    <tr>\n",
       "      <th>min</th>\n",
       "      <td>0.137635</td>\n",
       "      <td>0.003309</td>\n",
       "      <td>5.600000</td>\n",
       "      <td>0.105539</td>\n",
       "      <td>4.530000</td>\n",
       "      <td>77.370000</td>\n",
       "      <td>3236.760000</td>\n",
       "      <td>0.046071</td>\n",
       "      <td>0.023961</td>\n",
       "      <td>0.166278</td>\n",
       "      <td>...</td>\n",
       "      <td>0.008436</td>\n",
       "      <td>0.033441</td>\n",
       "      <td>0.966644</td>\n",
       "      <td>0.041273</td>\n",
       "      <td>0.008792</td>\n",
       "      <td>0.533447</td>\n",
       "      <td>0.016402</td>\n",
       "      <td>0.139635</td>\n",
       "      <td>24.500000</td>\n",
       "      <td>0.003264</td>\n",
       "    </tr>\n",
       "    <tr>\n",
       "      <th>25%</th>\n",
       "      <td>0.235913</td>\n",
       "      <td>0.008246</td>\n",
       "      <td>10.300000</td>\n",
       "      <td>0.174372</td>\n",
       "      <td>10.440000</td>\n",
       "      <td>222.350000</td>\n",
       "      <td>6249.180000</td>\n",
       "      <td>0.078120</td>\n",
       "      <td>0.042363</td>\n",
       "      <td>0.359287</td>\n",
       "      <td>...</td>\n",
       "      <td>0.015848</td>\n",
       "      <td>0.066138</td>\n",
       "      <td>0.999204</td>\n",
       "      <td>0.087274</td>\n",
       "      <td>0.016056</td>\n",
       "      <td>1.050000</td>\n",
       "      <td>0.032677</td>\n",
       "      <td>0.261971</td>\n",
       "      <td>46.710000</td>\n",
       "      <td>0.006734</td>\n",
       "    </tr>\n",
       "    <tr>\n",
       "      <th>50%</th>\n",
       "      <td>0.305550</td>\n",
       "      <td>0.013532</td>\n",
       "      <td>13.510000</td>\n",
       "      <td>0.211568</td>\n",
       "      <td>14.920000</td>\n",
       "      <td>311.500000</td>\n",
       "      <td>7343.900000</td>\n",
       "      <td>0.107229</td>\n",
       "      <td>0.057645</td>\n",
       "      <td>0.544724</td>\n",
       "      <td>...</td>\n",
       "      <td>0.022141</td>\n",
       "      <td>0.104598</td>\n",
       "      <td>1.000000</td>\n",
       "      <td>0.107729</td>\n",
       "      <td>0.022581</td>\n",
       "      <td>1.970000</td>\n",
       "      <td>0.059803</td>\n",
       "      <td>0.317031</td>\n",
       "      <td>63.170000</td>\n",
       "      <td>0.017685</td>\n",
       "    </tr>\n",
       "    <tr>\n",
       "      <th>75%</th>\n",
       "      <td>0.633143</td>\n",
       "      <td>0.025837</td>\n",
       "      <td>20.010000</td>\n",
       "      <td>0.270791</td>\n",
       "      <td>19.740000</td>\n",
       "      <td>512.920000</td>\n",
       "      <td>8815.660000</td>\n",
       "      <td>0.186924</td>\n",
       "      <td>0.089754</td>\n",
       "      <td>2.320000</td>\n",
       "      <td>...</td>\n",
       "      <td>0.037070</td>\n",
       "      <td>0.210144</td>\n",
       "      <td>1.010000</td>\n",
       "      <td>0.129849</td>\n",
       "      <td>0.028932</td>\n",
       "      <td>2.730000</td>\n",
       "      <td>0.083725</td>\n",
       "      <td>0.445852</td>\n",
       "      <td>126.340000</td>\n",
       "      <td>0.035206</td>\n",
       "    </tr>\n",
       "    <tr>\n",
       "      <th>max</th>\n",
       "      <td>1.870000</td>\n",
       "      <td>0.096902</td>\n",
       "      <td>56.800000</td>\n",
       "      <td>0.503444</td>\n",
       "      <td>38.820000</td>\n",
       "      <td>1765.690000</td>\n",
       "      <td>13016.230000</td>\n",
       "      <td>1.170000</td>\n",
       "      <td>0.372420</td>\n",
       "      <td>4.720000</td>\n",
       "      <td>...</td>\n",
       "      <td>0.175958</td>\n",
       "      <td>0.458405</td>\n",
       "      <td>1.050000</td>\n",
       "      <td>0.416597</td>\n",
       "      <td>0.093777</td>\n",
       "      <td>7.830000</td>\n",
       "      <td>0.427537</td>\n",
       "      <td>0.934781</td>\n",
       "      <td>366.850000</td>\n",
       "      <td>0.200330</td>\n",
       "    </tr>\n",
       "  </tbody>\n",
       "</table>\n",
       "<p>8 rows × 50 columns</p>\n",
       "</div>"
      ],
      "text/plain": [
       "               0x        aave       augur  basic-attention-token  \\\n",
       "count  809.000000  809.000000  809.000000             809.000000   \n",
       "mean     0.454733    0.020540   17.147651               0.228927   \n",
       "std      0.335863    0.017989    9.979124               0.076607   \n",
       "min      0.137635    0.003309    5.600000               0.105539   \n",
       "25%      0.235913    0.008246   10.300000               0.174372   \n",
       "50%      0.305550    0.013532   13.510000               0.211568   \n",
       "75%      0.633143    0.025837   20.010000               0.270791   \n",
       "max      1.870000    0.096902   56.800000               0.503444   \n",
       "\n",
       "       binance-coin  bitcoin-cash       bitcoin       bytom     cardano  \\\n",
       "count    809.000000    809.000000    809.000000  809.000000  809.000000   \n",
       "mean      16.134944    421.829023   7299.306786    0.189546    0.083096   \n",
       "std        7.344888    306.729980   2137.463260    0.201809    0.065250   \n",
       "min        4.530000     77.370000   3236.760000    0.046071    0.023961   \n",
       "25%       10.440000    222.350000   6249.180000    0.078120    0.042363   \n",
       "50%       14.920000    311.500000   7343.900000    0.107229    0.057645   \n",
       "75%       19.740000    512.920000   8815.660000    0.186924    0.089754   \n",
       "max       38.820000   1765.690000  13016.230000    1.170000    0.372420   \n",
       "\n",
       "        chainlink  ...      status     stellar      tether       theta  \\\n",
       "count  809.000000  ...  809.000000  809.000000  809.000000  809.000000   \n",
       "mean     1.398354  ...    0.035938    0.138135    1.001748    0.112059   \n",
       "std      1.237721  ...    0.033955    0.090727    0.007528    0.043304   \n",
       "min      0.166278  ...    0.008436    0.033441    0.966644    0.041273   \n",
       "25%      0.359287  ...    0.015848    0.066138    0.999204    0.087274   \n",
       "50%      0.544724  ...    0.022141    0.104598    1.000000    0.107729   \n",
       "75%      2.320000  ...    0.037070    0.210144    1.010000    0.129849   \n",
       "max      4.720000  ...    0.175958    0.458405    1.050000    0.416597   \n",
       "\n",
       "             tron       waves         wax         xrp       zcash     zilliqa  \n",
       "count  809.000000  809.000000  809.000000  809.000000  809.000000  809.000000  \n",
       "mean     0.025888    2.165449    0.076126    0.363534   96.707713    0.028548  \n",
       "std      0.014564    1.351344    0.068303    0.153306   73.663084    0.032859  \n",
       "min      0.008792    0.533447    0.016402    0.139635   24.500000    0.003264  \n",
       "25%      0.016056    1.050000    0.032677    0.261971   46.710000    0.006734  \n",
       "50%      0.022581    1.970000    0.059803    0.317031   63.170000    0.017685  \n",
       "75%      0.028932    2.730000    0.083725    0.445852  126.340000    0.035206  \n",
       "max      0.093777    7.830000    0.427537    0.934781  366.850000    0.200330  \n",
       "\n",
       "[8 rows x 50 columns]"
      ]
     },
     "execution_count": 22,
     "metadata": {},
     "output_type": "execute_result"
    }
   ],
   "source": [
    "crypto_prices.describe()"
   ]
  },
  {
   "cell_type": "markdown",
   "metadata": {},
   "source": [
    "Create a new dataframe called **btc_eth**, and containing the prices for *bitcoin* and *ethereum* from Jan. 1st 2019 until May 1st 2019.\n",
    "\n",
    "**Nb:** don't forget to use the *copy()* method to make sure **btc_eth** is indeed a new dataframe."
   ]
  },
  {
   "cell_type": "code",
   "execution_count": 23,
   "metadata": {},
   "outputs": [],
   "source": [
    "btc_eth = crypto_prices.loc['2019-1-1': '2019-5-1', ['bitcoin', 'ethereum']].copy()"
   ]
  },
  {
   "cell_type": "markdown",
   "metadata": {},
   "source": [
    "In order to compare the price evolution of both cryptocurrencies, we will plot them with the same basis.\n",
    "\n",
    "Use the *pct_change()* method to compute the daily returns of both cryptocurrencies, store the result in a dataframe called **btc_eth_rets**. "
   ]
  },
  {
   "cell_type": "code",
   "execution_count": 24,
   "metadata": {},
   "outputs": [],
   "source": [
    "btc_eth_rets = btc_eth.pct_change()"
   ]
  },
  {
   "cell_type": "markdown",
   "metadata": {},
   "source": [
    "Create a dataframe **btc_eth_perf** containing the daily performances of both cryptocurrencies, and set the value of the first row to 1."
   ]
  },
  {
   "cell_type": "code",
   "execution_count": 25,
   "metadata": {},
   "outputs": [],
   "source": [
    "btc_eth_perf= 1+ btc_eth_rets\n",
    "btc_eth_perf.iloc[0,:] = 1"
   ]
  },
  {
   "cell_type": "markdown",
   "metadata": {},
   "source": [
    "Create a dataframe **btc_eth_base100** containing the price evolutions of both cryptocurrencies if their value on Jan 1st had been 100."
   ]
  },
  {
   "cell_type": "code",
   "execution_count": 26,
   "metadata": {},
   "outputs": [],
   "source": [
    "btc_eth_base100 = 100 * btc_eth_perf.cumprod()"
   ]
  },
  {
   "cell_type": "markdown",
   "metadata": {},
   "source": [
    "Plot both price evolutions using the *plot* method on the **btc_eth_base100** dataframe."
   ]
  },
  {
   "cell_type": "code",
   "execution_count": 27,
   "metadata": {},
   "outputs": [
    {
     "data": {
      "text/plain": [
       "<matplotlib.axes._subplots.AxesSubplot at 0x7fbbbb5b17b8>"
      ]
     },
     "execution_count": 27,
     "metadata": {},
     "output_type": "execute_result"
    },
    {
     "data": {
      "image/png": "[encoded data removed]",
      "text/plain": [
       "<Figure size 864x432 with 1 Axes>"
      ]
     },
     "metadata": {},
     "output_type": "display_data"
    }
   ],
   "source": [
    "btc_eth_base100.plot(figsize=(12, 6))"
   ]
  },
  {
   "cell_type": "markdown",
   "metadata": {},
   "source": [
    "The goal of this part is to perform a linear regression and obtain the values $\\alpha$ and $\\beta$ such that\n",
    "$$R_e = \\alpha + \\beta\\cdot R_b + \\epsilon,$$\n",
    "where:\n",
    "- $R_e$ denotes the returns of **ethereum**,\n",
    "- $R_b$ denotes the returns of **bitcoin**,\n",
    "- $\\epsilon$ is a white noise.\n",
    "\n",
    "\n",
    "Create a dataframe **btc_eth_na** containing the returns of both cryptocurrencies without the first *NA* value."
   ]
  },
  {
   "cell_type": "code",
   "execution_count": 28,
   "metadata": {},
   "outputs": [],
   "source": [
    "btc_eth_na = btc_eth.pct_change().dropna()"
   ]
  },
  {
   "cell_type": "markdown",
   "metadata": {},
   "source": [
    "Use the ordinary least squares method from **statmodels** (*OLS* method) to compute the regression, store this result in a variable **reg**. "
   ]
  },
  {
   "cell_type": "code",
   "execution_count": 29,
   "metadata": {},
   "outputs": [],
   "source": [
    "intercept = sm.add_constant(btc_eth_na.bitcoin)\n",
    "reg = sm.OLS(btc_eth_na.ethereum, intercept).fit()"
   ]
  },
  {
   "cell_type": "markdown",
   "metadata": {},
   "source": [
    "Print out the summary of **reg**."
   ]
  },
  {
   "cell_type": "code",
   "execution_count": 30,
   "metadata": {},
   "outputs": [
    {
     "name": "stdout",
     "output_type": "stream",
     "text": [
      "                            OLS Regression Results                            \n",
      "==============================================================================\n",
      "Dep. Variable:               ethereum   R-squared:                       0.781\n",
      "Model:                            OLS   Adj. R-squared:                  0.780\n",
      "Method:                 Least Squares   F-statistic:                     422.0\n",
      "Date:                Fri, 05 Feb 2021   Prob (F-statistic):           8.85e-41\n",
      "Time:                        10:42:01   Log-Likelihood:                 305.09\n",
      "No. Observations:                 120   AIC:                            -606.2\n",
      "Df Residuals:                     118   BIC:                            -600.6\n",
      "Df Model:                           1                                         \n",
      "Covariance Type:            nonrobust                                         \n",
      "==============================================================================\n",
      "                 coef    std err          t      P>|t|      [0.025      0.975]\n",
      "------------------------------------------------------------------------------\n",
      "const         -0.0024      0.002     -1.354      0.178      -0.006       0.001\n",
      "bitcoin        1.3581      0.066     20.543      0.000       1.227       1.489\n",
      "==============================================================================\n",
      "Omnibus:                       20.389   Durbin-Watson:                   1.767\n",
      "Prob(Omnibus):                  0.000   Jarque-Bera (JB):              116.085\n",
      "Skew:                           0.013   Prob(JB):                     6.20e-26\n",
      "Kurtosis:                       7.818   Cond. No.                         37.7\n",
      "==============================================================================\n",
      "\n",
      "Notes:\n",
      "[1] Standard Errors assume that the covariance matrix of the errors is correctly specified.\n"
     ]
    }
   ],
   "source": [
    "print(reg.summary())"
   ]
  },
  {
   "cell_type": "markdown",
   "metadata": {},
   "source": [
    "Use the *predict* method on **reg** to predict the returns of **ethereum** and plot the regressed line along with the actual returns of the cryptocurrency."
   ]
  },
  {
   "cell_type": "code",
   "execution_count": 31,
   "metadata": {},
   "outputs": [
    {
     "data": {
      "text/plain": [
       "[<matplotlib.lines.Line2D at 0x7fbbb344e048>]"
      ]
     },
     "execution_count": 31,
     "metadata": {},
     "output_type": "execute_result"
    },
    {
     "data": {
      "image/png": "[encoded data removed]",
      "text/plain": [
       "<Figure size 864x432 with 1 Axes>"
      ]
     },
     "metadata": {},
     "output_type": "display_data"
    }
   ],
   "source": [
    "pred = reg.predict(intercept)\n",
    "plt.figure(figsize=(12, 6))\n",
    "plt.plot(btc_eth_na.bitcoin, btc_eth_na.ethereum,  'o')  \n",
    "plt.plot(btc_eth_na.bitcoin, pred, 'r', linewidth=2) "
   ]
  }
 ],
 "metadata": {
  "kernelspec": {
   "display_name": "Python 3",
   "language": "python",
   "name": "python3"
  },
  "language_info": {
   "codemirror_mode": {
    "name": "ipython",
    "version": 3
   },
   "file_extension": ".py",
   "mimetype": "text/x-python",
   "name": "python",
   "nbconvert_exporter": "python",
   "pygments_lexer": "ipython3",
   "version": "3.6.9"
  }
 },
 "nbformat": 4,
 "nbformat_minor": 4
}

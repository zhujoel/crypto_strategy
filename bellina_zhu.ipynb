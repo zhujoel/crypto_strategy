{
 "cells": [
  {
   "cell_type": "markdown",
   "metadata": {
    "id": "zHHnv1edLi0r"
   },
   "source": [
    "# Projet Stratégies d'Investissement Alternatives et Quantitatives\n",
    "## Jérémy Bellina, Joël Zhu"
   ]
  },
  {
   "cell_type": "markdown",
   "metadata": {
    "id": "w7zF2UfILi0y"
   },
   "source": [
    "# Libraries"
   ]
  },
  {
   "cell_type": "code",
   "execution_count": 1,
   "metadata": {
    "id": "r_4HkcHzLi0z"
   },
   "outputs": [],
   "source": [
    "import numpy as np\n",
    "import pandas as pd\n",
    "import matplotlib.pyplot as plt\n",
    "import statsmodels.api as sm"
   ]
  },
  {
   "cell_type": "markdown",
   "metadata": {
    "id": "_PAEatEvLi02"
   },
   "source": [
    "# Data"
   ]
  },
  {
   "cell_type": "code",
   "execution_count": 2,
   "metadata": {
    "id": "-OcVPcXvLi04"
   },
   "outputs": [],
   "source": [
    "# load the crypto prices csv data\n",
    "crypto_prices = pd.read_csv(\"crypto_prices.csv\", parse_dates=[0])\n",
    "crypto_prices.set_index('date', inplace=True)\n",
    "\n",
    "# load the CRIX index csv data\n",
    "crix_prices = pd.read_csv(\"crix.csv\", parse_dates=[0]) # Usage of CRIX instead of VCRIX explained in the next cell\n",
    "crix_prices.set_index('date', inplace=True)\n",
    "crix_prices = crix_prices.loc[\"2018-04-01\":\"2020-05-26\"]\n",
    "\n",
    "# load the Fama & French momentum factor csv data\n",
    "FFMomentum = pd.read_csv(\"F-F_Momentum_Factor_daily.CSV\", parse_dates=[0])\n",
    "FFMomentum = FFMomentum.rename(columns={'Unnamed: 0': 'date'})\n",
    "FFMomentum.set_index('date', inplace=True)\n",
    "FFMomentum = FFMomentum.loc[\"2018-04-01\":]\n",
    "\n",
    "# load the Fama & French research data factor csv data\n",
    "FFResearch = pd.read_csv(\"F-F_Research_Data_Factors_daily.CSV\", parse_dates=[0])\n",
    "FFResearch = FFResearch.rename(columns={'Unnamed: 0': 'date'})\n",
    "FFResearch.set_index('date', inplace=True)\n",
    "FFResearch = FFResearch.loc[\"2018-04-01\":]"
   ]
  },
  {
   "cell_type": "markdown",
   "metadata": {},
   "source": [
    "Nous avons décidé d'utiliser les données du CRIX plutôt que celles du vcrix donnée dans les documents de cours car nous ne savions pas comment utilsier le vcrix qui n'est pas un indice sur les cryptomonnaies directement mais plutôt sur leur volatilité. Nous avons donc téléchargé les données du CRIX directement sur le site https://thecrix.de/."
   ]
  },
  {
   "cell_type": "code",
   "execution_count": 3,
   "metadata": {
    "id": "zIMsU8QOLi05"
   },
   "outputs": [],
   "source": [
    "formatted_dates = pd.date_range(start = \"2018-04-01\", end = \"2020-05-26\")\n",
    "rebalancing_dates = pd.date_range(start = \"2018-04-01\", end = \"2020-05-01\", freq = pd.DateOffset(months=1, day=1))\n",
    "horizon = 15\n",
    "initial_value = 100"
   ]
  },
  {
   "cell_type": "markdown",
   "metadata": {
    "id": "RcJ4UKtVLi06"
   },
   "source": [
    "# Helper functions"
   ]
  },
  {
   "cell_type": "code",
   "execution_count": 4,
   "metadata": {
    "id": "v8jchg6eLi07"
   },
   "outputs": [],
   "source": [
    "def sort_returns(current_date, data):\n",
    "    date = str(current_date.date())\n",
    "    return data.loc[date].sort_values(ascending=False)"
   ]
  },
  {
   "cell_type": "code",
   "execution_count": 5,
   "metadata": {
    "id": "KhU5IIoZLi08"
   },
   "outputs": [],
   "source": [
    "def compute_value(date, portfolio, crypto_prices):\n",
    "    value = 0\n",
    "    for item in portfolio:\n",
    "        value += item[1] * crypto_prices.loc[date, item[0]]\n",
    "    return value"
   ]
  },
  {
   "cell_type": "code",
   "execution_count": 6,
   "metadata": {
    "id": "8d0zM7cgLi09"
   },
   "outputs": [],
   "source": [
    "def update_portfolio(amount, data, date, crypto_names):\n",
    "    portfolio = []\n",
    "    for name in crypto_names:\n",
    "        portfolio.append((name, amount / data.loc[date, name]))\n",
    "    return portfolio"
   ]
  },
  {
   "cell_type": "markdown",
   "metadata": {
    "id": "4pxMwZvuLi0_"
   },
   "source": [
    "# Backtest functions"
   ]
  },
  {
   "cell_type": "markdown",
   "metadata": {
    "id": "AB4hBcpeLi1A"
   },
   "source": [
    "Creates portfolio long on all crypto currencies **equally weighted**"
   ]
  },
  {
   "cell_type": "code",
   "execution_count": 7,
   "metadata": {
    "id": "B2gWO0_uLi1B"
   },
   "outputs": [],
   "source": [
    "def get_portfolio_values(initial_value, horizon, formatted_dates, rebalancing_dates, data, portfolio_index):\n",
    "    values = [initial_value]\n",
    "    returns = data.pct_change(periods=horizon)\n",
    "    portfolio = []\n",
    "    for date in formatted_dates:\n",
    "        if str(date) != \"2018-04-01 00:00:00\":\n",
    "            values.append(compute_value(date, portfolio, data)) # update values\n",
    "        if date in rebalancing_dates:\n",
    "            sorted_returns = sort_returns(date, returns) # sort returns for the rebalancing date\n",
    "            crypto_names = sorted_returns.iloc[(10 * (portfolio_index - 1)):(10 * portfolio_index)].index # extract names from data\n",
    "            portfolio = update_portfolio(values[-1] / 10, data, date, crypto_names) # update composition\n",
    "    return values"
   ]
  },
  {
   "cell_type": "markdown",
   "metadata": {
    "id": "A2LyqPYELi1B"
   },
   "source": [
    "Creates a portfolio **long on best returns** crypto currencies and **short on lowest returns** ones"
   ]
  },
  {
   "cell_type": "code",
   "execution_count": 8,
   "metadata": {
    "id": "_8YqPZsuLi1B"
   },
   "outputs": [],
   "source": [
    " def long_short_strategy(ptf_values1, ptf_values5):\n",
    "    values = []\n",
    "    for value1, value5 in zip(ptf_values1, ptf_values5):\n",
    "        values.append(value1 - value5)\n",
    "    return values"
   ]
  },
  {
   "cell_type": "markdown",
   "metadata": {
    "id": "HV9U6LYXLi1C"
   },
   "source": [
    "# Portfolio initializations"
   ]
  },
  {
   "cell_type": "code",
   "execution_count": 9,
   "metadata": {
    "id": "L7TyFrHBLi1C"
   },
   "outputs": [],
   "source": [
    "# P1, P2, P3, P4, P5\n",
    "portfolios_df = pd.DataFrame()\n",
    "\n",
    "portfolios_df[\"date\"] = formatted_dates\n",
    "portfolios_df.set_index('date', inplace=True) # set as index so that it is easier to plot\n",
    "\n",
    "for i in range(5):\n",
    "    pf_index = 1+i\n",
    "    portfolios_df[\"P\"+str(pf_index)] = get_portfolio_values(initial_value, horizon, formatted_dates, rebalancing_dates, crypto_prices, pf_index)"
   ]
  },
  {
   "cell_type": "code",
   "execution_count": 10,
   "metadata": {
    "id": "7coIOQ9_Li1D"
   },
   "outputs": [],
   "source": [
    "# Long-short strategy\n",
    "ptf_values1 = get_portfolio_values(initial_value, horizon, formatted_dates, rebalancing_dates, crypto_prices, 1)\n",
    "ptf_values5 = get_portfolio_values(initial_value, horizon, formatted_dates, rebalancing_dates, crypto_prices, 5)\n",
    "long_short = long_short_strategy(ptf_values1, ptf_values5)\n",
    "\n",
    "long_short_df = pd.DataFrame(data = {'date': formatted_dates, 'P1-P5': long_short})\n",
    "long_short_df.set_index('date', inplace=True)"
   ]
  },
  {
   "cell_type": "markdown",
   "metadata": {
    "id": "SxjfhRDCLi1D"
   },
   "source": [
    "# Plot "
   ]
  },
  {
   "cell_type": "code",
   "execution_count": 11,
   "metadata": {
    "colab": {
     "base_uri": "https://localhost:8080/",
     "height": 542
    },
    "id": "llBzE_77Li1E",
    "outputId": "7b05585e-9be1-4742-f8f4-f901151bfaae"
   },
   "outputs": [
    {
     "data": {
      "text/plain": [
       "<matplotlib.axes._subplots.AxesSubplot at 0x7f8d1b5d1358>"
      ]
     },
     "execution_count": 11,
     "metadata": {},
     "output_type": "execute_result"
    },
    {
     "data": {
      "image/png": "[encoded data removed]",
      "text/plain": [
       "<Figure size 1152x576 with 1 Axes>"
      ]
     },
     "metadata": {},
     "output_type": "display_data"
    }
   ],
   "source": [
    "portfolios_df.plot(figsize=(16,8), title=\"Values of P1, P2, P3, P4 P5\")"
   ]
  },
  {
   "cell_type": "code",
   "execution_count": 12,
   "metadata": {
    "colab": {
     "base_uri": "https://localhost:8080/",
     "height": 542
    },
    "id": "tp__0yDtLi1H",
    "outputId": "5a6031d6-b43d-47df-e372-289a74ad8226",
    "scrolled": true
   },
   "outputs": [
    {
     "data": {
      "text/plain": [
       "<matplotlib.axes._subplots.AxesSubplot at 0x7f8d12a8de10>"
      ]
     },
     "execution_count": 12,
     "metadata": {},
     "output_type": "execute_result"
    },
    {
     "data": {
      "image/png": "[encoded data removed]",
      "text/plain": [
       "<Figure size 1152x576 with 1 Axes>"
      ]
     },
     "metadata": {},
     "output_type": "display_data"
    }
   ],
   "source": [
    "long_short_df.plot(figsize=(16,8), title=\"Long-short strategy (buy P1 sell P5)\")"
   ]
  },
  {
   "cell_type": "markdown",
   "metadata": {
    "id": "JRp8PYU4Li1I"
   },
   "source": [
    "# Statistical description"
   ]
  },
  {
   "cell_type": "markdown",
   "metadata": {
    "id": "H39m5TqzLi1I"
   },
   "source": [
    "## Initialization"
   ]
  },
  {
   "cell_type": "code",
   "execution_count": 13,
   "metadata": {
    "id": "1J5CnZRDLi1J"
   },
   "outputs": [],
   "source": [
    "# P1 to P5\n",
    "portfolios_df_returns = portfolios_df.pct_change()\n"
   ]
  },
  {
   "cell_type": "code",
   "execution_count": 14,
   "metadata": {
    "id": "xN6KQCI0Li1J"
   },
   "outputs": [],
   "source": [
    "# Long-short strategy\n",
    "long_short_df_returns = long_short_df.pct_change()\n",
    "\n",
    "def winsorizing(df, col):\n",
    "    minimum = df[col].quantile(0.03)\n",
    "    maximum = df[col].quantile(0.97)\n",
    "    return df.loc[(df[col] > minimum) & (df[col] < maximum)]\n",
    "\n",
    "long_short_df_returns = winsorizing(long_short_df_returns, 'P1-P5')"
   ]
  },
  {
   "cell_type": "markdown",
   "metadata": {
    "id": "Htb3Dq_YLi1K"
   },
   "source": [
    "## Mean"
   ]
  },
  {
   "cell_type": "code",
   "execution_count": 15,
   "metadata": {
    "colab": {
     "base_uri": "https://localhost:8080/"
    },
    "id": "fJIkXyC3Li1L",
    "outputId": "9d293fca-c388-4032-ab7a-edf4caafcb9a"
   },
   "outputs": [
    {
     "data": {
      "text/plain": [
       "P1    0.001651\n",
       "P2    0.001213\n",
       "P3    0.000491\n",
       "P4    0.000686\n",
       "P5    0.000440\n",
       "dtype: float64"
      ]
     },
     "execution_count": 15,
     "metadata": {},
     "output_type": "execute_result"
    }
   ],
   "source": [
    "# P1, P2, P3, P4, P5\n",
    "portfolios_df_returns.mean()"
   ]
  },
  {
   "cell_type": "markdown",
   "metadata": {
    "id": "h4N6fUimLi1M"
   },
   "source": [
    "Interprétation : Le rendement moyen journalier du portefeuille P1 est 0.165%. Il est plus élevé que tous les autres portefeuilles momentum. Cela est cohérent car le portefeuille P1 est constitué des crypto-monnaies ayant la plus forte croissance à chaque date de rebalancement. Il semble donc que la stratégie momentum fonctionne."
   ]
  },
  {
   "cell_type": "code",
   "execution_count": 16,
   "metadata": {
    "colab": {
     "base_uri": "https://localhost:8080/"
    },
    "id": "fJw1CrPnLi1M",
    "outputId": "5bcd2772-8781-41e3-f3e0-fd97478a70a7"
   },
   "outputs": [
    {
     "data": {
      "text/plain": [
       "P1-P5    0.005517\n",
       "dtype: float64"
      ]
     },
     "execution_count": 16,
     "metadata": {},
     "output_type": "execute_result"
    }
   ],
   "source": [
    "# Long-short strategy\n",
    "long_short_df_returns.mean()"
   ]
  },
  {
   "cell_type": "markdown",
   "metadata": {
    "id": "uP_NVz0CLi1N"
   },
   "source": [
    "Interprétation : Le rendement moyen journalier de la stratégie 'acheter P1 et vendre P5' est proche de 0.5%. Cela est beaucoup plus élevé que le rendement moyen de P1. C'est un signe positif qui indique que la stratégie semble fonctionner."
   ]
  },
  {
   "cell_type": "markdown",
   "metadata": {
    "id": "FXZDIP0uLi1N"
   },
   "source": [
    "## Standard deviation"
   ]
  },
  {
   "cell_type": "code",
   "execution_count": 17,
   "metadata": {
    "colab": {
     "base_uri": "https://localhost:8080/"
    },
    "id": "RJnhjrQ_Li1N",
    "outputId": "53eb7c83-45cd-43ca-b32d-c8fd25bb023e"
   },
   "outputs": [
    {
     "data": {
      "text/plain": [
       "P1    0.047095\n",
       "P2    0.046147\n",
       "P3    0.045343\n",
       "P4    0.046768\n",
       "P5    0.048832\n",
       "dtype: float64"
      ]
     },
     "execution_count": 17,
     "metadata": {},
     "output_type": "execute_result"
    }
   ],
   "source": [
    "# P1, P2, P3, P4, P5\n",
    "portfolios_df_returns.std()"
   ]
  },
  {
   "cell_type": "markdown",
   "metadata": {
    "id": "Ngfvbu6bLi1O"
   },
   "source": [
    "Interprétation : Les écart-types ne sont pas significativement éloignés les uns des autres pour pouvoir dire qu'un portefeuille est plus risqué qu'un autre. On peut donc supposer que les portefeuilles de crypto-monnaies sont tous exposés à un risque de marché similaire important (celui des crypto-monnaies) mais que les portefeuilles sont suffisament diversifiés au sein de ce marché pour ne subir qu'un risque spécifique faible."
   ]
  },
  {
   "cell_type": "code",
   "execution_count": 18,
   "metadata": {
    "colab": {
     "base_uri": "https://localhost:8080/"
    },
    "id": "9S8FvYvhLi1O",
    "outputId": "b843605e-b701-4837-fdbe-dd5fd2114758"
   },
   "outputs": [
    {
     "data": {
      "text/plain": [
       "P1-P5    0.133753\n",
       "dtype: float64"
      ]
     },
     "execution_count": 18,
     "metadata": {},
     "output_type": "execute_result"
    }
   ],
   "source": [
    "# Long-short strategy\n",
    "long_short_df_returns.std()"
   ]
  },
  {
   "cell_type": "markdown",
   "metadata": {
    "id": "scg8dY66Li1P"
   },
   "source": [
    "Interprétation : L'écart-type de la stratégie est presque 2x plus élevé que le portefeuille P1. On peut donc expliquer en partie le rendement plus élevé de cet stratégie par un risque beaucoup plus grand."
   ]
  },
  {
   "cell_type": "markdown",
   "metadata": {
    "id": "wwHCzGB_Li1P"
   },
   "source": [
    "## Median"
   ]
  },
  {
   "cell_type": "code",
   "execution_count": 19,
   "metadata": {
    "colab": {
     "base_uri": "https://localhost:8080/"
    },
    "id": "LneTVLcdLi1Q",
    "outputId": "1bf2b8c6-b5a5-4bff-a1ea-1bcffd7661de"
   },
   "outputs": [
    {
     "data": {
      "text/plain": [
       "P1    0.003487\n",
       "P2    0.002854\n",
       "P3    0.002478\n",
       "P4    0.003057\n",
       "P5    0.003053\n",
       "dtype: float64"
      ]
     },
     "execution_count": 19,
     "metadata": {},
     "output_type": "execute_result"
    }
   ],
   "source": [
    "# P1, P2, P3, P4, P5\n",
    "portfolios_df_returns.median()"
   ]
  },
  {
   "cell_type": "markdown",
   "metadata": {
    "id": "3gBMWTAjLi1Q"
   },
   "source": [
    "Interprétation : Les médianes sont bien plus élevées que les moyennes. Les rendements journaliers négatifs sont donc beaucoup plus importants en valeur absolue que les rendement positifs."
   ]
  },
  {
   "cell_type": "code",
   "execution_count": 20,
   "metadata": {
    "colab": {
     "base_uri": "https://localhost:8080/"
    },
    "id": "EiEmLkvILi1Q",
    "outputId": "beacc677-7ade-4259-b8d3-2e9f1ab13ac8"
   },
   "outputs": [
    {
     "data": {
      "text/plain": [
       "P1-P5    0.005484\n",
       "dtype: float64"
      ]
     },
     "execution_count": 20,
     "metadata": {},
     "output_type": "execute_result"
    }
   ],
   "source": [
    "# Long-short strategy\n",
    "long_short_df_returns.median()"
   ]
  },
  {
   "cell_type": "markdown",
   "metadata": {
    "id": "uYllufRULi1R"
   },
   "source": [
    "Interprétation : La médiane est plus élevée que pour le P1. Cela semble cohérent avec le fait que la rentabilité moyenne soit également plus élevée."
   ]
  },
  {
   "cell_type": "markdown",
   "metadata": {
    "id": "3Z1WrFj4Li1R"
   },
   "source": [
    "## Minimum"
   ]
  },
  {
   "cell_type": "code",
   "execution_count": 21,
   "metadata": {
    "colab": {
     "base_uri": "https://localhost:8080/"
    },
    "id": "64ac1kD-Li1R",
    "outputId": "10b0e606-5ade-4965-a468-b0e5f0fc1d7e"
   },
   "outputs": [
    {
     "data": {
      "text/plain": [
       "P1   -0.388953\n",
       "P2   -0.414802\n",
       "P3   -0.398284\n",
       "P4   -0.385747\n",
       "P5   -0.426499\n",
       "dtype: float64"
      ]
     },
     "execution_count": 21,
     "metadata": {},
     "output_type": "execute_result"
    }
   ],
   "source": [
    "# P1, P2, P3, P4, P5\n",
    "portfolios_df_returns.min()"
   ]
  },
  {
   "cell_type": "markdown",
   "metadata": {
    "id": "h4mYd0DeLi1R"
   },
   "source": [
    "Interprétation : Durant sa pire journée, le portefeuille P1 a subit une baisse de -38.90% de sa valeur. Cela est très important mais reste néanmoins légerement moins que les autres portefeuilles (à l'exception du P4)."
   ]
  },
  {
   "cell_type": "code",
   "execution_count": 22,
   "metadata": {
    "colab": {
     "base_uri": "https://localhost:8080/"
    },
    "id": "mojvQ8dSLi1S",
    "outputId": "a225ce61-1095-403b-c787-5204ef40e835"
   },
   "outputs": [
    {
     "data": {
      "text/plain": [
       "P1-P5   -0.428264\n",
       "dtype: float64"
      ]
     },
     "execution_count": 22,
     "metadata": {},
     "output_type": "execute_result"
    }
   ],
   "source": [
    "# Long-short strategy\n",
    "long_short_df_returns.min()"
   ]
  },
  {
   "cell_type": "markdown",
   "metadata": {
    "id": "sEaUPwPLLi1T"
   },
   "source": [
    "Interprétation : Le minimum de la stratégie est plus faible que celui de P1. C'est un signe positif qui indique que cette stratégie permet d'amortir les variations fortes du marché. \n",
    "\n",
    "A noter : Ce résultat est à relativiser car on effectue une winsorisation qui élimine certaines valeurs extrêmes."
   ]
  },
  {
   "cell_type": "markdown",
   "metadata": {
    "id": "gYRpbj9lLi1T"
   },
   "source": [
    "## Maximum"
   ]
  },
  {
   "cell_type": "code",
   "execution_count": 23,
   "metadata": {
    "colab": {
     "base_uri": "https://localhost:8080/"
    },
    "id": "Zz2fF7btLi1T",
    "outputId": "5b7b31d9-ad39-49e0-e8fe-f042da614d27"
   },
   "outputs": [
    {
     "data": {
      "text/plain": [
       "P1    0.153043\n",
       "P2    0.186089\n",
       "P3    0.168602\n",
       "P4    0.252157\n",
       "P5    0.210899\n",
       "dtype: float64"
      ]
     },
     "execution_count": 23,
     "metadata": {},
     "output_type": "execute_result"
    }
   ],
   "source": [
    "# P1, P2, P3, P4, P5\n",
    "portfolios_df_returns.max()"
   ]
  },
  {
   "cell_type": "markdown",
   "metadata": {
    "id": "HqvL01voLi1T"
   },
   "source": [
    "Interprétation : Durant sa meilleure journée, le portefeuille P1 a vu sa valeur monter de 15.30%. C'est impressionant mais plus faible que les autres portefeuiles qui atteignent jusqu'à 25.22%. Durant des périodes à fortes variations, le portefeuille P1 subit des gains et des pertes moins importantes que ses homologues. On pourra donc s'attendre à un Béta plus faible."
   ]
  },
  {
   "cell_type": "code",
   "execution_count": 24,
   "metadata": {
    "colab": {
     "base_uri": "https://localhost:8080/"
    },
    "id": "g37Z-T6hLi1V",
    "outputId": "8b4df4db-d228-43d2-f152-4673ed49b41f"
   },
   "outputs": [
    {
     "data": {
      "text/plain": [
       "P1-P5    0.524231\n",
       "dtype: float64"
      ]
     },
     "execution_count": 24,
     "metadata": {},
     "output_type": "execute_result"
    }
   ],
   "source": [
    "# Long-short strategy\n",
    "long_short_df_returns.max()"
   ]
  },
  {
   "cell_type": "markdown",
   "metadata": {
    "id": "7FmZl9E0Li1W"
   },
   "source": [
    "Interprétation : Même avec la winsorisation, le maximum est nettement plus élevé que P1. C'est également un bon signe car cette stratégie permettrait donc d'amortir les variations à la baisse et amplifier les variations à la hausse."
   ]
  },
  {
   "cell_type": "markdown",
   "metadata": {
    "id": "7q_LXLQlLi1Y"
   },
   "source": [
    "## Skewness"
   ]
  },
  {
   "cell_type": "code",
   "execution_count": 25,
   "metadata": {
    "colab": {
     "base_uri": "https://localhost:8080/"
    },
    "id": "Idv88876Li1Z",
    "outputId": "19c3a49f-663c-45d6-893d-305a011add9d"
   },
   "outputs": [
    {
     "data": {
      "text/plain": [
       "P1   -0.938847\n",
       "P2   -1.129604\n",
       "P3   -1.027596\n",
       "P4   -0.639909\n",
       "P5   -0.567365\n",
       "dtype: float64"
      ]
     },
     "execution_count": 25,
     "metadata": {},
     "output_type": "execute_result"
    }
   ],
   "source": [
    "# P1, P2, P3, P4, P5\n",
    "portfolios_df_returns.skew(axis=0)"
   ]
  },
  {
   "cell_type": "markdown",
   "metadata": {
    "id": "siuYXl_aLi1Z"
   },
   "source": [
    "Interprétation : La skewness de tous les portefeuilles est négative. Cette statistique indique que la distribution est asymétrique et que la queue de la distribution est plus longue vers les rendements inférieurs à la moyenne. \n",
    "Pour les portefeuilles P1 à P5, la distribution est modéremment voire fortement skewed négativement.\n",
    "Cela est confirmée par le fait que la moyenne soit inférieure à la médiane. "
   ]
  },
  {
   "cell_type": "code",
   "execution_count": 26,
   "metadata": {
    "colab": {
     "base_uri": "https://localhost:8080/"
    },
    "id": "_uL4IfHdLi1Z",
    "outputId": "8136dda6-c712-4fda-e845-c6e059259dad"
   },
   "outputs": [
    {
     "data": {
      "text/plain": [
       "P1-P5    0.284883\n",
       "dtype: float64"
      ]
     },
     "execution_count": 26,
     "metadata": {},
     "output_type": "execute_result"
    }
   ],
   "source": [
    "# Long-short strategy\n",
    "long_short_df_returns.skew(axis=0)"
   ]
  },
  {
   "cell_type": "markdown",
   "metadata": {
    "id": "_qyF2EfdLi1Z"
   },
   "source": [
    "Interprétation : La skewness de la stratégie est plus proche de 0 de positive. La distribution est donc quasiment symétrique. C'est bon signe car cela signifie que la queue de la distribution est plus longue à droite de la moyenne.\n",
    "Cela est également logique car la différence entre la moyenne et la médiane est plus faible pour la stratégie que pour les portefeuilles individuels."
   ]
  },
  {
   "cell_type": "markdown",
   "metadata": {
    "id": "AwlIQGQ3Li1b"
   },
   "source": [
    "## Kurtosis"
   ]
  },
  {
   "cell_type": "code",
   "execution_count": 27,
   "metadata": {
    "colab": {
     "base_uri": "https://localhost:8080/"
    },
    "id": "j0WCekePLi1b",
    "outputId": "8e03fb3c-4dbc-4016-c84b-0c3757088f99"
   },
   "outputs": [
    {
     "data": {
      "text/plain": [
       "P1    7.182078\n",
       "P2    9.462124\n",
       "P3    8.739581\n",
       "P4    8.008115\n",
       "P5    9.388953\n",
       "dtype: float64"
      ]
     },
     "execution_count": 27,
     "metadata": {},
     "output_type": "execute_result"
    }
   ],
   "source": [
    "# P1, P2, P3, P4, P5\n",
    "portfolios_df_returns.kurtosis(axis=0)"
   ]
  },
  {
   "cell_type": "markdown",
   "metadata": {
    "id": "B1OA4wmDLi1b"
   },
   "source": [
    "Interprétation : Les Kurtosis sont plus grandes que 3. La distribution est donc leptokurtique qui indique qu'une grande partie des rentabilités est concentrée autour de la moyenne."
   ]
  },
  {
   "cell_type": "code",
   "execution_count": 28,
   "metadata": {
    "colab": {
     "base_uri": "https://localhost:8080/"
    },
    "id": "1429GsrbLi1b",
    "outputId": "ef75aab6-b400-43bb-fb96-6a123e88f57a"
   },
   "outputs": [
    {
     "data": {
      "text/plain": [
       "P1-P5    2.503121\n",
       "dtype: float64"
      ]
     },
     "execution_count": 28,
     "metadata": {},
     "output_type": "execute_result"
    }
   ],
   "source": [
    "# Long-short strategy\n",
    "long_short_df_returns.kurtosis(axis=0)"
   ]
  },
  {
   "cell_type": "markdown",
   "metadata": {
    "id": "DgiClB1GLi1c"
   },
   "source": [
    "Interprétation : Le kurtosis est inférieur à 3. La distribution est platykurtique ce qui signifie que la distribution est plate et donc les valeurs ne sont pas concentrées autour de la moyenne mais plus étalées."
   ]
  },
  {
   "cell_type": "markdown",
   "metadata": {
    "id": "tXu8lAAfLi1c"
   },
   "source": [
    "## Global interpretation"
   ]
  },
  {
   "cell_type": "markdown",
   "metadata": {
    "id": "nQ3Ac8ShLi1c"
   },
   "source": [
    "La stratégie long-short qui consiste à acheter P1 et vendre P5 semble être une bonne stratégie car elle présente un bon rendement moyen et la médiane la plus élevée des portefeuilles disponibles. \n",
    "\n",
    "Elle est cependant beaucoup plus risquée, avec un écart-type plus fort et un kurtosis inférieur à 3 qui implique des rendements étalés et pas forcément proches de la moyenne.\n",
    "\n",
    "Il est donc utile de réaliser des mesures de performance afin de déterminer si cette stratégie est réellement meilleure que les autres portefeuilles en calculant la rentabilité relative au risque.\n",
    "\n",
    "De plus, on peut noter que la rentabilité dépend beaucoup des paramètres, notamment de l'horizon de calcul de la rentabilité et des dates de rebalancement."
   ]
  },
  {
   "cell_type": "markdown",
   "metadata": {
    "id": "p8POnMbxLi1c"
   },
   "source": [
    "# Performance measures"
   ]
  },
  {
   "cell_type": "markdown",
   "metadata": {
    "id": "dxwImIR_Li1c"
   },
   "source": [
    "## Initialization"
   ]
  },
  {
   "cell_type": "code",
   "execution_count": 29,
   "metadata": {
    "id": "R_eiLzCPLi1c"
   },
   "outputs": [],
   "source": [
    "# We compute R-Rf for all portfolios\n",
    "# We divide by 100 as the data is in percent.\n",
    "# By using .dropna(), we only keep the dates that are common to the two dataframes.\n",
    "R_RF = portfolios_df_returns.subtract(FFResearch[\"RF\"]/100, axis = 0).dropna()\n",
    "long_short_RF = long_short_df_returns.sub(FFResearch[\"RF\"]/100, axis=0).dropna()\n",
    "RM_RF = FFResearch['Mkt-RF']/100"
   ]
  },
  {
   "cell_type": "markdown",
   "metadata": {
    "id": "sZyEUxnGLi1d"
   },
   "source": [
    "## Sharpe"
   ]
  },
  {
   "cell_type": "code",
   "execution_count": 30,
   "metadata": {
    "colab": {
     "base_uri": "https://localhost:8080/"
    },
    "id": "4QONd5WgLi1d",
    "outputId": "00395699-fd82-4b3d-ea30-72b688d2366d"
   },
   "outputs": [
    {
     "name": "stdout",
     "output_type": "stream",
     "text": [
      "P1    0.027069\n",
      "P2    0.023368\n",
      "P3   -0.002514\n",
      "P4    0.002667\n",
      "P5   -0.001956\n",
      "dtype: float64\n",
      "P1-P5    0.032576\n",
      "dtype: float64\n"
     ]
    }
   ],
   "source": [
    "print(R_RF.mean()/portfolios_df_returns.std())\n",
    "print(long_short_RF.mean()/long_short_df_returns.std())"
   ]
  },
  {
   "cell_type": "markdown",
   "metadata": {
    "id": "pUcHrhk33B_N"
   },
   "source": [
    "Interprétation: Les ratios de Sharpe sont positifs pour les portefeuilles 1, 2, 4 et la stratégie long-short. Etant donné que ces ratios sont entre 0 et 1, cela indique que la rentabilité supplémentaire dégagée par ces portefeuilles est dûe à une prise de risque très élevée par rapport au titre sans risque.\n",
    "\n",
    "On peut cependant voir que le ratio de la stratégie long-short est plus élevée que celui du portefeuille P1 qui est lui-même plus élevé que le reste. Ainsi, à risque égal, le rendement de la stratégie est plus important que le rendement des portefeuilles individuels. \n",
    "\n",
    "Néanmoins, la différence n'est pas très grande malgré le fait que le rendement moyen de la stratégie soit bien plus grande que celui de P1, ceci s'explique par le fait que le risque de la stratégie est également beaucoup plus élevé que celui du portefeuille P1."
   ]
  },
  {
   "cell_type": "markdown",
   "metadata": {
    "id": "Nid4qCO5Li1e"
   },
   "source": [
    "## Treynor et Jensen"
   ]
  },
  {
   "cell_type": "markdown",
   "metadata": {
    "id": "vxBPX6Tw3B_O"
   },
   "source": [
    "### Regressions"
   ]
  },
  {
   "cell_type": "code",
   "execution_count": 31,
   "metadata": {
    "colab": {
     "base_uri": "https://localhost:8080/"
    },
    "id": "hvP-z2-CLi1f",
    "outputId": "a8e8070e-1774-4c10-a678-5894fad66abf"
   },
   "outputs": [
    {
     "name": "stdout",
     "output_type": "stream",
     "text": [
      "                            OLS Regression Results                            \n",
      "==============================================================================\n",
      "Dep. Variable:                     P1   R-squared:                       0.063\n",
      "Model:                            OLS   Adj. R-squared:                  0.061\n",
      "Method:                 Least Squares   F-statistic:                     35.04\n",
      "Date:                Fri, 12 Mar 2021   Prob (F-statistic):           5.86e-09\n",
      "Time:                        11:28:19   Log-Likelihood:                 832.86\n",
      "No. Observations:                 525   AIC:                            -1662.\n",
      "Df Residuals:                     523   BIC:                            -1653.\n",
      "Df Model:                           1                                         \n",
      "Covariance Type:            nonrobust                                         \n",
      "==============================================================================\n",
      "                 coef    std err          t      P>|t|      [0.025      0.975]\n",
      "------------------------------------------------------------------------------\n",
      "const          0.0010      0.002      0.484      0.628      -0.003       0.005\n",
      "Mkt-RF         0.8134      0.137      5.919      0.000       0.543       1.083\n",
      "==============================================================================\n",
      "Omnibus:                       79.422   Durbin-Watson:                   2.095\n",
      "Prob(Omnibus):                  0.000   Jarque-Bera (JB):              343.855\n",
      "Skew:                          -0.593   Prob(JB):                     2.15e-75\n",
      "Kurtosis:                       6.783   Cond. No.                         63.5\n",
      "==============================================================================\n",
      "\n",
      "Notes:\n",
      "[1] Standard Errors assume that the covariance matrix of the errors is correctly specified.\n",
      "                            OLS Regression Results                            \n",
      "==============================================================================\n",
      "Dep. Variable:                     P2   R-squared:                       0.056\n",
      "Model:                            OLS   Adj. R-squared:                  0.055\n",
      "Method:                 Least Squares   F-statistic:                     31.22\n",
      "Date:                Fri, 12 Mar 2021   Prob (F-statistic):           3.71e-08\n",
      "Time:                        11:28:19   Log-Likelihood:                 837.51\n",
      "No. Observations:                 525   AIC:                            -1671.\n",
      "Df Residuals:                     523   BIC:                            -1663.\n",
      "Df Model:                           1                                         \n",
      "Covariance Type:            nonrobust                                         \n",
      "==============================================================================\n",
      "                 coef    std err          t      P>|t|      [0.025      0.975]\n",
      "------------------------------------------------------------------------------\n",
      "const          0.0009      0.002      0.404      0.686      -0.003       0.005\n",
      "Mkt-RF         0.7611      0.136      5.588      0.000       0.493       1.029\n",
      "==============================================================================\n",
      "Omnibus:                      104.439   Durbin-Watson:                   2.037\n",
      "Prob(Omnibus):                  0.000   Jarque-Bera (JB):              616.496\n",
      "Skew:                          -0.716   Prob(JB):                    1.35e-134\n",
      "Kurtosis:                       8.112   Cond. No.                         63.5\n",
      "==============================================================================\n",
      "\n",
      "Notes:\n",
      "[1] Standard Errors assume that the covariance matrix of the errors is correctly specified.\n",
      "                            OLS Regression Results                            \n",
      "==============================================================================\n",
      "Dep. Variable:                     P3   R-squared:                       0.060\n",
      "Model:                            OLS   Adj. R-squared:                  0.058\n",
      "Method:                 Least Squares   F-statistic:                     33.30\n",
      "Date:                Fri, 12 Mar 2021   Prob (F-statistic):           1.35e-08\n",
      "Time:                        11:28:19   Log-Likelihood:                 853.48\n",
      "No. Observations:                 525   AIC:                            -1703.\n",
      "Df Residuals:                     523   BIC:                            -1694.\n",
      "Df Model:                           1                                         \n",
      "Covariance Type:            nonrobust                                         \n",
      "==============================================================================\n",
      "                 coef    std err          t      P>|t|      [0.025      0.975]\n",
      "------------------------------------------------------------------------------\n",
      "const         -0.0003      0.002     -0.156      0.876      -0.004       0.004\n",
      "Mkt-RF         0.7624      0.132      5.771      0.000       0.503       1.022\n",
      "==============================================================================\n",
      "Omnibus:                       93.389   Durbin-Watson:                   2.067\n",
      "Prob(Omnibus):                  0.000   Jarque-Bera (JB):              543.549\n",
      "Skew:                          -0.621   Prob(JB):                    9.33e-119\n",
      "Kurtosis:                       7.827   Cond. No.                         63.5\n",
      "==============================================================================\n",
      "\n",
      "Notes:\n",
      "[1] Standard Errors assume that the covariance matrix of the errors is correctly specified.\n",
      "                            OLS Regression Results                            \n",
      "==============================================================================\n",
      "Dep. Variable:                     P4   R-squared:                       0.068\n",
      "Model:                            OLS   Adj. R-squared:                  0.066\n",
      "Method:                 Least Squares   F-statistic:                     37.94\n",
      "Date:                Fri, 12 Mar 2021   Prob (F-statistic):           1.46e-09\n",
      "Time:                        11:28:19   Log-Likelihood:                 833.99\n",
      "No. Observations:                 525   AIC:                            -1664.\n",
      "Df Residuals:                     523   BIC:                            -1655.\n",
      "Df Model:                           1                                         \n",
      "Covariance Type:            nonrobust                                         \n",
      "==============================================================================\n",
      "                 coef    std err          t      P>|t|      [0.025      0.975]\n",
      "------------------------------------------------------------------------------\n",
      "const         -0.0001      0.002     -0.051      0.960      -0.004       0.004\n",
      "Mkt-RF         0.8446      0.137      6.159      0.000       0.575       1.114\n",
      "==============================================================================\n",
      "Omnibus:                       63.373   Durbin-Watson:                   2.006\n",
      "Prob(Omnibus):                  0.000   Jarque-Bera (JB):              438.349\n",
      "Skew:                          -0.202   Prob(JB):                     6.51e-96\n",
      "Kurtosis:                       7.458   Cond. No.                         63.5\n",
      "==============================================================================\n",
      "\n",
      "Notes:\n",
      "[1] Standard Errors assume that the covariance matrix of the errors is correctly specified.\n",
      "                            OLS Regression Results                            \n",
      "==============================================================================\n",
      "Dep. Variable:                     P5   R-squared:                       0.050\n",
      "Model:                            OLS   Adj. R-squared:                  0.049\n",
      "Method:                 Least Squares   F-statistic:                     27.73\n",
      "Date:                Fri, 12 Mar 2021   Prob (F-statistic):           2.04e-07\n",
      "Time:                        11:28:19   Log-Likelihood:                 809.00\n",
      "No. Observations:                 525   AIC:                            -1614.\n",
      "Df Residuals:                     523   BIC:                            -1605.\n",
      "Df Model:                           1                                         \n",
      "Covariance Type:            nonrobust                                         \n",
      "==============================================================================\n",
      "                 coef    std err          t      P>|t|      [0.025      0.975]\n",
      "------------------------------------------------------------------------------\n",
      "const         -0.0003      0.002     -0.135      0.893      -0.005       0.004\n",
      "Mkt-RF         0.7573      0.144      5.266      0.000       0.475       1.040\n",
      "==============================================================================\n",
      "Omnibus:                       73.980   Durbin-Watson:                   2.054\n",
      "Prob(Omnibus):                  0.000   Jarque-Bera (JB):              665.264\n",
      "Skew:                          -0.203   Prob(JB):                    3.47e-145\n",
      "Kurtosis:                       8.500   Cond. No.                         63.5\n",
      "==============================================================================\n",
      "\n",
      "Notes:\n",
      "[1] Standard Errors assume that the covariance matrix of the errors is correctly specified.\n"
     ]
    }
   ],
   "source": [
    "intercept = sm.add_constant(RM_RF)\n",
    "reg1 = sm.OLS(R_RF[\"P1\"], intercept).fit()\n",
    "reg2 = sm.OLS(R_RF[\"P2\"], intercept).fit()\n",
    "reg3 = sm.OLS(R_RF[\"P3\"], intercept).fit()\n",
    "reg4 = sm.OLS(R_RF[\"P4\"], intercept).fit()\n",
    "reg5 = sm.OLS(R_RF[\"P5\"], intercept).fit()\n",
    "\n",
    "print(reg1.summary())\n",
    "print(reg2.summary())\n",
    "print(reg3.summary())\n",
    "print(reg4.summary())\n",
    "print(reg5.summary())"
   ]
  },
  {
   "cell_type": "markdown",
   "metadata": {
    "id": "LBW6xAZq3B_O"
   },
   "source": [
    "Interprétation:\n",
    "- Les valeurs de R² des cinq régressions sont entre 5% et 7%, cela signifie que le modèle que nous utilisons ne permet pas d'expliquer toute la variance de R_Rf autour de sa moyenne. Elle en explique même très peu : moins de 10%. Ceci n'est pas étonnant car nous savons que le modèle CAPM à lui seul n'est pas suffisant pour expliquer l'entièreté de la rentabilité des actifs. En effet, il existe aujourd'hui un phénomène de \"zoo de facteurs\" où, les professionnels et chercheurs essaient de trouver de plus en plus de facteurs étant correlés avec la rentabilité.\n",
    "\n",
    "- Aucune des valeurs des alphas de Jensen ne sont significativement différents de 0. Ces valeurs ne sont donc pas interprétables. Ce n'est pas étonnant que les alphas ne soient pas significativement différents de 0 car notre stratégie consiste à faire du Market-timing et le portefeuille change régulièrement de composition au cours de sa période d'estimation. On sait que lorsqu'on fait du Market-timing, le alpha de Jensen sera inutilisable.\n",
    "\n",
    "- Tous les bêtas (coefficient de Mkt-Rf) ont des p-values de très proches de 0, donc les bêtas sont significativement différents de 0. Nous pouvons donc utiliser ces valeurs afin de calculer le ratio de Treynor des portefeuilles\n",
    "Les bétas étant tous compris entre 0 et 1, cela indique que les valeurs des portefeuilles amortissent celles du marché."
   ]
  },
  {
   "cell_type": "markdown",
   "metadata": {
    "id": "Z9kNP4vc3B_O"
   },
   "source": [
    "### Treynor"
   ]
  },
  {
   "cell_type": "code",
   "execution_count": 32,
   "metadata": {
    "colab": {
     "base_uri": "https://localhost:8080/"
    },
    "id": "hFP3uaYRugzH",
    "outputId": "3c179deb-ae12-455d-95d1-4c538a14962d"
   },
   "outputs": [
    {
     "name": "stdout",
     "output_type": "stream",
     "text": [
      "P1: 0.0015672539748178506\n",
      "P2: 0.0014169651241236192\n",
      "P3: -0.00014952162759545974\n",
      "P4: 0.0001476956778593596\n",
      "P5: -0.00012612475971423456\n"
     ]
    }
   ],
   "source": [
    "# treynor\n",
    "trey1 = R_RF[\"P1\"].mean()/reg1.params['Mkt-RF']\n",
    "trey2 = R_RF[\"P2\"].mean()/reg2.params['Mkt-RF']\n",
    "trey3 = R_RF[\"P3\"].mean()/reg3.params['Mkt-RF']\n",
    "trey4 = R_RF[\"P4\"].mean()/reg4.params['Mkt-RF']\n",
    "trey5 = R_RF[\"P5\"].mean()/reg5.params['Mkt-RF']\n",
    "\n",
    "print(\"P1: \" + str(trey1))\n",
    "print(\"P2: \" + str(trey2))\n",
    "print(\"P3: \" + str(trey3))\n",
    "print(\"P4: \" + str(trey4))\n",
    "print(\"P5: \" + str(trey5))"
   ]
  },
  {
   "cell_type": "markdown",
   "metadata": {
    "id": "SwIcSdDu3B_P"
   },
   "source": [
    "Interprétation: Nous pouvons voir que les ratios de Treynor des portefeuilles 1, 2 et 4 sont positifs tandis que ceux des portefeuilles 3 et 5 sont négatifs. Ce ratio indique l'excès de rendement par unité de risque pris. Le ratio pour P1 est plus élevé que le reste, ce qui est positif. Néanmoins, tous ces ratios sont très proches de 0, ce qui signifie que l'excès de rendement par rapport au risque est très faible."
   ]
  },
  {
   "cell_type": "markdown",
   "metadata": {
    "id": "GIAKx_YhLi1k"
   },
   "source": [
    "### P1-5"
   ]
  },
  {
   "cell_type": "code",
   "execution_count": 33,
   "metadata": {
    "colab": {
     "base_uri": "https://localhost:8080/",
     "height": 452
    },
    "id": "m6T-ihpfLi1k",
    "outputId": "546b774d-c7fa-47c1-e6d8-d1d6450ff760",
    "scrolled": true
   },
   "outputs": [
    {
     "data": {
      "text/html": [
       "<table class=\"simpletable\">\n",
       "<caption>OLS Regression Results</caption>\n",
       "<tr>\n",
       "  <th>Dep. Variable:</th>          <td>P1-P5</td>      <th>  R-squared:         </th> <td>   0.010</td>\n",
       "</tr>\n",
       "<tr>\n",
       "  <th>Model:</th>                   <td>OLS</td>       <th>  Adj. R-squared:    </th> <td>   0.008</td>\n",
       "</tr>\n",
       "<tr>\n",
       "  <th>Method:</th>             <td>Least Squares</td>  <th>  F-statistic:       </th> <td>   4.760</td>\n",
       "</tr>\n",
       "<tr>\n",
       "  <th>Date:</th>             <td>Fri, 12 Mar 2021</td> <th>  Prob (F-statistic):</th>  <td>0.0296</td> \n",
       "</tr>\n",
       "<tr>\n",
       "  <th>Time:</th>                 <td>11:28:20</td>     <th>  Log-Likelihood:    </th> <td>  270.43</td>\n",
       "</tr>\n",
       "<tr>\n",
       "  <th>No. Observations:</th>      <td>   489</td>      <th>  AIC:               </th> <td>  -536.9</td>\n",
       "</tr>\n",
       "<tr>\n",
       "  <th>Df Residuals:</th>          <td>   487</td>      <th>  BIC:               </th> <td>  -528.5</td>\n",
       "</tr>\n",
       "<tr>\n",
       "  <th>Df Model:</th>              <td>     1</td>      <th>                     </th>     <td> </td>   \n",
       "</tr>\n",
       "<tr>\n",
       "  <th>Covariance Type:</th>      <td>nonrobust</td>    <th>                     </th>     <td> </td>   \n",
       "</tr>\n",
       "</table>\n",
       "<table class=\"simpletable\">\n",
       "<tr>\n",
       "     <td></td>       <th>coef</th>     <th>std err</th>      <th>t</th>      <th>P>|t|</th>  <th>[0.025</th>    <th>0.975]</th>  \n",
       "</tr>\n",
       "<tr>\n",
       "  <th>const</th>  <td>    0.0041</td> <td>    0.006</td> <td>    0.644</td> <td> 0.520</td> <td>   -0.008</td> <td>    0.016</td>\n",
       "</tr>\n",
       "<tr>\n",
       "  <th>Mkt-RF</th> <td>    0.8713</td> <td>    0.399</td> <td>    2.182</td> <td> 0.030</td> <td>    0.087</td> <td>    1.656</td>\n",
       "</tr>\n",
       "</table>\n",
       "<table class=\"simpletable\">\n",
       "<tr>\n",
       "  <th>Omnibus:</th>       <td>36.635</td> <th>  Durbin-Watson:     </th> <td>   1.916</td>\n",
       "</tr>\n",
       "<tr>\n",
       "  <th>Prob(Omnibus):</th> <td> 0.000</td> <th>  Jarque-Bera (JB):  </th> <td> 113.767</td>\n",
       "</tr>\n",
       "<tr>\n",
       "  <th>Skew:</th>          <td> 0.280</td> <th>  Prob(JB):          </th> <td>1.98e-25</td>\n",
       "</tr>\n",
       "<tr>\n",
       "  <th>Kurtosis:</th>      <td> 5.296</td> <th>  Cond. No.          </th> <td>    63.3</td>\n",
       "</tr>\n",
       "</table><br/><br/>Notes:<br/>[1] Standard Errors assume that the covariance matrix of the errors is correctly specified."
      ],
      "text/plain": [
       "<class 'statsmodels.iolib.summary.Summary'>\n",
       "\"\"\"\n",
       "                            OLS Regression Results                            \n",
       "==============================================================================\n",
       "Dep. Variable:                  P1-P5   R-squared:                       0.010\n",
       "Model:                            OLS   Adj. R-squared:                  0.008\n",
       "Method:                 Least Squares   F-statistic:                     4.760\n",
       "Date:                Fri, 12 Mar 2021   Prob (F-statistic):             0.0296\n",
       "Time:                        11:28:20   Log-Likelihood:                 270.43\n",
       "No. Observations:                 489   AIC:                            -536.9\n",
       "Df Residuals:                     487   BIC:                            -528.5\n",
       "Df Model:                           1                                         \n",
       "Covariance Type:            nonrobust                                         \n",
       "==============================================================================\n",
       "                 coef    std err          t      P>|t|      [0.025      0.975]\n",
       "------------------------------------------------------------------------------\n",
       "const          0.0041      0.006      0.644      0.520      -0.008       0.016\n",
       "Mkt-RF         0.8713      0.399      2.182      0.030       0.087       1.656\n",
       "==============================================================================\n",
       "Omnibus:                       36.635   Durbin-Watson:                   1.916\n",
       "Prob(Omnibus):                  0.000   Jarque-Bera (JB):              113.767\n",
       "Skew:                           0.280   Prob(JB):                     1.98e-25\n",
       "Kurtosis:                       5.296   Cond. No.                         63.3\n",
       "==============================================================================\n",
       "\n",
       "Notes:\n",
       "[1] Standard Errors assume that the covariance matrix of the errors is correctly specified.\n",
       "\"\"\""
      ]
     },
     "execution_count": 33,
     "metadata": {},
     "output_type": "execute_result"
    }
   ],
   "source": [
    "# We change the intercept to fit the dates\n",
    "intercept_ls = sm.add_constant(RM_RF[long_short_RF.index])\n",
    "reg_ls = sm.OLS(long_short_RF, intercept_ls).fit()\n",
    "reg_ls.summary()"
   ]
  },
  {
   "cell_type": "markdown",
   "metadata": {
    "id": "DsYqXUG13B_Q"
   },
   "source": [
    "Interprétation: \n",
    "- La valeur de R² est de l'ordre de 1%, ce qui signifie que la variance des rendements du portefeuille 1-5 n'est que très faiblement expliquée par notre modèle. Cela est cohérent avec le fait que la variance des rendements de ce portefeuille est plus élevée que pour les autres portefeuilles et aussi le fait que le kurtosis des rendements est inférieur à 3. De plus, la constitution de ce portefeuille sur sa durée de vie est plus complexe.\n",
    "\n",
    "- La valeur du alpha n'est pas significativement différente de 0, il n'est donc pas interprétable.\n",
    "\n",
    "- La valeur de bêta est significativement différente de 0, on peut donc utiliser sa valeur afin de calculer le ratio de Treynor. Le béta est plutôt similaire aux portefeuilles P1 à P5."
   ]
  },
  {
   "cell_type": "code",
   "execution_count": 34,
   "metadata": {
    "colab": {
     "base_uri": "https://localhost:8080/"
    },
    "id": "w4GqXIYouTGa",
    "outputId": "32e17712-dc9d-4fc8-ae57-156c3c08b292"
   },
   "outputs": [
    {
     "data": {
      "text/plain": [
       "P1-P5    0.005001\n",
       "dtype: float64"
      ]
     },
     "execution_count": 34,
     "metadata": {},
     "output_type": "execute_result"
    }
   ],
   "source": [
    "# treynor\n",
    "long_short_RF.mean()/reg_ls.params['Mkt-RF']"
   ]
  },
  {
   "cell_type": "markdown",
   "metadata": {
    "id": "hJM4LifY3B_Q"
   },
   "source": [
    "Interprétation: Le ratio de Treynor de la stratégie est le plus élevé que tous les portefeuilles. Il présente donc une meilleure rentabilité par unité de risque que les portefeuilles. Ce qui semble cohérent avec les autres statistiques qu'on a vu précédemment."
   ]
  },
  {
   "cell_type": "markdown",
   "metadata": {
    "id": "EDhjYQo0Li1k"
   },
   "source": [
    "## Fama et French"
   ]
  },
  {
   "cell_type": "markdown",
   "metadata": {
    "id": "SccUBTlp3B_R"
   },
   "source": [
    "### Portefeuilles 1 à 5"
   ]
  },
  {
   "cell_type": "code",
   "execution_count": 35,
   "metadata": {
    "colab": {
     "base_uri": "https://localhost:8080/"
    },
    "id": "k6GfDkVWm9ZK",
    "outputId": "be19a5d7-5625-4fa2-89f5-7ea32188bb0c"
   },
   "outputs": [
    {
     "name": "stdout",
     "output_type": "stream",
     "text": [
      "                            OLS Regression Results                            \n",
      "==============================================================================\n",
      "Dep. Variable:                     P1   R-squared:                       0.068\n",
      "Model:                            OLS   Adj. R-squared:                  0.063\n",
      "Method:                 Least Squares   F-statistic:                     12.68\n",
      "Date:                Fri, 12 Mar 2021   Prob (F-statistic):           5.18e-08\n",
      "Time:                        11:28:20   Log-Likelihood:                 834.34\n",
      "No. Observations:                 525   AIC:                            -1661.\n",
      "Df Residuals:                     521   BIC:                            -1644.\n",
      "Df Model:                           3                                         \n",
      "Covariance Type:            nonrobust                                         \n",
      "==============================================================================\n",
      "                 coef    std err          t      P>|t|      [0.025      0.975]\n",
      "------------------------------------------------------------------------------\n",
      "const          0.0009      0.002      0.427      0.670      -0.003       0.005\n",
      "Mkt-RF         0.8286      0.140      5.926      0.000       0.554       1.103\n",
      "SMB            0.4736      0.338      1.403      0.161      -0.190       1.137\n",
      "HML           -0.2916      0.269     -1.083      0.279      -0.820       0.237\n",
      "==============================================================================\n",
      "Omnibus:                       79.402   Durbin-Watson:                   2.105\n",
      "Prob(Omnibus):                  0.000   Jarque-Bera (JB):              328.966\n",
      "Skew:                          -0.607   Prob(JB):                     3.68e-72\n",
      "Kurtosis:                       6.683   Cond. No.                         157.\n",
      "==============================================================================\n",
      "\n",
      "Notes:\n",
      "[1] Standard Errors assume that the covariance matrix of the errors is correctly specified.\n",
      "                            OLS Regression Results                            \n",
      "==============================================================================\n",
      "Dep. Variable:                     P2   R-squared:                       0.063\n",
      "Model:                            OLS   Adj. R-squared:                  0.058\n",
      "Method:                 Least Squares   F-statistic:                     11.73\n",
      "Date:                Fri, 12 Mar 2021   Prob (F-statistic):           1.90e-07\n",
      "Time:                        11:28:20   Log-Likelihood:                 839.45\n",
      "No. Observations:                 525   AIC:                            -1671.\n",
      "Df Residuals:                     521   BIC:                            -1654.\n",
      "Df Model:                           3                                         \n",
      "Covariance Type:            nonrobust                                         \n",
      "==============================================================================\n",
      "                 coef    std err          t      P>|t|      [0.025      0.975]\n",
      "------------------------------------------------------------------------------\n",
      "const          0.0008      0.002      0.377      0.707      -0.003       0.005\n",
      "Mkt-RF         0.7698      0.138      5.559      0.000       0.498       1.042\n",
      "SMB            0.5932      0.334      1.775      0.077      -0.063       1.250\n",
      "HML           -0.2565      0.267     -0.962      0.336      -0.780       0.267\n",
      "==============================================================================\n",
      "Omnibus:                      107.031   Durbin-Watson:                   2.048\n",
      "Prob(Omnibus):                  0.000   Jarque-Bera (JB):              592.673\n",
      "Skew:                          -0.760   Prob(JB):                    2.01e-129\n",
      "Kurtosis:                       7.978   Cond. No.                         157.\n",
      "==============================================================================\n",
      "\n",
      "Notes:\n",
      "[1] Standard Errors assume that the covariance matrix of the errors is correctly specified.\n",
      "                            OLS Regression Results                            \n",
      "==============================================================================\n",
      "Dep. Variable:                     P3   R-squared:                       0.063\n",
      "Model:                            OLS   Adj. R-squared:                  0.058\n",
      "Method:                 Least Squares   F-statistic:                     11.69\n",
      "Date:                Fri, 12 Mar 2021   Prob (F-statistic):           2.02e-07\n",
      "Time:                        11:28:20   Log-Likelihood:                 854.37\n",
      "No. Observations:                 525   AIC:                            -1701.\n",
      "Df Residuals:                     521   BIC:                            -1684.\n",
      "Df Model:                           3                                         \n",
      "Covariance Type:            nonrobust                                         \n",
      "==============================================================================\n",
      "                 coef    std err          t      P>|t|      [0.025      0.975]\n",
      "------------------------------------------------------------------------------\n",
      "const         -0.0003      0.002     -0.129      0.897      -0.004       0.004\n",
      "Mkt-RF         0.7583      0.135      5.634      0.000       0.494       1.023\n",
      "SMB            0.4281      0.325      1.318      0.188      -0.210       1.066\n",
      "HML           -0.0753      0.259     -0.291      0.771      -0.584       0.434\n",
      "==============================================================================\n",
      "Omnibus:                       93.713   Durbin-Watson:                   2.067\n",
      "Prob(Omnibus):                  0.000   Jarque-Bera (JB):              533.885\n",
      "Skew:                          -0.632   Prob(JB):                    1.17e-116\n",
      "Kurtosis:                       7.776   Cond. No.                         157.\n",
      "==============================================================================\n",
      "\n",
      "Notes:\n",
      "[1] Standard Errors assume that the covariance matrix of the errors is correctly specified.\n",
      "                            OLS Regression Results                            \n",
      "==============================================================================\n",
      "Dep. Variable:                     P4   R-squared:                       0.079\n",
      "Model:                            OLS   Adj. R-squared:                  0.074\n",
      "Method:                 Least Squares   F-statistic:                     14.95\n",
      "Date:                Fri, 12 Mar 2021   Prob (F-statistic):           2.40e-09\n",
      "Time:                        11:28:20   Log-Likelihood:                 837.28\n",
      "No. Observations:                 525   AIC:                            -1667.\n",
      "Df Residuals:                     521   BIC:                            -1650.\n",
      "Df Model:                           3                                         \n",
      "Covariance Type:            nonrobust                                         \n",
      "==============================================================================\n",
      "                 coef    std err          t      P>|t|      [0.025      0.975]\n",
      "------------------------------------------------------------------------------\n",
      "const      -1.853e-05      0.002     -0.009      0.993      -0.004       0.004\n",
      "Mkt-RF         0.8383      0.139      6.029      0.000       0.565       1.112\n",
      "SMB            0.8464      0.336      2.521      0.012       0.187       1.506\n",
      "HML           -0.1700      0.268     -0.635      0.526      -0.696       0.356\n",
      "==============================================================================\n",
      "Omnibus:                       61.074   Durbin-Watson:                   2.014\n",
      "Prob(Omnibus):                  0.000   Jarque-Bera (JB):              328.710\n",
      "Skew:                          -0.315   Prob(JB):                     4.18e-72\n",
      "Kurtosis:                       6.825   Cond. No.                         157.\n",
      "==============================================================================\n",
      "\n",
      "Notes:\n",
      "[1] Standard Errors assume that the covariance matrix of the errors is correctly specified.\n",
      "                            OLS Regression Results                            \n",
      "==============================================================================\n",
      "Dep. Variable:                     P5   R-squared:                       0.054\n",
      "Model:                            OLS   Adj. R-squared:                  0.049\n",
      "Method:                 Least Squares   F-statistic:                     9.929\n",
      "Date:                Fri, 12 Mar 2021   Prob (F-statistic):           2.25e-06\n",
      "Time:                        11:28:20   Log-Likelihood:                 810.03\n",
      "No. Observations:                 525   AIC:                            -1612.\n",
      "Df Residuals:                     521   BIC:                            -1595.\n",
      "Df Model:                           3                                         \n",
      "Covariance Type:            nonrobust                                         \n",
      "==============================================================================\n",
      "                 coef    std err          t      P>|t|      [0.025      0.975]\n",
      "------------------------------------------------------------------------------\n",
      "const         -0.0002      0.002     -0.103      0.918      -0.005       0.004\n",
      "Mkt-RF         0.7518      0.146      5.133      0.000       0.464       1.039\n",
      "SMB            0.5017      0.354      1.419      0.157      -0.193       1.196\n",
      "HML           -0.0811      0.282     -0.288      0.774      -0.635       0.473\n",
      "==============================================================================\n",
      "Omnibus:                       73.834   Durbin-Watson:                   2.063\n",
      "Prob(Omnibus):                  0.000   Jarque-Bera (JB):              645.169\n",
      "Skew:                          -0.222   Prob(JB):                    8.01e-141\n",
      "Kurtosis:                       8.413   Cond. No.                         157.\n",
      "==============================================================================\n",
      "\n",
      "Notes:\n",
      "[1] Standard Errors assume that the covariance matrix of the errors is correctly specified.\n"
     ]
    }
   ],
   "source": [
    "intercept_ff = sm.add_constant(FFResearch[[\"Mkt-RF\", \"SMB\", \"HML\"]]/100)\n",
    "\n",
    "reg_ff1 = sm.OLS(R_RF[\"P1\"], intercept_ff).fit()\n",
    "reg_ff2 = sm.OLS(R_RF[\"P2\"], intercept_ff).fit()\n",
    "reg_ff3 = sm.OLS(R_RF[\"P3\"], intercept_ff).fit()\n",
    "reg_ff4 = sm.OLS(R_RF[\"P4\"], intercept_ff).fit()\n",
    "reg_ff5 = sm.OLS(R_RF[\"P5\"], intercept_ff).fit()\n",
    "\n",
    "print(reg_ff1.summary())\n",
    "print(reg_ff2.summary())\n",
    "print(reg_ff3.summary())\n",
    "print(reg_ff4.summary())\n",
    "print(reg_ff5.summary())"
   ]
  },
  {
   "cell_type": "markdown",
   "metadata": {
    "id": "XVRtdl9B3B_S"
   },
   "source": [
    "Interprétation: \n",
    "- Les valeurs de R² sont de nouveau de l'ordre de 5 à 8%, ce qui signifie que notre nouveau modèle n'explique pas beaucoup plus de la variance de R_Rf que le modèle précédent. C'est surprenant car on pourrait être amené à penser qu'avec plus de facteurs, on peut mieux expliquer la variance.\n",
    "\n",
    "- Tous les $\\beta_M$ sont de nouveau significativement différents de 0.\n",
    "\n",
    "- Tous les $\\beta_{HML}$ ne sont pas significativement différents de 0, les rentabilités des portefeuilles ne sont donc pas explicables grâce au coefficient HML.\n",
    "\n",
    "- Le $\\beta_{SMB}$ est significativement différent de 0 à 5% pour P5 et à 10% pour P2, néanmoins tous les autres ne le sont pas. Pour les portefeuilles dont le $\\beta_{SMB}$ est significativement différent de 0, le R² n'est pas forcément plus grand qu'avec seulement le $\\beta_{M}$, donc l'apport de ce coefficient n'es tpas très important."
   ]
  },
  {
   "cell_type": "markdown",
   "metadata": {
    "id": "JyYSfqSA3B_S"
   },
   "source": [
    "### Portefeuille 1-5"
   ]
  },
  {
   "cell_type": "code",
   "execution_count": 36,
   "metadata": {
    "colab": {
     "base_uri": "https://localhost:8080/",
     "height": 494
    },
    "id": "lOLDpPlL3B_S",
    "outputId": "93a107f5-53aa-4b8c-bbad-12ceb0c90eb2",
    "scrolled": true
   },
   "outputs": [
    {
     "data": {
      "text/html": [
       "<table class=\"simpletable\">\n",
       "<caption>OLS Regression Results</caption>\n",
       "<tr>\n",
       "  <th>Dep. Variable:</th>          <td>P1-P5</td>      <th>  R-squared:         </th> <td>   0.011</td>\n",
       "</tr>\n",
       "<tr>\n",
       "  <th>Model:</th>                   <td>OLS</td>       <th>  Adj. R-squared:    </th> <td>   0.005</td>\n",
       "</tr>\n",
       "<tr>\n",
       "  <th>Method:</th>             <td>Least Squares</td>  <th>  F-statistic:       </th> <td>   1.851</td>\n",
       "</tr>\n",
       "<tr>\n",
       "  <th>Date:</th>             <td>Fri, 12 Mar 2021</td> <th>  Prob (F-statistic):</th>  <td> 0.137</td> \n",
       "</tr>\n",
       "<tr>\n",
       "  <th>Time:</th>                 <td>11:28:20</td>     <th>  Log-Likelihood:    </th> <td>  270.83</td>\n",
       "</tr>\n",
       "<tr>\n",
       "  <th>No. Observations:</th>      <td>   489</td>      <th>  AIC:               </th> <td>  -533.7</td>\n",
       "</tr>\n",
       "<tr>\n",
       "  <th>Df Residuals:</th>          <td>   485</td>      <th>  BIC:               </th> <td>  -516.9</td>\n",
       "</tr>\n",
       "<tr>\n",
       "  <th>Df Model:</th>              <td>     3</td>      <th>                     </th>     <td> </td>   \n",
       "</tr>\n",
       "<tr>\n",
       "  <th>Covariance Type:</th>      <td>nonrobust</td>    <th>                     </th>     <td> </td>   \n",
       "</tr>\n",
       "</table>\n",
       "<table class=\"simpletable\">\n",
       "<tr>\n",
       "     <td></td>       <th>coef</th>     <th>std err</th>      <th>t</th>      <th>P>|t|</th>  <th>[0.025</th>    <th>0.975]</th>  \n",
       "</tr>\n",
       "<tr>\n",
       "  <th>const</th>  <td>    0.0035</td> <td>    0.006</td> <td>    0.551</td> <td> 0.582</td> <td>   -0.009</td> <td>    0.016</td>\n",
       "</tr>\n",
       "<tr>\n",
       "  <th>Mkt-RF</th> <td>    0.9455</td> <td>    0.410</td> <td>    2.304</td> <td> 0.022</td> <td>    0.139</td> <td>    1.752</td>\n",
       "</tr>\n",
       "<tr>\n",
       "  <th>SMB</th>    <td>    0.2430</td> <td>    0.976</td> <td>    0.249</td> <td> 0.803</td> <td>   -1.674</td> <td>    2.160</td>\n",
       "</tr>\n",
       "<tr>\n",
       "  <th>HML</th>    <td>   -0.6921</td> <td>    0.786</td> <td>   -0.881</td> <td> 0.379</td> <td>   -2.236</td> <td>    0.852</td>\n",
       "</tr>\n",
       "</table>\n",
       "<table class=\"simpletable\">\n",
       "<tr>\n",
       "  <th>Omnibus:</th>       <td>36.374</td> <th>  Durbin-Watson:     </th> <td>   1.919</td>\n",
       "</tr>\n",
       "<tr>\n",
       "  <th>Prob(Omnibus):</th> <td> 0.000</td> <th>  Jarque-Bera (JB):  </th> <td> 113.406</td>\n",
       "</tr>\n",
       "<tr>\n",
       "  <th>Skew:</th>          <td> 0.274</td> <th>  Prob(JB):          </th> <td>2.37e-25</td>\n",
       "</tr>\n",
       "<tr>\n",
       "  <th>Kurtosis:</th>      <td> 5.295</td> <th>  Cond. No.          </th> <td>    156.</td>\n",
       "</tr>\n",
       "</table><br/><br/>Notes:<br/>[1] Standard Errors assume that the covariance matrix of the errors is correctly specified."
      ],
      "text/plain": [
       "<class 'statsmodels.iolib.summary.Summary'>\n",
       "\"\"\"\n",
       "                            OLS Regression Results                            \n",
       "==============================================================================\n",
       "Dep. Variable:                  P1-P5   R-squared:                       0.011\n",
       "Model:                            OLS   Adj. R-squared:                  0.005\n",
       "Method:                 Least Squares   F-statistic:                     1.851\n",
       "Date:                Fri, 12 Mar 2021   Prob (F-statistic):              0.137\n",
       "Time:                        11:28:20   Log-Likelihood:                 270.83\n",
       "No. Observations:                 489   AIC:                            -533.7\n",
       "Df Residuals:                     485   BIC:                            -516.9\n",
       "Df Model:                           3                                         \n",
       "Covariance Type:            nonrobust                                         \n",
       "==============================================================================\n",
       "                 coef    std err          t      P>|t|      [0.025      0.975]\n",
       "------------------------------------------------------------------------------\n",
       "const          0.0035      0.006      0.551      0.582      -0.009       0.016\n",
       "Mkt-RF         0.9455      0.410      2.304      0.022       0.139       1.752\n",
       "SMB            0.2430      0.976      0.249      0.803      -1.674       2.160\n",
       "HML           -0.6921      0.786     -0.881      0.379      -2.236       0.852\n",
       "==============================================================================\n",
       "Omnibus:                       36.374   Durbin-Watson:                   1.919\n",
       "Prob(Omnibus):                  0.000   Jarque-Bera (JB):              113.406\n",
       "Skew:                           0.274   Prob(JB):                     2.37e-25\n",
       "Kurtosis:                       5.295   Cond. No.                         156.\n",
       "==============================================================================\n",
       "\n",
       "Notes:\n",
       "[1] Standard Errors assume that the covariance matrix of the errors is correctly specified.\n",
       "\"\"\""
      ]
     },
     "execution_count": 36,
     "metadata": {},
     "output_type": "execute_result"
    }
   ],
   "source": [
    "FFResearch_adapted_long_short = pd.merge(long_short_RF, FFResearch[[\"Mkt-RF\", \"SMB\", \"HML\"]]/100, left_index=True, right_index=True)\n",
    "intercept_ff1_5 = sm.add_constant(FFResearch_adapted_long_short[[\"Mkt-RF\", \"SMB\", \"HML\"]])\n",
    "reg_ff1_5 = sm.OLS(FFResearch_adapted_long_short[\"P1-P5\"], intercept_ff1_5).fit()\n",
    "reg_ff1_5.summary()"
   ]
  },
  {
   "cell_type": "markdown",
   "metadata": {
    "id": "aqErBkhw3B_S"
   },
   "source": [
    "Interprétation: La R² est très faible de nouveau, donc notre modèle n'explique pas toute la variance des données. De plus seul le $\\beta_M$ est significativement différent de 0."
   ]
  },
  {
   "cell_type": "markdown",
   "metadata": {
    "id": "H-XNDai67FOJ"
   },
   "source": [
    "# Carhart"
   ]
  },
  {
   "cell_type": "code",
   "execution_count": 37,
   "metadata": {
    "colab": {
     "base_uri": "https://localhost:8080/"
    },
    "id": "95Zdvwhkm9ZL",
    "outputId": "732f5ee7-5ccd-4fc0-8ea1-2156d7fee3ba"
   },
   "outputs": [
    {
     "name": "stdout",
     "output_type": "stream",
     "text": [
      "                            OLS Regression Results                            \n",
      "==============================================================================\n",
      "Dep. Variable:                     P1   R-squared:                       0.069\n",
      "Model:                            OLS   Adj. R-squared:                  0.062\n",
      "Method:                 Least Squares   F-statistic:                     9.693\n",
      "Date:                Fri, 12 Mar 2021   Prob (F-statistic):           1.44e-07\n",
      "Time:                        11:28:20   Log-Likelihood:                 834.71\n",
      "No. Observations:                 525   AIC:                            -1659.\n",
      "Df Residuals:                     520   BIC:                            -1638.\n",
      "Df Model:                           4                                         \n",
      "Covariance Type:            nonrobust                                         \n",
      "==============================================================================\n",
      "                 coef    std err          t      P>|t|      [0.025      0.975]\n",
      "------------------------------------------------------------------------------\n",
      "const          0.0010      0.002      0.481      0.631      -0.003       0.005\n",
      "Mom            0.2722      0.316      0.862      0.389      -0.348       0.892\n",
      "Mkt-RF         0.8178      0.140      5.824      0.000       0.542       1.094\n",
      "SMB            0.5478      0.348      1.572      0.116      -0.137       1.232\n",
      "HML           -0.1103      0.342     -0.323      0.747      -0.781       0.561\n",
      "==============================================================================\n",
      "Omnibus:                       78.736   Durbin-Watson:                   2.107\n",
      "Prob(Omnibus):                  0.000   Jarque-Bera (JB):              320.268\n",
      "Skew:                          -0.607   Prob(JB):                     2.85e-70\n",
      "Kurtosis:                       6.628   Cond. No.                         200.\n",
      "==============================================================================\n",
      "\n",
      "Notes:\n",
      "[1] Standard Errors assume that the covariance matrix of the errors is correctly specified.\n",
      "                            OLS Regression Results                            \n",
      "==============================================================================\n",
      "Dep. Variable:                     P2   R-squared:                       0.065\n",
      "Model:                            OLS   Adj. R-squared:                  0.057\n",
      "Method:                 Least Squares   F-statistic:                     8.969\n",
      "Date:                Fri, 12 Mar 2021   Prob (F-statistic):           5.21e-07\n",
      "Time:                        11:28:20   Log-Likelihood:                 839.81\n",
      "No. Observations:                 525   AIC:                            -1670.\n",
      "Df Residuals:                     520   BIC:                            -1648.\n",
      "Df Model:                           4                                         \n",
      "Covariance Type:            nonrobust                                         \n",
      "==============================================================================\n",
      "                 coef    std err          t      P>|t|      [0.025      0.975]\n",
      "------------------------------------------------------------------------------\n",
      "const          0.0009      0.002      0.429      0.668      -0.003       0.005\n",
      "Mom            0.2628      0.313      0.841      0.401      -0.351       0.877\n",
      "Mkt-RF         0.7593      0.139      5.460      0.000       0.486       1.033\n",
      "SMB            0.6649      0.345      1.927      0.055      -0.013       1.343\n",
      "HML           -0.0815      0.338     -0.241      0.810      -0.746       0.583\n",
      "==============================================================================\n",
      "Omnibus:                      106.421   Durbin-Watson:                   2.049\n",
      "Prob(Omnibus):                  0.000   Jarque-Bera (JB):              576.675\n",
      "Skew:                          -0.762   Prob(JB):                    5.98e-126\n",
      "Kurtosis:                       7.903   Cond. No.                         200.\n",
      "==============================================================================\n",
      "\n",
      "Notes:\n",
      "[1] Standard Errors assume that the covariance matrix of the errors is correctly specified.\n",
      "                            OLS Regression Results                            \n",
      "==============================================================================\n",
      "Dep. Variable:                     P3   R-squared:                       0.064\n",
      "Model:                            OLS   Adj. R-squared:                  0.057\n",
      "Method:                 Least Squares   F-statistic:                     8.890\n",
      "Date:                Fri, 12 Mar 2021   Prob (F-statistic):           5.99e-07\n",
      "Time:                        11:28:20   Log-Likelihood:                 854.64\n",
      "No. Observations:                 525   AIC:                            -1699.\n",
      "Df Residuals:                     520   BIC:                            -1678.\n",
      "Df Model:                           4                                         \n",
      "Covariance Type:            nonrobust                                         \n",
      "==============================================================================\n",
      "                 coef    std err          t      P>|t|      [0.025      0.975]\n",
      "------------------------------------------------------------------------------\n",
      "const         -0.0002      0.002     -0.082      0.934      -0.004       0.004\n",
      "Mom            0.2218      0.304      0.730      0.466      -0.375       0.819\n",
      "Mkt-RF         0.7495      0.135      5.544      0.000       0.484       1.015\n",
      "SMB            0.4886      0.335      1.456      0.146      -0.170       1.148\n",
      "HML            0.0724      0.329      0.220      0.826      -0.574       0.718\n",
      "==============================================================================\n",
      "Omnibus:                       93.105   Durbin-Watson:                   2.068\n",
      "Prob(Omnibus):                  0.000   Jarque-Bera (JB):              521.584\n",
      "Skew:                          -0.632   Prob(JB):                    5.49e-114\n",
      "Kurtosis:                       7.717   Cond. No.                         200.\n",
      "==============================================================================\n",
      "\n",
      "Notes:\n",
      "[1] Standard Errors assume that the covariance matrix of the errors is correctly specified.\n",
      "                            OLS Regression Results                            \n",
      "==============================================================================\n",
      "Dep. Variable:                     P4   R-squared:                       0.081\n",
      "Model:                            OLS   Adj. R-squared:                  0.074\n",
      "Method:                 Least Squares   F-statistic:                     11.46\n",
      "Date:                Fri, 12 Mar 2021   Prob (F-statistic):           6.35e-09\n",
      "Time:                        11:28:20   Log-Likelihood:                 837.79\n",
      "No. Observations:                 525   AIC:                            -1666.\n",
      "Df Residuals:                     520   BIC:                            -1644.\n",
      "Df Model:                           4                                         \n",
      "Covariance Type:            nonrobust                                         \n",
      "==============================================================================\n",
      "                 coef    std err          t      P>|t|      [0.025      0.975]\n",
      "------------------------------------------------------------------------------\n",
      "const          0.0001      0.002      0.055      0.956      -0.004       0.004\n",
      "Mom            0.3152      0.314      1.004      0.316      -0.301       0.932\n",
      "Mkt-RF         0.8259      0.140      5.916      0.000       0.552       1.100\n",
      "SMB            0.9323      0.346      2.692      0.007       0.252       1.613\n",
      "HML            0.0400      0.340      0.118      0.906      -0.627       0.707\n",
      "==============================================================================\n",
      "Omnibus:                       60.194   Durbin-Watson:                   2.013\n",
      "Prob(Omnibus):                  0.000   Jarque-Bera (JB):              313.080\n",
      "Skew:                          -0.320   Prob(JB):                     1.04e-68\n",
      "Kurtosis:                       6.729   Cond. No.                         200.\n",
      "==============================================================================\n",
      "\n",
      "Notes:\n",
      "[1] Standard Errors assume that the covariance matrix of the errors is correctly specified.\n",
      "                            OLS Regression Results                            \n",
      "==============================================================================\n",
      "Dep. Variable:                     P5   R-squared:                       0.055\n",
      "Model:                            OLS   Adj. R-squared:                  0.047\n",
      "Method:                 Least Squares   F-statistic:                     7.508\n",
      "Date:                Fri, 12 Mar 2021   Prob (F-statistic):           6.94e-06\n",
      "Time:                        11:28:20   Log-Likelihood:                 810.17\n",
      "No. Observations:                 525   AIC:                            -1610.\n",
      "Df Residuals:                     520   BIC:                            -1589.\n",
      "Df Model:                           4                                         \n",
      "Covariance Type:            nonrobust                                         \n",
      "==============================================================================\n",
      "                 coef    std err          t      P>|t|      [0.025      0.975]\n",
      "------------------------------------------------------------------------------\n",
      "const         -0.0002      0.002     -0.069      0.945      -0.005       0.004\n",
      "Mom            0.1773      0.331      0.536      0.592      -0.473       0.827\n",
      "Mkt-RF         0.7447      0.147      5.061      0.000       0.456       1.034\n",
      "SMB            0.5500      0.365      1.506      0.133      -0.167       1.267\n",
      "HML            0.0370      0.358      0.103      0.918      -0.666       0.740\n",
      "==============================================================================\n",
      "Omnibus:                       73.365   Durbin-Watson:                   2.064\n",
      "Prob(Omnibus):                  0.000   Jarque-Bera (JB):              638.223\n",
      "Skew:                          -0.217   Prob(JB):                    2.58e-139\n",
      "Kurtosis:                       8.384   Cond. No.                         200.\n",
      "==============================================================================\n",
      "\n",
      "Notes:\n",
      "[1] Standard Errors assume that the covariance matrix of the errors is correctly specified.\n"
     ]
    }
   ],
   "source": [
    "# We use merge in order to keep only the dates present in both dataframes\n",
    "R_RF_and_FFResearch_merged = pd.merge(R_RF, FFResearch/100, left_index=True, right_index=True)\n",
    "final_merge = pd.merge(R_RF_and_FFResearch_merged, FFMomentum/100, left_index=True, right_index=True)\n",
    "\n",
    "intercept_c = sm.add_constant(final_merge[['Mom   ', 'Mkt-RF', 'SMB', 'HML']])\n",
    "\n",
    "reg_c1 = sm.OLS(final_merge[\"P1\"], intercept_c).fit()\n",
    "reg_c2 = sm.OLS(final_merge[\"P2\"], intercept_c).fit()\n",
    "reg_c3 = sm.OLS(final_merge[\"P3\"], intercept_c).fit()\n",
    "reg_c4 = sm.OLS(final_merge[\"P4\"], intercept_c).fit()\n",
    "reg_c5 = sm.OLS(final_merge[\"P5\"], intercept_c).fit()\n",
    "\n",
    "print(reg_c1.summary())\n",
    "print(reg_c2.summary())\n",
    "print(reg_c3.summary())\n",
    "print(reg_c4.summary())\n",
    "print(reg_c5.summary())"
   ]
  },
  {
   "cell_type": "markdown",
   "metadata": {
    "id": "07zsPKHV3B_T"
   },
   "source": [
    "Interprétation:\n",
    "- Pour calculer le facteur UMD, nous avons décidé de prendre les valeurs présentes dans le fichier FF-Momentum fourni. On aurait pu également utiliser les rendements de la stratégie long-short directement.\n",
    "\n",
    "- Une fois de plus, les valeurs de R² n'ont pas l'air d'avoir beaucoup changé. Ils restent entre 5% et 8%. \n",
    "\n",
    "- Tous les $\\beta_{UMD}$ sont significativement différents de 0, ce qui signifie que les rendements des portefeuilles sont expliqués en partie par le coefficient P1-P5 ou UMD.\n",
    "\n",
    "- Seuls les $\\beta_{M}$ sont significativement différents de 0. Le reste est ininterprétable."
   ]
  },
  {
   "cell_type": "code",
   "execution_count": 38,
   "metadata": {},
   "outputs": [
    {
     "data": {
      "text/html": [
       "<table class=\"simpletable\">\n",
       "<caption>OLS Regression Results</caption>\n",
       "<tr>\n",
       "  <th>Dep. Variable:</th>          <td>P1-P5</td>      <th>  R-squared:         </th> <td>   0.012</td>\n",
       "</tr>\n",
       "<tr>\n",
       "  <th>Model:</th>                   <td>OLS</td>       <th>  Adj. R-squared:    </th> <td>   0.004</td>\n",
       "</tr>\n",
       "<tr>\n",
       "  <th>Method:</th>             <td>Least Squares</td>  <th>  F-statistic:       </th> <td>   1.527</td>\n",
       "</tr>\n",
       "<tr>\n",
       "  <th>Date:</th>             <td>Fri, 12 Mar 2021</td> <th>  Prob (F-statistic):</th>  <td> 0.193</td> \n",
       "</tr>\n",
       "<tr>\n",
       "  <th>Time:</th>                 <td>11:28:20</td>     <th>  Log-Likelihood:    </th> <td>  271.11</td>\n",
       "</tr>\n",
       "<tr>\n",
       "  <th>No. Observations:</th>      <td>   489</td>      <th>  AIC:               </th> <td>  -532.2</td>\n",
       "</tr>\n",
       "<tr>\n",
       "  <th>Df Residuals:</th>          <td>   484</td>      <th>  BIC:               </th> <td>  -511.3</td>\n",
       "</tr>\n",
       "<tr>\n",
       "  <th>Df Model:</th>              <td>     4</td>      <th>                     </th>     <td> </td>   \n",
       "</tr>\n",
       "<tr>\n",
       "  <th>Covariance Type:</th>      <td>nonrobust</td>    <th>                     </th>     <td> </td>   \n",
       "</tr>\n",
       "</table>\n",
       "<table class=\"simpletable\">\n",
       "<tr>\n",
       "     <td></td>       <th>coef</th>     <th>std err</th>      <th>t</th>      <th>P>|t|</th>  <th>[0.025</th>    <th>0.975]</th>  \n",
       "</tr>\n",
       "<tr>\n",
       "  <th>const</th>  <td>    0.0032</td> <td>    0.006</td> <td>    0.501</td> <td> 0.617</td> <td>   -0.009</td> <td>    0.016</td>\n",
       "</tr>\n",
       "<tr>\n",
       "  <th>Mom   </th> <td>   -0.6839</td> <td>    0.915</td> <td>   -0.747</td> <td> 0.455</td> <td>   -2.483</td> <td>    1.115</td>\n",
       "</tr>\n",
       "<tr>\n",
       "  <th>Mkt-RF</th> <td>    0.9817</td> <td>    0.413</td> <td>    2.375</td> <td> 0.018</td> <td>    0.170</td> <td>    1.794</td>\n",
       "</tr>\n",
       "<tr>\n",
       "  <th>SMB</th>    <td>    0.0661</td> <td>    1.005</td> <td>    0.066</td> <td> 0.948</td> <td>   -1.908</td> <td>    2.040</td>\n",
       "</tr>\n",
       "<tr>\n",
       "  <th>HML</th>    <td>   -1.1591</td> <td>    1.005</td> <td>   -1.154</td> <td> 0.249</td> <td>   -3.133</td> <td>    0.815</td>\n",
       "</tr>\n",
       "</table>\n",
       "<table class=\"simpletable\">\n",
       "<tr>\n",
       "  <th>Omnibus:</th>       <td>36.426</td> <th>  Durbin-Watson:     </th> <td>   1.917</td>\n",
       "</tr>\n",
       "<tr>\n",
       "  <th>Prob(Omnibus):</th> <td> 0.000</td> <th>  Jarque-Bera (JB):  </th> <td> 112.520</td>\n",
       "</tr>\n",
       "<tr>\n",
       "  <th>Skew:</th>          <td> 0.279</td> <th>  Prob(JB):          </th> <td>3.69e-25</td>\n",
       "</tr>\n",
       "<tr>\n",
       "  <th>Kurtosis:</th>      <td> 5.283</td> <th>  Cond. No.          </th> <td>    199.</td>\n",
       "</tr>\n",
       "</table><br/><br/>Notes:<br/>[1] Standard Errors assume that the covariance matrix of the errors is correctly specified."
      ],
      "text/plain": [
       "<class 'statsmodels.iolib.summary.Summary'>\n",
       "\"\"\"\n",
       "                            OLS Regression Results                            \n",
       "==============================================================================\n",
       "Dep. Variable:                  P1-P5   R-squared:                       0.012\n",
       "Model:                            OLS   Adj. R-squared:                  0.004\n",
       "Method:                 Least Squares   F-statistic:                     1.527\n",
       "Date:                Fri, 12 Mar 2021   Prob (F-statistic):              0.193\n",
       "Time:                        11:28:20   Log-Likelihood:                 271.11\n",
       "No. Observations:                 489   AIC:                            -532.2\n",
       "Df Residuals:                     484   BIC:                            -511.3\n",
       "Df Model:                           4                                         \n",
       "Covariance Type:            nonrobust                                         \n",
       "==============================================================================\n",
       "                 coef    std err          t      P>|t|      [0.025      0.975]\n",
       "------------------------------------------------------------------------------\n",
       "const          0.0032      0.006      0.501      0.617      -0.009       0.016\n",
       "Mom           -0.6839      0.915     -0.747      0.455      -2.483       1.115\n",
       "Mkt-RF         0.9817      0.413      2.375      0.018       0.170       1.794\n",
       "SMB            0.0661      1.005      0.066      0.948      -1.908       2.040\n",
       "HML           -1.1591      1.005     -1.154      0.249      -3.133       0.815\n",
       "==============================================================================\n",
       "Omnibus:                       36.426   Durbin-Watson:                   1.917\n",
       "Prob(Omnibus):                  0.000   Jarque-Bera (JB):              112.520\n",
       "Skew:                           0.279   Prob(JB):                     3.69e-25\n",
       "Kurtosis:                       5.283   Cond. No.                         199.\n",
       "==============================================================================\n",
       "\n",
       "Notes:\n",
       "[1] Standard Errors assume that the covariance matrix of the errors is correctly specified.\n",
       "\"\"\""
      ]
     },
     "execution_count": 38,
     "metadata": {},
     "output_type": "execute_result"
    }
   ],
   "source": [
    "long_short_RF_and_long_short_merged = pd.merge(long_short_RF, FFResearch/100, left_index=True, right_index=True)\n",
    "final_merge2 = pd.merge(long_short_RF_and_long_short_merged, FFMomentum/100, left_index=True, right_index=True)\n",
    "\n",
    "intercept_c_ls = sm.add_constant(final_merge2[['Mom   ', 'Mkt-RF', 'SMB', 'HML']])\n",
    "\n",
    "reg_c_ls = sm.OLS(final_merge2[\"P1-P5\"], intercept_c_ls).fit()\n",
    "\n",
    "reg_c_ls.summary()"
   ]
  },
  {
   "cell_type": "markdown",
   "metadata": {},
   "source": [
    "Interprétation :\n",
    "\n",
    "- On rencontre les mêmes problèmes d'interprétation avec la stratégie long-short qu'avec les portefeuilles individuels. On peut cependant remarquer que le béta est très proche de 1, ce qui indique que les variations de cette stratégie sont très similaires aux variations du marché."
   ]
  },
  {
   "cell_type": "markdown",
   "metadata": {},
   "source": [
    "## Global interpretation"
   ]
  },
  {
   "cell_type": "markdown",
   "metadata": {},
   "source": [
    "Sachant que notre stratégie est semblable à du market timing, nous aurions pu faire des regressions sur les périodes pendant lesquels les portefeuilles n'étaient pas rebalancés, c'est-à-dire des périodes de un mois afin d'estimer les bêtas et les alphas sur ces plus courtes périodes et potentiellement obtenir des valeurs, notamment pour alpha, significativement différent de 0.\n",
    "\n",
    "Néanmoins, nous voyons que, rapporté à son risque, aucune des stratégies précédentes ne surperforme réellement le sans-risque. En effet, aucun des ratios de Sharpe ni de Treynor ne sont supérieurs à 1 et aucun alpha n'est sgnificativement différent de 0. Nous n'avons donc pas jugé utile de réaliser beaucoup plus d'analyses statistiques sur ces données."
   ]
  },
  {
   "cell_type": "markdown",
   "metadata": {
    "id": "l8NyIwT33mCD"
   },
   "source": [
    "# CRIX"
   ]
  },
  {
   "cell_type": "markdown",
   "metadata": {
    "id": "BS4c0ycw_Y7W"
   },
   "source": [
    "# Initialization"
   ]
  },
  {
   "cell_type": "code",
   "execution_count": 39,
   "metadata": {
    "id": "CHmQ_0YO3ln5"
   },
   "outputs": [],
   "source": [
    "crix_prices_returns = crix_prices.pct_change()\n",
    "crix_RF = crix_prices_returns.subtract(FFResearch[\"RF\"]/100, axis = 0).dropna()"
   ]
  },
  {
   "cell_type": "markdown",
   "metadata": {
    "id": "HvIn8tPd_c4Z"
   },
   "source": [
    "# Treynor et Jensen"
   ]
  },
  {
   "cell_type": "markdown",
   "metadata": {
    "id": "hqZuvtpr_-sm"
   },
   "source": [
    "## Regressions"
   ]
  },
  {
   "cell_type": "code",
   "execution_count": 40,
   "metadata": {
    "colab": {
     "base_uri": "https://localhost:8080/"
    },
    "id": "dPoCd_Ip5uf7",
    "outputId": "a4df3b98-6f60-4942-dcc5-abb00157e7c3"
   },
   "outputs": [
    {
     "name": "stdout",
     "output_type": "stream",
     "text": [
      "                            OLS Regression Results                            \n",
      "==============================================================================\n",
      "Dep. Variable:                     P1   R-squared:                       0.027\n",
      "Model:                            OLS   Adj. R-squared:                  0.025\n",
      "Method:                 Least Squares   F-statistic:                     14.57\n",
      "Date:                Fri, 12 Mar 2021   Prob (F-statistic):           0.000152\n",
      "Time:                        11:28:20   Log-Likelihood:                 823.05\n",
      "No. Observations:                 525   AIC:                            -1642.\n",
      "Df Residuals:                     523   BIC:                            -1634.\n",
      "Df Model:                           1                                         \n",
      "Covariance Type:            nonrobust                                         \n",
      "==============================================================================\n",
      "                 coef    std err          t      P>|t|      [0.025      0.975]\n",
      "------------------------------------------------------------------------------\n",
      "const          0.0011      0.002      0.509      0.611      -0.003       0.005\n",
      "price         -0.1972      0.052     -3.816      0.000      -0.299      -0.096\n",
      "==============================================================================\n",
      "Omnibus:                      163.719   Durbin-Watson:                   1.872\n",
      "Prob(Omnibus):                  0.000   Jarque-Bera (JB):             1406.900\n",
      "Skew:                          -1.106   Prob(JB):                    3.13e-306\n",
      "Kurtosis:                      10.708   Cond. No.                         23.4\n",
      "==============================================================================\n",
      "\n",
      "Notes:\n",
      "[1] Standard Errors assume that the covariance matrix of the errors is correctly specified.\n",
      "                            OLS Regression Results                            \n",
      "==============================================================================\n",
      "Dep. Variable:                     P2   R-squared:                       0.014\n",
      "Model:                            OLS   Adj. R-squared:                  0.012\n",
      "Method:                 Least Squares   F-statistic:                     7.234\n",
      "Date:                Fri, 12 Mar 2021   Prob (F-statistic):            0.00738\n",
      "Time:                        11:28:20   Log-Likelihood:                 825.90\n",
      "No. Observations:                 525   AIC:                            -1648.\n",
      "Df Residuals:                     523   BIC:                            -1639.\n",
      "Df Model:                           1                                         \n",
      "Covariance Type:            nonrobust                                         \n",
      "==============================================================================\n",
      "                 coef    std err          t      P>|t|      [0.025      0.975]\n",
      "------------------------------------------------------------------------------\n",
      "const          0.0010      0.002      0.443      0.658      -0.003       0.005\n",
      "price         -0.1382      0.051     -2.690      0.007      -0.239      -0.037\n",
      "==============================================================================\n",
      "Omnibus:                      189.742   Durbin-Watson:                   1.894\n",
      "Prob(Omnibus):                  0.000   Jarque-Bera (JB):             2138.197\n",
      "Skew:                          -1.243   Prob(JB):                         0.00\n",
      "Kurtosis:                      12.569   Cond. No.                         23.4\n",
      "==============================================================================\n",
      "\n",
      "Notes:\n",
      "[1] Standard Errors assume that the covariance matrix of the errors is correctly specified.\n",
      "                            OLS Regression Results                            \n",
      "==============================================================================\n",
      "Dep. Variable:                     P3   R-squared:                       0.015\n",
      "Model:                            OLS   Adj. R-squared:                  0.013\n",
      "Method:                 Least Squares   F-statistic:                     7.873\n",
      "Date:                Fri, 12 Mar 2021   Prob (F-statistic):            0.00520\n",
      "Time:                        11:28:20   Log-Likelihood:                 841.20\n",
      "No. Observations:                 525   AIC:                            -1678.\n",
      "Df Residuals:                     523   BIC:                            -1670.\n",
      "Df Model:                           1                                         \n",
      "Covariance Type:            nonrobust                                         \n",
      "==============================================================================\n",
      "                 coef    std err          t      P>|t|      [0.025      0.975]\n",
      "------------------------------------------------------------------------------\n",
      "const         -0.0002      0.002     -0.104      0.917      -0.004       0.004\n",
      "price         -0.1401      0.050     -2.806      0.005      -0.238      -0.042\n",
      "==============================================================================\n",
      "Omnibus:                      169.706   Durbin-Watson:                   1.917\n",
      "Prob(Omnibus):                  0.000   Jarque-Bera (JB):             1907.832\n",
      "Skew:                          -1.071   Prob(JB):                         0.00\n",
      "Kurtosis:                      12.090   Cond. No.                         23.4\n",
      "==============================================================================\n",
      "\n",
      "Notes:\n",
      "[1] Standard Errors assume that the covariance matrix of the errors is correctly specified.\n",
      "                            OLS Regression Results                            \n",
      "==============================================================================\n",
      "Dep. Variable:                     P4   R-squared:                       0.012\n",
      "Model:                            OLS   Adj. R-squared:                  0.010\n",
      "Method:                 Least Squares   F-statistic:                     6.448\n",
      "Date:                Fri, 12 Mar 2021   Prob (F-statistic):             0.0114\n",
      "Time:                        11:28:20   Log-Likelihood:                 818.82\n",
      "No. Observations:                 525   AIC:                            -1634.\n",
      "Df Residuals:                     523   BIC:                            -1625.\n",
      "Df Model:                           1                                         \n",
      "Covariance Type:            nonrobust                                         \n",
      "==============================================================================\n",
      "                 coef    std err          t      P>|t|      [0.025      0.975]\n",
      "------------------------------------------------------------------------------\n",
      "const       2.332e-05      0.002      0.010      0.992      -0.004       0.004\n",
      "price         -0.1323      0.052     -2.539      0.011      -0.235      -0.030\n",
      "==============================================================================\n",
      "Omnibus:                      121.238   Durbin-Watson:                   1.888\n",
      "Prob(Omnibus):                  0.000   Jarque-Bera (JB):             1463.861\n",
      "Skew:                          -0.622   Prob(JB):                         0.00\n",
      "Kurtosis:                      11.085   Cond. No.                         23.4\n",
      "==============================================================================\n",
      "\n",
      "Notes:\n",
      "[1] Standard Errors assume that the covariance matrix of the errors is correctly specified.\n",
      "                            OLS Regression Results                            \n",
      "==============================================================================\n",
      "Dep. Variable:                     P5   R-squared:                       0.015\n",
      "Model:                            OLS   Adj. R-squared:                  0.013\n",
      "Method:                 Least Squares   F-statistic:                     7.995\n",
      "Date:                Fri, 12 Mar 2021   Prob (F-statistic):            0.00487\n",
      "Time:                        11:28:20   Log-Likelihood:                 799.41\n",
      "No. Observations:                 525   AIC:                            -1595.\n",
      "Df Residuals:                     523   BIC:                            -1586.\n",
      "Df Model:                           1                                         \n",
      "Covariance Type:            nonrobust                                         \n",
      "==============================================================================\n",
      "                 coef    std err          t      P>|t|      [0.025      0.975]\n",
      "------------------------------------------------------------------------------\n",
      "const         -0.0002      0.002     -0.092      0.927      -0.005       0.004\n",
      "price         -0.1528      0.054     -2.828      0.005      -0.259      -0.047\n",
      "==============================================================================\n",
      "Omnibus:                      130.387   Durbin-Watson:                   1.910\n",
      "Prob(Omnibus):                  0.000   Jarque-Bera (JB):             2012.071\n",
      "Skew:                          -0.618   Prob(JB):                         0.00\n",
      "Kurtosis:                      12.511   Cond. No.                         23.4\n",
      "==============================================================================\n",
      "\n",
      "Notes:\n",
      "[1] Standard Errors assume that the covariance matrix of the errors is correctly specified.\n"
     ]
    }
   ],
   "source": [
    "intercept_crix = sm.add_constant(crix_RF)\n",
    "\n",
    "reg_crix1 = sm.OLS(R_RF[\"P1\"], intercept_crix).fit()\n",
    "reg_crix2 = sm.OLS(R_RF[\"P2\"], intercept_crix).fit()\n",
    "reg_crix3 = sm.OLS(R_RF[\"P3\"], intercept_crix).fit()\n",
    "reg_crix4 = sm.OLS(R_RF[\"P4\"], intercept_crix).fit()\n",
    "reg_crix5 = sm.OLS(R_RF[\"P5\"], intercept_crix).fit()\n",
    "\n",
    "print(reg_crix1.summary())\n",
    "print(reg_crix2.summary())\n",
    "print(reg_crix3.summary())\n",
    "print(reg_crix4.summary())\n",
    "print(reg_crix5.summary())"
   ]
  },
  {
   "cell_type": "markdown",
   "metadata": {
    "id": "6GANL9NFADWI"
   },
   "source": [
    "Interprétation :\n",
    "\n",
    "- La valeur du R² est de l'ordre de 1%, ce qui est beaucoup plus faible que lors de la régression avec seulement le paramètre Mkt-Rf. On explique donc encore moins la variance en utilisant le CRIX qu'avec les données Mkt-Rf fournies. Cela pourrait être dû au fait que les cryptomonnaies sont totalement décentralisées et dérégularisées, et que donc rapporter cet indice à un taux sans risque a peu de sens car sa valeur est pour l'instant, purement spéculative.\n",
    "\n",
    "- Avec la regression sur les valeurs des rendements du CRIX, les alphas ne sont toujours pas significativement différents de 0. Néanmoins de la même façon que précédemment, les bêtas le sont et on remarque qu'ils sont tous négatifs. Cela signifie que les 5 portefeuilles vont en moyenne à contresens du CRIX, lorsque celui-ci baisse, nos portefeuilles vont monter et quand le CRIX monte, nos portefeuilles vont avoir tendance à baisser.\n",
    "\n",
    "- Le portefeuille P1 est le plus fortement négatif, ce qui signifie qu'il est celui qui se comporte le plus comme une valeur refuge dans le cas où le marché baisse."
   ]
  },
  {
   "cell_type": "markdown",
   "metadata": {
    "id": "2jknIhKBAJdW"
   },
   "source": [
    "## Treynor"
   ]
  },
  {
   "cell_type": "code",
   "execution_count": 41,
   "metadata": {
    "colab": {
     "base_uri": "https://localhost:8080/"
    },
    "id": "oFraGWMF7Ofc",
    "outputId": "2176b9b8-d85d-488a-ca5e-8a6ceaff9677"
   },
   "outputs": [
    {
     "name": "stdout",
     "output_type": "stream",
     "text": [
      "P1: -0.006463659645597248\n",
      "P2: -0.007801150599284481\n",
      "P3: 0.0008138237226066562\n",
      "P4: -0.0009429690715240608\n",
      "P5: 0.0006249088481287904\n"
     ]
    }
   ],
   "source": [
    "trey_crix1 = R_RF[\"P1\"].mean()/reg_crix1.params['price']\n",
    "trey_crix2 = R_RF[\"P2\"].mean()/reg_crix2.params['price']\n",
    "trey_crix3 = R_RF[\"P3\"].mean()/reg_crix3.params['price']\n",
    "trey_crix4 = R_RF[\"P4\"].mean()/reg_crix4.params['price']\n",
    "trey_crix5 = R_RF[\"P5\"].mean()/reg_crix5.params['price']\n",
    "\n",
    "print(\"P1: \" + str(trey_crix1))\n",
    "print(\"P2: \" + str(trey_crix2))\n",
    "print(\"P3: \" + str(trey_crix3))\n",
    "print(\"P4: \" + str(trey_crix4))\n",
    "print(\"P5: \" + str(trey_crix5))"
   ]
  },
  {
   "cell_type": "markdown",
   "metadata": {
    "id": "5Fwx3qvUA3V6"
   },
   "source": [
    "Interprétation : \n",
    "- Les ratios de Treynor sont du même ordre de grandeur que ceux avec Mkt-Rf, néanmoins ici le premier portefeuille a un ratio négatif, cela vient notamment du fait que son beta est négatif."
   ]
  },
  {
   "cell_type": "markdown",
   "metadata": {
    "id": "4Krb8ZYGBPmz"
   },
   "source": [
    "## P1-5"
   ]
  },
  {
   "cell_type": "code",
   "execution_count": 42,
   "metadata": {
    "colab": {
     "base_uri": "https://localhost:8080/",
     "height": 452
    },
    "id": "aC12hIzF7u3a",
    "outputId": "27b425a2-49c7-4468-9e08-d26f45de1b1b",
    "scrolled": true
   },
   "outputs": [
    {
     "data": {
      "text/html": [
       "<table class=\"simpletable\">\n",
       "<caption>OLS Regression Results</caption>\n",
       "<tr>\n",
       "  <th>Dep. Variable:</th>          <td>P1-P5</td>      <th>  R-squared:         </th> <td>   0.006</td>\n",
       "</tr>\n",
       "<tr>\n",
       "  <th>Model:</th>                   <td>OLS</td>       <th>  Adj. R-squared:    </th> <td>   0.004</td>\n",
       "</tr>\n",
       "<tr>\n",
       "  <th>Method:</th>             <td>Least Squares</td>  <th>  F-statistic:       </th> <td>   2.888</td>\n",
       "</tr>\n",
       "<tr>\n",
       "  <th>Date:</th>             <td>Fri, 12 Mar 2021</td> <th>  Prob (F-statistic):</th>  <td>0.0899</td> \n",
       "</tr>\n",
       "<tr>\n",
       "  <th>Time:</th>                 <td>11:28:20</td>     <th>  Log-Likelihood:    </th> <td>  269.49</td>\n",
       "</tr>\n",
       "<tr>\n",
       "  <th>No. Observations:</th>      <td>   489</td>      <th>  AIC:               </th> <td>  -535.0</td>\n",
       "</tr>\n",
       "<tr>\n",
       "  <th>Df Residuals:</th>          <td>   487</td>      <th>  BIC:               </th> <td>  -526.6</td>\n",
       "</tr>\n",
       "<tr>\n",
       "  <th>Df Model:</th>              <td>     1</td>      <th>                     </th>     <td> </td>   \n",
       "</tr>\n",
       "<tr>\n",
       "  <th>Covariance Type:</th>      <td>nonrobust</td>    <th>                     </th>     <td> </td>   \n",
       "</tr>\n",
       "</table>\n",
       "<table class=\"simpletable\">\n",
       "<tr>\n",
       "    <td></td>       <th>coef</th>     <th>std err</th>      <th>t</th>      <th>P>|t|</th>  <th>[0.025</th>    <th>0.975]</th>  \n",
       "</tr>\n",
       "<tr>\n",
       "  <th>const</th> <td>    0.0044</td> <td>    0.006</td> <td>    0.689</td> <td> 0.491</td> <td>   -0.008</td> <td>    0.017</td>\n",
       "</tr>\n",
       "<tr>\n",
       "  <th>price</th> <td>   -0.2540</td> <td>    0.149</td> <td>   -1.699</td> <td> 0.090</td> <td>   -0.548</td> <td>    0.040</td>\n",
       "</tr>\n",
       "</table>\n",
       "<table class=\"simpletable\">\n",
       "<tr>\n",
       "  <th>Omnibus:</th>       <td>33.087</td> <th>  Durbin-Watson:     </th> <td>   1.879</td>\n",
       "</tr>\n",
       "<tr>\n",
       "  <th>Prob(Omnibus):</th> <td> 0.000</td> <th>  Jarque-Bera (JB):  </th> <td> 100.558</td>\n",
       "</tr>\n",
       "<tr>\n",
       "  <th>Skew:</th>          <td> 0.236</td> <th>  Prob(JB):          </th> <td>1.46e-22</td>\n",
       "</tr>\n",
       "<tr>\n",
       "  <th>Kurtosis:</th>      <td> 5.171</td> <th>  Cond. No.          </th> <td>    23.7</td>\n",
       "</tr>\n",
       "</table><br/><br/>Notes:<br/>[1] Standard Errors assume that the covariance matrix of the errors is correctly specified."
      ],
      "text/plain": [
       "<class 'statsmodels.iolib.summary.Summary'>\n",
       "\"\"\"\n",
       "                            OLS Regression Results                            \n",
       "==============================================================================\n",
       "Dep. Variable:                  P1-P5   R-squared:                       0.006\n",
       "Model:                            OLS   Adj. R-squared:                  0.004\n",
       "Method:                 Least Squares   F-statistic:                     2.888\n",
       "Date:                Fri, 12 Mar 2021   Prob (F-statistic):             0.0899\n",
       "Time:                        11:28:20   Log-Likelihood:                 269.49\n",
       "No. Observations:                 489   AIC:                            -535.0\n",
       "Df Residuals:                     487   BIC:                            -526.6\n",
       "Df Model:                           1                                         \n",
       "Covariance Type:            nonrobust                                         \n",
       "==============================================================================\n",
       "                 coef    std err          t      P>|t|      [0.025      0.975]\n",
       "------------------------------------------------------------------------------\n",
       "const          0.0044      0.006      0.689      0.491      -0.008       0.017\n",
       "price         -0.2540      0.149     -1.699      0.090      -0.548       0.040\n",
       "==============================================================================\n",
       "Omnibus:                       33.087   Durbin-Watson:                   1.879\n",
       "Prob(Omnibus):                  0.000   Jarque-Bera (JB):              100.558\n",
       "Skew:                           0.236   Prob(JB):                     1.46e-22\n",
       "Kurtosis:                       5.171   Cond. No.                         23.7\n",
       "==============================================================================\n",
       "\n",
       "Notes:\n",
       "[1] Standard Errors assume that the covariance matrix of the errors is correctly specified.\n",
       "\"\"\""
      ]
     },
     "execution_count": 42,
     "metadata": {},
     "output_type": "execute_result"
    }
   ],
   "source": [
    "# We change the intercept to fit the dates\n",
    "ls_crix_merged = pd.merge(long_short_RF, crix_RF, left_index=True, right_index=True)\n",
    "\n",
    "intercept_ls_crix = sm.add_constant(ls_crix_merged[\"price\"])\n",
    "reg_ls_crix = sm.OLS(ls_crix_merged[\"P1-P5\"], intercept_ls_crix).fit()\n",
    "reg_ls_crix.summary()"
   ]
  },
  {
   "cell_type": "markdown",
   "metadata": {},
   "source": [
    "Interprétation: \n",
    "- La valeur de R² est de l'ordre de 0.5%, ce qui est beaucoup trop faible pour pouvoir considérer que le modèle explique bien les variations de la stratégie long-short\n",
    "- Nous avons de nouveau un beta négatif, néanmoins il n'est sgnificativement différent de 0 qu'à 90%, ce qui laisse présager que toute interprétation pourrait conduire à de nombreuses erreurs"
   ]
  },
  {
   "cell_type": "code",
   "execution_count": 43,
   "metadata": {
    "colab": {
     "base_uri": "https://localhost:8080/"
    },
    "id": "Q3LZ_KWC81Uv",
    "outputId": "c0bdb900-e042-405d-f03e-73520bb40b2f"
   },
   "outputs": [
    {
     "data": {
      "text/plain": [
       "P1-P5   -0.017154\n",
       "dtype: float64"
      ]
     },
     "execution_count": 43,
     "metadata": {},
     "output_type": "execute_result"
    }
   ],
   "source": [
    "# treynor\n",
    "long_short_RF.mean()/reg_ls_crix.params['price']"
   ]
  },
  {
   "cell_type": "markdown",
   "metadata": {},
   "source": [
    "Interprétation: Nous avons calculé la valeur du Treynor, qui est négatif, même si celui-ci ne soit pas vraiment interprétable au vu des résultats de la régression."
   ]
  },
  {
   "cell_type": "markdown",
   "metadata": {
    "id": "vHkpHdadBqeA"
   },
   "source": [
    "# Fama-French"
   ]
  },
  {
   "cell_type": "markdown",
   "metadata": {
    "id": "YXRd9tSpBtik"
   },
   "source": [
    "## P1 à P5"
   ]
  },
  {
   "cell_type": "code",
   "execution_count": 44,
   "metadata": {
    "colab": {
     "base_uri": "https://localhost:8080/"
    },
    "id": "LLG2QSrN9EqY",
    "outputId": "c1ed998a-115c-40ab-8cbd-bd082eb388e4"
   },
   "outputs": [
    {
     "name": "stdout",
     "output_type": "stream",
     "text": [
      "                            OLS Regression Results                            \n",
      "==============================================================================\n",
      "Dep. Variable:                     P1   R-squared:                       0.033\n",
      "Model:                            OLS   Adj. R-squared:                  0.027\n",
      "Method:                 Least Squares   F-statistic:                     5.894\n",
      "Date:                Fri, 12 Mar 2021   Prob (F-statistic):           0.000584\n",
      "Time:                        11:28:20   Log-Likelihood:                 824.60\n",
      "No. Observations:                 525   AIC:                            -1641.\n",
      "Df Residuals:                     521   BIC:                            -1624.\n",
      "Df Model:                           3                                         \n",
      "Covariance Type:            nonrobust                                         \n",
      "==============================================================================\n",
      "                 coef    std err          t      P>|t|      [0.025      0.975]\n",
      "------------------------------------------------------------------------------\n",
      "const          0.0013      0.002      0.576      0.565      -0.003       0.006\n",
      "price         -0.1990      0.052     -3.855      0.000      -0.300      -0.098\n",
      "SMB            0.6025      0.343      1.754      0.080      -0.072       1.277\n",
      "HML           -0.0131      0.270     -0.049      0.961      -0.543       0.517\n",
      "==============================================================================\n",
      "Omnibus:                      163.518   Durbin-Watson:                   1.874\n",
      "Prob(Omnibus):                  0.000   Jarque-Bera (JB):             1339.029\n",
      "Skew:                          -1.120   Prob(JB):                    1.71e-291\n",
      "Kurtosis:                      10.496   Cond. No.                         157.\n",
      "==============================================================================\n",
      "\n",
      "Notes:\n",
      "[1] Standard Errors assume that the covariance matrix of the errors is correctly specified.\n",
      "                            OLS Regression Results                            \n",
      "==============================================================================\n",
      "Dep. Variable:                     P2   R-squared:                       0.022\n",
      "Model:                            OLS   Adj. R-squared:                  0.016\n",
      "Method:                 Least Squares   F-statistic:                     3.864\n",
      "Date:                Fri, 12 Mar 2021   Prob (F-statistic):            0.00942\n",
      "Time:                        11:28:20   Log-Likelihood:                 828.07\n",
      "No. Observations:                 525   AIC:                            -1648.\n",
      "Df Residuals:                     521   BIC:                            -1631.\n",
      "Df Model:                           3                                         \n",
      "Covariance Type:            nonrobust                                         \n",
      "==============================================================================\n",
      "                 coef    std err          t      P>|t|      [0.025      0.975]\n",
      "------------------------------------------------------------------------------\n",
      "const          0.0012      0.002      0.530      0.596      -0.003       0.005\n",
      "price         -0.1403      0.051     -2.736      0.006      -0.241      -0.040\n",
      "SMB            0.7070      0.341      2.072      0.039       0.037       1.377\n",
      "HML            0.0037      0.268      0.014      0.989      -0.523       0.530\n",
      "==============================================================================\n",
      "Omnibus:                      191.198   Durbin-Watson:                   1.895\n",
      "Prob(Omnibus):                  0.000   Jarque-Bera (JB):             2007.557\n",
      "Skew:                          -1.278   Prob(JB):                         0.00\n",
      "Kurtosis:                      12.232   Cond. No.                         157.\n",
      "==============================================================================\n",
      "\n",
      "Notes:\n",
      "[1] Standard Errors assume that the covariance matrix of the errors is correctly specified.\n",
      "                            OLS Regression Results                            \n",
      "==============================================================================\n",
      "Dep. Variable:                     P3   R-squared:                       0.021\n",
      "Model:                            OLS   Adj. R-squared:                  0.015\n",
      "Method:                 Least Squares   F-statistic:                     3.744\n",
      "Date:                Fri, 12 Mar 2021   Prob (F-statistic):             0.0111\n",
      "Time:                        11:28:20   Log-Likelihood:                 842.87\n",
      "No. Observations:                 525   AIC:                            -1678.\n",
      "Df Residuals:                     521   BIC:                            -1661.\n",
      "Df Model:                           3                                         \n",
      "Covariance Type:            nonrobust                                         \n",
      "==============================================================================\n",
      "                 coef    std err          t      P>|t|      [0.025      0.975]\n",
      "------------------------------------------------------------------------------\n",
      "const       7.765e-05      0.002      0.036      0.971      -0.004       0.004\n",
      "price         -0.1415      0.050     -2.838      0.005      -0.240      -0.044\n",
      "SMB            0.5406      0.332      1.630      0.104      -0.111       1.192\n",
      "HML            0.1808      0.261      0.694      0.488      -0.331       0.693\n",
      "==============================================================================\n",
      "Omnibus:                      167.087   Durbin-Watson:                   1.907\n",
      "Prob(Omnibus):                  0.000   Jarque-Bera (JB):             1771.724\n",
      "Skew:                          -1.067   Prob(JB):                         0.00\n",
      "Kurtosis:                      11.743   Cond. No.                         157.\n",
      "==============================================================================\n",
      "\n",
      "Notes:\n",
      "[1] Standard Errors assume that the covariance matrix of the errors is correctly specified.\n",
      "                            OLS Regression Results                            \n",
      "==============================================================================\n",
      "Dep. Variable:                     P4   R-squared:                       0.028\n",
      "Model:                            OLS   Adj. R-squared:                  0.022\n",
      "Method:                 Least Squares   F-statistic:                     4.946\n",
      "Date:                Fri, 12 Mar 2021   Prob (F-statistic):            0.00215\n",
      "Time:                        11:28:20   Log-Likelihood:                 822.98\n",
      "No. Observations:                 525   AIC:                            -1638.\n",
      "Df Residuals:                     521   BIC:                            -1621.\n",
      "Df Model:                           3                                         \n",
      "Covariance Type:            nonrobust                                         \n",
      "==============================================================================\n",
      "                 coef    std err          t      P>|t|      [0.025      0.975]\n",
      "------------------------------------------------------------------------------\n",
      "const          0.0004      0.002      0.172      0.864      -0.004       0.005\n",
      "price         -0.1351      0.052     -2.608      0.009      -0.237      -0.033\n",
      "SMB            0.9679      0.345      2.809      0.005       0.291       1.645\n",
      "HML            0.1139      0.271      0.421      0.674      -0.418       0.646\n",
      "==============================================================================\n",
      "Omnibus:                      122.954   Durbin-Watson:                   1.885\n",
      "Prob(Omnibus):                  0.000   Jarque-Bera (JB):             1185.299\n",
      "Skew:                          -0.716   Prob(JB):                    4.13e-258\n",
      "Kurtosis:                      10.220   Cond. No.                         157.\n",
      "==============================================================================\n",
      "\n",
      "Notes:\n",
      "[1] Standard Errors assume that the covariance matrix of the errors is correctly specified.\n",
      "                            OLS Regression Results                            \n",
      "==============================================================================\n",
      "Dep. Variable:                     P5   R-squared:                       0.022\n",
      "Model:                            OLS   Adj. R-squared:                  0.016\n",
      "Method:                 Least Squares   F-statistic:                     3.838\n",
      "Date:                Fri, 12 Mar 2021   Prob (F-statistic):            0.00975\n",
      "Time:                        11:28:20   Log-Likelihood:                 801.17\n",
      "No. Observations:                 525   AIC:                            -1594.\n",
      "Df Residuals:                     521   BIC:                            -1577.\n",
      "Df Model:                           3                                         \n",
      "Covariance Type:            nonrobust                                         \n",
      "==============================================================================\n",
      "                 coef    std err          t      P>|t|      [0.025      0.975]\n",
      "------------------------------------------------------------------------------\n",
      "const       9.954e-05      0.002      0.043      0.966      -0.004       0.005\n",
      "price         -0.1545      0.054     -2.862      0.004      -0.261      -0.048\n",
      "SMB            0.6151      0.359      1.713      0.087      -0.090       1.321\n",
      "HML            0.1724      0.282      0.611      0.541      -0.382       0.727\n",
      "==============================================================================\n",
      "Omnibus:                      128.026   Durbin-Watson:                   1.910\n",
      "Prob(Omnibus):                  0.000   Jarque-Bera (JB):             1871.462\n",
      "Skew:                          -0.616   Prob(JB):                         0.00\n",
      "Kurtosis:                      12.167   Cond. No.                         157.\n",
      "==============================================================================\n",
      "\n",
      "Notes:\n",
      "[1] Standard Errors assume that the covariance matrix of the errors is correctly specified.\n"
     ]
    }
   ],
   "source": [
    "FFResearch_crix_merged = pd.merge(FFResearch, crix_RF*100, left_index=True, right_index=True)\n",
    "\n",
    "intercept_ff_crix = sm.add_constant(FFResearch_crix_merged[[\"price\", \"SMB\", \"HML\"]]/100)\n",
    "\n",
    "reg_ff_crix1 = sm.OLS(R_RF[\"P1\"], intercept_ff_crix).fit()\n",
    "reg_ff_crix2 = sm.OLS(R_RF[\"P2\"], intercept_ff_crix).fit()\n",
    "reg_ff_crix3 = sm.OLS(R_RF[\"P3\"], intercept_ff_crix).fit()\n",
    "reg_ff_crix4 = sm.OLS(R_RF[\"P4\"], intercept_ff_crix).fit()\n",
    "reg_ff_crix5 = sm.OLS(R_RF[\"P5\"], intercept_ff_crix).fit()\n",
    "\n",
    "print(reg_ff_crix1.summary())\n",
    "print(reg_ff_crix2.summary())\n",
    "print(reg_ff_crix3.summary())\n",
    "print(reg_ff_crix4.summary())\n",
    "print(reg_ff_crix5.summary())"
   ]
  },
  {
   "cell_type": "markdown",
   "metadata": {
    "id": "_kUPuIloB75P"
   },
   "source": [
    "Interprétation : \n",
    "- Toutes les valeurs de R² sont inférieures à 5%\n",
    "- Tout comme pour le Fama et French avec Mkt-Rf, seul $\\beta_{Crix}$ est utilisable. Parfois le $\\beta_{Crix}$ l'est aussi."
   ]
  },
  {
   "cell_type": "markdown",
   "metadata": {
    "id": "rS9cGS6hCFOh"
   },
   "source": [
    "## P1-P5"
   ]
  },
  {
   "cell_type": "code",
   "execution_count": 45,
   "metadata": {
    "colab": {
     "base_uri": "https://localhost:8080/",
     "height": 494
    },
    "id": "QBK0BiFzCYUn",
    "outputId": "312399fa-8d76-4399-f9c7-0b5b5ec84ee9"
   },
   "outputs": [
    {
     "data": {
      "text/html": [
       "<table class=\"simpletable\">\n",
       "<caption>OLS Regression Results</caption>\n",
       "<tr>\n",
       "  <th>Dep. Variable:</th>          <td>P1-P5</td>      <th>  R-squared:         </th> <td>   0.007</td>\n",
       "</tr>\n",
       "<tr>\n",
       "  <th>Model:</th>                   <td>OLS</td>       <th>  Adj. R-squared:    </th> <td>   0.000</td>\n",
       "</tr>\n",
       "<tr>\n",
       "  <th>Method:</th>             <td>Least Squares</td>  <th>  F-statistic:       </th> <td>   1.059</td>\n",
       "</tr>\n",
       "<tr>\n",
       "  <th>Date:</th>             <td>Fri, 12 Mar 2021</td> <th>  Prob (F-statistic):</th>  <td> 0.366</td> \n",
       "</tr>\n",
       "<tr>\n",
       "  <th>Time:</th>                 <td>11:28:20</td>     <th>  Log-Likelihood:    </th> <td>  269.65</td>\n",
       "</tr>\n",
       "<tr>\n",
       "  <th>No. Observations:</th>      <td>   489</td>      <th>  AIC:               </th> <td>  -531.3</td>\n",
       "</tr>\n",
       "<tr>\n",
       "  <th>Df Residuals:</th>          <td>   485</td>      <th>  BIC:               </th> <td>  -514.5</td>\n",
       "</tr>\n",
       "<tr>\n",
       "  <th>Df Model:</th>              <td>     3</td>      <th>                     </th>     <td> </td>   \n",
       "</tr>\n",
       "<tr>\n",
       "  <th>Covariance Type:</th>      <td>nonrobust</td>    <th>                     </th>     <td> </td>   \n",
       "</tr>\n",
       "</table>\n",
       "<table class=\"simpletable\">\n",
       "<tr>\n",
       "    <td></td>       <th>coef</th>     <th>std err</th>      <th>t</th>      <th>P>|t|</th>  <th>[0.025</th>    <th>0.975]</th>  \n",
       "</tr>\n",
       "<tr>\n",
       "  <th>const</th> <td>    0.0042</td> <td>    0.006</td> <td>    0.657</td> <td> 0.511</td> <td>   -0.008</td> <td>    0.017</td>\n",
       "</tr>\n",
       "<tr>\n",
       "  <th>price</th> <td>   -0.2567</td> <td>    0.150</td> <td>   -1.713</td> <td> 0.087</td> <td>   -0.551</td> <td>    0.038</td>\n",
       "</tr>\n",
       "<tr>\n",
       "  <th>SMB</th>   <td>    0.3925</td> <td>    0.978</td> <td>    0.401</td> <td> 0.688</td> <td>   -1.529</td> <td>    2.315</td>\n",
       "</tr>\n",
       "<tr>\n",
       "  <th>HML</th>   <td>   -0.3158</td> <td>    0.769</td> <td>   -0.411</td> <td> 0.682</td> <td>   -1.827</td> <td>    1.196</td>\n",
       "</tr>\n",
       "</table>\n",
       "<table class=\"simpletable\">\n",
       "<tr>\n",
       "  <th>Omnibus:</th>       <td>32.697</td> <th>  Durbin-Watson:     </th> <td>   1.880</td>\n",
       "</tr>\n",
       "<tr>\n",
       "  <th>Prob(Omnibus):</th> <td> 0.000</td> <th>  Jarque-Bera (JB):  </th> <td>  99.028</td>\n",
       "</tr>\n",
       "<tr>\n",
       "  <th>Skew:</th>          <td> 0.231</td> <th>  Prob(JB):          </th> <td>3.14e-22</td>\n",
       "</tr>\n",
       "<tr>\n",
       "  <th>Kurtosis:</th>      <td> 5.156</td> <th>  Cond. No.          </th> <td>    156.</td>\n",
       "</tr>\n",
       "</table><br/><br/>Notes:<br/>[1] Standard Errors assume that the covariance matrix of the errors is correctly specified."
      ],
      "text/plain": [
       "<class 'statsmodels.iolib.summary.Summary'>\n",
       "\"\"\"\n",
       "                            OLS Regression Results                            \n",
       "==============================================================================\n",
       "Dep. Variable:                  P1-P5   R-squared:                       0.007\n",
       "Model:                            OLS   Adj. R-squared:                  0.000\n",
       "Method:                 Least Squares   F-statistic:                     1.059\n",
       "Date:                Fri, 12 Mar 2021   Prob (F-statistic):              0.366\n",
       "Time:                        11:28:20   Log-Likelihood:                 269.65\n",
       "No. Observations:                 489   AIC:                            -531.3\n",
       "Df Residuals:                     485   BIC:                            -514.5\n",
       "Df Model:                           3                                         \n",
       "Covariance Type:            nonrobust                                         \n",
       "==============================================================================\n",
       "                 coef    std err          t      P>|t|      [0.025      0.975]\n",
       "------------------------------------------------------------------------------\n",
       "const          0.0042      0.006      0.657      0.511      -0.008       0.017\n",
       "price         -0.2567      0.150     -1.713      0.087      -0.551       0.038\n",
       "SMB            0.3925      0.978      0.401      0.688      -1.529       2.315\n",
       "HML           -0.3158      0.769     -0.411      0.682      -1.827       1.196\n",
       "==============================================================================\n",
       "Omnibus:                       32.697   Durbin-Watson:                   1.880\n",
       "Prob(Omnibus):                  0.000   Jarque-Bera (JB):               99.028\n",
       "Skew:                           0.231   Prob(JB):                     3.14e-22\n",
       "Kurtosis:                       5.156   Cond. No.                         156.\n",
       "==============================================================================\n",
       "\n",
       "Notes:\n",
       "[1] Standard Errors assume that the covariance matrix of the errors is correctly specified.\n",
       "\"\"\""
      ]
     },
     "execution_count": 45,
     "metadata": {},
     "output_type": "execute_result"
    }
   ],
   "source": [
    "FFResearch_ls_crix = pd.merge(long_short_RF, FFResearch_crix_merged/100, left_index=True, right_index=True)\n",
    "intercept_ff_crix1_5 = sm.add_constant(FFResearch_ls_crix[[\"price\", \"SMB\", \"HML\"]])\n",
    "reg_ff_crix1_5 = sm.OLS(FFResearch_ls_crix[\"P1-P5\"], intercept_ff_crix1_5).fit()\n",
    "reg_ff_crix1_5.summary()"
   ]
  },
  {
   "cell_type": "markdown",
   "metadata": {
    "id": "NhicdwKrDVWr"
   },
   "source": [
    "Interprétation : \n",
    "- Le R² est sous 1%\n",
    "- Aucun des paramètres n'est significativement différent de 0 à 5£ d'erreur"
   ]
  },
  {
   "cell_type": "markdown",
   "metadata": {
    "id": "lLjeQR4wDXg3"
   },
   "source": [
    "# Carthart"
   ]
  },
  {
   "cell_type": "code",
   "execution_count": 46,
   "metadata": {
    "colab": {
     "base_uri": "https://localhost:8080/"
    },
    "id": "aMKmnWZq-BjF",
    "outputId": "fa9c70f0-f868-43b9-fb2e-31832526c96b"
   },
   "outputs": [
    {
     "name": "stdout",
     "output_type": "stream",
     "text": [
      "                            OLS Regression Results                            \n",
      "==============================================================================\n",
      "Dep. Variable:                     P1   R-squared:                       0.035\n",
      "Model:                            OLS   Adj. R-squared:                  0.027\n",
      "Method:                 Least Squares   F-statistic:                     4.699\n",
      "Date:                Fri, 12 Mar 2021   Prob (F-statistic):           0.000985\n",
      "Time:                        11:28:20   Log-Likelihood:                 825.16\n",
      "No. Observations:                 525   AIC:                            -1640.\n",
      "Df Residuals:                     520   BIC:                            -1619.\n",
      "Df Model:                           4                                         \n",
      "Covariance Type:            nonrobust                                         \n",
      "==============================================================================\n",
      "                 coef    std err          t      P>|t|      [0.025      0.975]\n",
      "------------------------------------------------------------------------------\n",
      "const          0.0014      0.002      0.639      0.523      -0.003       0.006\n",
      "Mom            0.0034      0.003      1.054      0.292      -0.003       0.010\n",
      "price         -0.0019      0.001     -3.757      0.000      -0.003      -0.001\n",
      "SMB            0.0069      0.004      1.957      0.051   -2.69e-05       0.014\n",
      "HML            0.0021      0.003      0.609      0.543      -0.005       0.009\n",
      "==============================================================================\n",
      "Omnibus:                      160.819   Durbin-Watson:                   1.879\n",
      "Prob(Omnibus):                  0.000   Jarque-Bera (JB):             1274.570\n",
      "Skew:                          -1.108   Prob(JB):                    1.70e-277\n",
      "Kurtosis:                      10.305   Cond. No.                         8.44\n",
      "==============================================================================\n",
      "\n",
      "Notes:\n",
      "[1] Standard Errors assume that the covariance matrix of the errors is correctly specified.\n",
      "                            OLS Regression Results                            \n",
      "==============================================================================\n",
      "Dep. Variable:                     P2   R-squared:                       0.024\n",
      "Model:                            OLS   Adj. R-squared:                  0.016\n",
      "Method:                 Least Squares   F-statistic:                     3.194\n",
      "Date:                Fri, 12 Mar 2021   Prob (F-statistic):             0.0131\n",
      "Time:                        11:28:20   Log-Likelihood:                 828.67\n",
      "No. Observations:                 525   AIC:                            -1647.\n",
      "Df Residuals:                     520   BIC:                            -1626.\n",
      "Df Model:                           4                                         \n",
      "Covariance Type:            nonrobust                                         \n",
      "==============================================================================\n",
      "                 coef    std err          t      P>|t|      [0.025      0.975]\n",
      "------------------------------------------------------------------------------\n",
      "const          0.0013      0.002      0.596      0.551      -0.003       0.006\n",
      "Mom            0.0035      0.003      1.087      0.277      -0.003       0.010\n",
      "price         -0.0014      0.001     -2.640      0.009      -0.002      -0.000\n",
      "SMB            0.0080      0.004      2.274      0.023       0.001       0.015\n",
      "HML            0.0023      0.003      0.678      0.498      -0.004       0.009\n",
      "==============================================================================\n",
      "Omnibus:                      188.442   Durbin-Watson:                   1.898\n",
      "Prob(Omnibus):                  0.000   Jarque-Bera (JB):             1906.496\n",
      "Skew:                          -1.267   Prob(JB):                         0.00\n",
      "Kurtosis:                      11.985   Cond. No.                         8.44\n",
      "==============================================================================\n",
      "\n",
      "Notes:\n",
      "[1] Standard Errors assume that the covariance matrix of the errors is correctly specified.\n",
      "                            OLS Regression Results                            \n",
      "==============================================================================\n",
      "Dep. Variable:                     P3   R-squared:                       0.023\n",
      "Model:                            OLS   Adj. R-squared:                  0.015\n",
      "Method:                 Least Squares   F-statistic:                     3.047\n",
      "Date:                Fri, 12 Mar 2021   Prob (F-statistic):             0.0168\n",
      "Time:                        11:28:20   Log-Likelihood:                 843.35\n",
      "No. Observations:                 525   AIC:                            -1677.\n",
      "Df Residuals:                     520   BIC:                            -1655.\n",
      "Df Model:                           4                                         \n",
      "Covariance Type:            nonrobust                                         \n",
      "==============================================================================\n",
      "                 coef    std err          t      P>|t|      [0.025      0.975]\n",
      "------------------------------------------------------------------------------\n",
      "const          0.0002      0.002      0.096      0.923      -0.004       0.004\n",
      "Mom            0.0030      0.003      0.977      0.329      -0.003       0.009\n",
      "price         -0.0014      0.001     -2.750      0.006      -0.002      -0.000\n",
      "SMB            0.0062      0.003      1.817      0.070      -0.001       0.013\n",
      "HML            0.0038      0.003      1.147      0.252      -0.003       0.010\n",
      "==============================================================================\n",
      "Omnibus:                      164.826   Durbin-Watson:                   1.910\n",
      "Prob(Omnibus):                  0.000   Jarque-Bera (JB):             1697.441\n",
      "Skew:                          -1.057   Prob(JB):                         0.00\n",
      "Kurtosis:                      11.551   Cond. No.                         8.44\n",
      "==============================================================================\n",
      "\n",
      "Notes:\n",
      "[1] Standard Errors assume that the covariance matrix of the errors is correctly specified.\n",
      "                            OLS Regression Results                            \n",
      "==============================================================================\n",
      "Dep. Variable:                     P4   R-squared:                       0.031\n",
      "Model:                            OLS   Adj. R-squared:                  0.023\n",
      "Method:                 Least Squares   F-statistic:                     4.131\n",
      "Date:                Fri, 12 Mar 2021   Prob (F-statistic):            0.00265\n",
      "Time:                        11:28:20   Log-Likelihood:                 823.82\n",
      "No. Observations:                 525   AIC:                            -1638.\n",
      "Df Residuals:                     520   BIC:                            -1616.\n",
      "Df Model:                           4                                         \n",
      "Covariance Type:            nonrobust                                         \n",
      "==============================================================================\n",
      "                 coef    std err          t      P>|t|      [0.025      0.975]\n",
      "------------------------------------------------------------------------------\n",
      "const          0.0006      0.002      0.251      0.802      -0.004       0.005\n",
      "Mom            0.0042      0.003      1.291      0.197      -0.002       0.010\n",
      "price         -0.0013      0.001     -2.497      0.013      -0.002      -0.000\n",
      "SMB            0.0108      0.004      3.040      0.002       0.004       0.018\n",
      "HML            0.0039      0.003      1.125      0.261      -0.003       0.011\n",
      "==============================================================================\n",
      "Omnibus:                      120.527   Durbin-Watson:                   1.885\n",
      "Prob(Omnibus):                  0.000   Jarque-Bera (JB):             1101.888\n",
      "Skew:                          -0.713   Prob(JB):                    5.35e-240\n",
      "Kurtosis:                       9.953   Cond. No.                         8.44\n",
      "==============================================================================\n",
      "\n",
      "Notes:\n",
      "[1] Standard Errors assume that the covariance matrix of the errors is correctly specified.\n",
      "                            OLS Regression Results                            \n",
      "==============================================================================\n",
      "Dep. Variable:                     P5   R-squared:                       0.023\n",
      "Model:                            OLS   Adj. R-squared:                  0.015\n",
      "Method:                 Least Squares   F-statistic:                     3.016\n",
      "Date:                Fri, 12 Mar 2021   Prob (F-statistic):             0.0177\n",
      "Time:                        11:28:20   Log-Likelihood:                 801.45\n",
      "No. Observations:                 525   AIC:                            -1593.\n",
      "Df Residuals:                     520   BIC:                            -1572.\n",
      "Df Model:                           4                                         \n",
      "Covariance Type:            nonrobust                                         \n",
      "==============================================================================\n",
      "                 coef    std err          t      P>|t|      [0.025      0.975]\n",
      "------------------------------------------------------------------------------\n",
      "const          0.0002      0.002      0.089      0.929      -0.004       0.005\n",
      "Mom            0.0025      0.003      0.746      0.456      -0.004       0.009\n",
      "price         -0.0015      0.001     -2.792      0.005      -0.003      -0.000\n",
      "SMB            0.0068      0.004      1.841      0.066      -0.000       0.014\n",
      "HML            0.0034      0.004      0.940      0.348      -0.004       0.010\n",
      "==============================================================================\n",
      "Omnibus:                      125.865   Durbin-Watson:                   1.913\n",
      "Prob(Omnibus):                  0.000   Jarque-Bera (JB):             1813.023\n",
      "Skew:                          -0.601   Prob(JB):                         0.00\n",
      "Kurtosis:                      12.024   Cond. No.                         8.44\n",
      "==============================================================================\n",
      "\n",
      "Notes:\n",
      "[1] Standard Errors assume that the covariance matrix of the errors is correctly specified.\n"
     ]
    }
   ],
   "source": [
    "final_merge_crix = pd.merge(R_RF, FFResearch_crix_merged, left_index=True, right_index=True)\n",
    "final_merge_crix = pd.merge(FFMomentum, final_merge_crix, left_index=True, right_index=True)\n",
    "\n",
    "intercept_c_crix = sm.add_constant(final_merge_crix[['Mom   ', 'price', 'SMB', 'HML']])\n",
    "\n",
    "reg_c_crix1 = sm.OLS(final_merge_crix[\"P1\"], intercept_c_crix).fit()\n",
    "reg_c_crix2 = sm.OLS(final_merge_crix[\"P2\"], intercept_c_crix).fit()\n",
    "reg_c_crix3 = sm.OLS(final_merge_crix[\"P3\"], intercept_c_crix).fit()\n",
    "reg_c_crix4 = sm.OLS(final_merge_crix[\"P4\"], intercept_c_crix).fit()\n",
    "reg_c_crix5 = sm.OLS(final_merge_crix[\"P5\"], intercept_c_crix).fit()\n",
    "\n",
    "print(reg_c_crix1.summary())\n",
    "print(reg_c_crix2.summary())\n",
    "print(reg_c_crix3.summary())\n",
    "print(reg_c_crix4.summary())\n",
    "print(reg_c_crix5.summary())"
   ]
  },
  {
   "cell_type": "markdown",
   "metadata": {
    "id": "g9nH0afnDiBU"
   },
   "source": [
    "Interprétation : \n",
    "- Les R² restent très très faibles\n",
    "- Les $\\beta_{SMB}$ et $\\beta_{Crix}$ sont utilisables"
   ]
  },
  {
   "cell_type": "markdown",
   "metadata": {
    "id": "Sb3a52AyDzN5"
   },
   "source": [
    "# Changing horizon"
   ]
  },
  {
   "cell_type": "code",
   "execution_count": 47,
   "metadata": {
    "id": "a1VjojjdD49-"
   },
   "outputs": [],
   "source": [
    "changed_horizon = 14"
   ]
  },
  {
   "cell_type": "markdown",
   "metadata": {
    "id": "59M_hAusEBhY"
   },
   "source": [
    "## Initialization"
   ]
  },
  {
   "cell_type": "code",
   "execution_count": 48,
   "metadata": {
    "id": "hDeo0vIQEGKp"
   },
   "outputs": [],
   "source": [
    "# P1, P2, P3, P4, P5\n",
    "portfolios_df = pd.DataFrame()\n",
    "\n",
    "portfolios_df[\"date\"] = formatted_dates\n",
    "portfolios_df.set_index('date', inplace=True) # set as index so that it is easier to plot\n",
    "\n",
    "for i in range(5):\n",
    "    pf_index = 1+i\n",
    "    portfolios_df[\"P\"+str(pf_index)] = get_portfolio_values(initial_value, changed_horizon, formatted_dates, rebalancing_dates, crypto_prices, pf_index)"
   ]
  },
  {
   "cell_type": "code",
   "execution_count": 49,
   "metadata": {
    "id": "LdoIoHUjEGKq"
   },
   "outputs": [],
   "source": [
    "# Long-short strategy\n",
    "ptf_values1 = get_portfolio_values(initial_value, changed_horizon, formatted_dates, rebalancing_dates, crypto_prices, 1)\n",
    "ptf_values5 = get_portfolio_values(initial_value, changed_horizon, formatted_dates, rebalancing_dates, crypto_prices, 5)\n",
    "long_short = long_short_strategy(ptf_values1, ptf_values5)\n",
    "\n",
    "long_short_df = pd.DataFrame(data = {'date': formatted_dates, 'P1-P5': long_short})\n",
    "long_short_df.set_index('date', inplace=True)"
   ]
  },
  {
   "cell_type": "markdown",
   "metadata": {
    "id": "Jt6eJ0h0EPgv"
   },
   "source": [
    "## Plot"
   ]
  },
  {
   "cell_type": "code",
   "execution_count": 50,
   "metadata": {
    "colab": {
     "base_uri": "https://localhost:8080/",
     "height": 542
    },
    "id": "4rRUzB8IEMMr",
    "outputId": "19873a00-80cf-4196-d6e3-d93ddd8cfabe"
   },
   "outputs": [
    {
     "data": {
      "text/plain": [
       "<matplotlib.axes._subplots.AxesSubplot at 0x7f8d131f8278>"
      ]
     },
     "execution_count": 50,
     "metadata": {},
     "output_type": "execute_result"
    },
    {
     "data": {
      "image/png": "[encoded data removed]",
      "text/plain": [
       "<Figure size 1152x576 with 1 Axes>"
      ]
     },
     "metadata": {},
     "output_type": "display_data"
    }
   ],
   "source": [
    "portfolios_df.plot(figsize=(16,8), title=\"Values of P1, P2, P3, P4 P5\")"
   ]
  },
  {
   "cell_type": "code",
   "execution_count": 51,
   "metadata": {
    "colab": {
     "base_uri": "https://localhost:8080/",
     "height": 542
    },
    "id": "acsoAZTiEMMs",
    "outputId": "0f0790b3-3da7-41e8-c338-e5e7e486a801",
    "scrolled": true
   },
   "outputs": [
    {
     "data": {
      "text/plain": [
       "<matplotlib.axes._subplots.AxesSubplot at 0x7f8d13387048>"
      ]
     },
     "execution_count": 51,
     "metadata": {},
     "output_type": "execute_result"
    },
    {
     "data": {
      "image/png": "[encoded data removed]",
      "text/plain": [
       "<Figure size 1152x576 with 1 Axes>"
      ]
     },
     "metadata": {},
     "output_type": "display_data"
    }
   ],
   "source": [
    "long_short_df.plot(figsize=(16,8), title=\"Long-short strategy (buy P1 sell P5)\")"
   ]
  },
  {
   "cell_type": "markdown",
   "metadata": {
    "id": "pSnyC4KMEUvP"
   },
   "source": [
    "Interprétation :\n",
    "\n",
    "- On peut observer de façon succincte que rien qu'en changeant l'horizon sur lequel on calcule la rentabilité d'une unité, en passant de 15 à 14, les portefeuilles sont vastement différents. La stratégie momentum ne semble plus fonctionner car les rentabilités des portefeuilles P1 à P5 ne sont plus croissants. En effet, le portefeuille P5 semble ici être le plus performant. \n",
    "\n",
    "- On peut par ailleurs voir que la stratégie long_short a une rentabilité majoritairement négative sur la période.\n",
    "\n",
    "- On conclut que l'horizon des rentabilités ainsi que les dates de rebalancement ont un grand impact sur la rentabilité de la stratégie momentum. Avec un horizon correctement choisi et un market timing fin, il est possible de constituer un portefeuille dégageant une grande rentabilité, mais en se trompant légèrement, on peut avoir une mauvaise performance. Le défi pour un gérant de portefeuille est alors de trouver des moyens de calculer un horizon et de déterminer les bonnes dates de rebalancement afin de pouvoir trouver le bon portefeuille à constituer."
   ]
  }
 ],
 "metadata": {
  "colab": {
   "collapsed_sections": [
    "H39m5TqzLi1I",
    "Htb3Dq_YLi1K",
    "FXZDIP0uLi1N",
    "wwHCzGB_Li1P",
    "3Z1WrFj4Li1R",
    "gYRpbj9lLi1T",
    "AwlIQGQ3Li1b"
   ],
   "name": "ProjetSIAQ.ipynb",
   "provenance": [],
   "toc_visible": true
  },
  "kernelspec": {
   "display_name": "Python 3",
   "language": "python",
   "name": "python3"
  },
  "language_info": {
   "codemirror_mode": {
    "name": "ipython",
    "version": 3
   },
   "file_extension": ".py",
   "mimetype": "text/x-python",
   "name": "python",
   "nbconvert_exporter": "python",
   "pygments_lexer": "ipython3",
   "version": "3.6.9"
  }
 },
 "nbformat": 4,
 "nbformat_minor": 1
}

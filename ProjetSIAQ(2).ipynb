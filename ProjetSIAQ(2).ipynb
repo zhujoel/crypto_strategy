{
  "nbformat": 4,
  "nbformat_minor": 0,
  "metadata": {
    "kernelspec": {
      "display_name": "Python 3",
      "language": "python",
      "name": "python3"
    },
    "language_info": {
      "codemirror_mode": {
        "name": "ipython",
        "version": 3
      },
      "file_extension": ".py",
      "mimetype": "text/x-python",
      "name": "python",
      "nbconvert_exporter": "python",
      "pygments_lexer": "ipython3",
      "version": "3.6.9"
    },
    "colab": {
      "name": "ProjetSIAQ.ipynb",
      "provenance": [],
      "collapsed_sections": [
        "H39m5TqzLi1I",
        "Htb3Dq_YLi1K",
        "FXZDIP0uLi1N",
        "wwHCzGB_Li1P",
        "3Z1WrFj4Li1R",
        "gYRpbj9lLi1T",
        "7q_LXLQlLi1Y",
        "AwlIQGQ3Li1b"
      ]
    }
  },
  "cells": [
    {
      "cell_type": "markdown",
      "metadata": {
        "id": "zHHnv1edLi0r"
      },
      "source": [
        "# Projet Stratégies d'Investissement Alternatives et Quantitatives\n",
        "## Jérémy Bellina, Joël Zhu"
      ]
    },
    {
      "cell_type": "markdown",
      "metadata": {
        "id": "w7zF2UfILi0y"
      },
      "source": [
        "# Libraries"
      ]
    },
    {
      "cell_type": "code",
      "metadata": {
        "id": "r_4HkcHzLi0z"
      },
      "source": [
        "import numpy as np\n",
        "import pandas as pd\n",
        "import matplotlib.pyplot as plt\n",
        "import statsmodels.api as sm"
      ],
      "execution_count": 68,
      "outputs": []
    },
    {
      "cell_type": "markdown",
      "metadata": {
        "id": "_PAEatEvLi02"
      },
      "source": [
        "# Data"
      ]
    },
    {
      "cell_type": "code",
      "metadata": {
        "id": "-OcVPcXvLi04"
      },
      "source": [
        "# load the crypto prices csv data\n",
        "crypto_prices = pd.read_csv(\"crypto_prices.csv\", parse_dates=[0])\n",
        "crypto_prices.set_index('date', inplace=True)\n",
        "\n",
        "# load the CRIX index csv data\n",
        "crix_prices = pd.read_csv(\"vcrix.csv\", parse_dates=[0])\n",
        "crix_prices.set_index('date', inplace=True)\n",
        "crix_prices = crix_prices.drop([\"Unnamed: 0\", \"n\"], axis=1)\n",
        "crix_prices = crix_prices.loc[\"2018-04-01\":\"2020-05-26\"]\n",
        "\n",
        "# load the Fama & French momentum factor csv data\n",
        "FFMomentum = pd.read_csv(\"F-F_Momentum_Factor_daily.CSV\", parse_dates=[0])\n",
        "FFMomentum = FFMomentum.rename(columns={'Unnamed: 0': 'date'})\n",
        "FFMomentum.set_index('date', inplace=True)\n",
        "FFMomentum = FFMomentum.loc[\"2018-04-01\":]\n",
        "\n",
        "# load the Fama & French research data factor csv data\n",
        "FFResearch = pd.read_csv(\"F-F_Research_Data_Factors_daily.CSV\", parse_dates=[0])\n",
        "FFResearch = FFResearch.rename(columns={'Unnamed: 0': 'date'})\n",
        "FFResearch.set_index('date', inplace=True)\n",
        "FFResearch = FFResearch.loc[\"2018-04-01\":]"
      ],
      "execution_count": 69,
      "outputs": []
    },
    {
      "cell_type": "code",
      "metadata": {
        "id": "zIMsU8QOLi05"
      },
      "source": [
        "formatted_dates = pd.date_range(start = \"2018-04-01\", end = \"2020-05-26\")\n",
        "rebalancing_dates = pd.date_range(start = \"2018-04-01\", end = \"2020-05-01\", freq = pd.DateOffset(months=1, day=1))\n",
        "horizon = 15\n",
        "initial_value = 100"
      ],
      "execution_count": 70,
      "outputs": []
    },
    {
      "cell_type": "markdown",
      "metadata": {
        "id": "RcJ4UKtVLi06"
      },
      "source": [
        "# Helper functions"
      ]
    },
    {
      "cell_type": "code",
      "metadata": {
        "id": "v8jchg6eLi07"
      },
      "source": [
        "def sort_returns(current_date, data):\n",
        "    date = str(current_date.date())\n",
        "    return data.loc[date].sort_values(ascending=False)"
      ],
      "execution_count": 71,
      "outputs": []
    },
    {
      "cell_type": "code",
      "metadata": {
        "id": "KhU5IIoZLi08"
      },
      "source": [
        "def compute_value(date, portfolio, crypto_prices):\n",
        "    value = 0\n",
        "    for item in portfolio:\n",
        "        value += item[1] * crypto_prices.loc[date, item[0]]\n",
        "    return value"
      ],
      "execution_count": 72,
      "outputs": []
    },
    {
      "cell_type": "code",
      "metadata": {
        "id": "8d0zM7cgLi09"
      },
      "source": [
        "def update_portfolio(amount, data, date, crypto_names):\n",
        "    portfolio = []\n",
        "    for name in crypto_names:\n",
        "        portfolio.append((name, amount / data.loc[date, name]))\n",
        "    return portfolio"
      ],
      "execution_count": 73,
      "outputs": []
    },
    {
      "cell_type": "markdown",
      "metadata": {
        "id": "4pxMwZvuLi0_"
      },
      "source": [
        "# Backtest functions"
      ]
    },
    {
      "cell_type": "markdown",
      "metadata": {
        "id": "AB4hBcpeLi1A"
      },
      "source": [
        "Creates portfolio long on all crypto currencies **equally weighted**"
      ]
    },
    {
      "cell_type": "code",
      "metadata": {
        "id": "B2gWO0_uLi1B"
      },
      "source": [
        "def get_portfolio_values(initial_value, horizon, formatted_dates, rebalancing_dates, data, portfolio_index):\n",
        "    values = [initial_value]\n",
        "    returns = data.pct_change(periods=horizon)\n",
        "    portfolio = []\n",
        "    for date in formatted_dates:\n",
        "        if str(date) != \"2018-04-01 00:00:00\":\n",
        "            values.append(compute_value(date, portfolio, data)) # update values\n",
        "        if date in rebalancing_dates:\n",
        "            sorted_returns = sort_returns(date, returns) # sort returns for the rebalancing date\n",
        "            crypto_names = sorted_returns.iloc[(10 * (portfolio_index - 1)):(10 * portfolio_index)].index # extract names from data\n",
        "            portfolio = update_portfolio(values[-1] / 10, data, date, crypto_names) # update composition\n",
        "    return values"
      ],
      "execution_count": 74,
      "outputs": []
    },
    {
      "cell_type": "markdown",
      "metadata": {
        "id": "A2LyqPYELi1B"
      },
      "source": [
        "Creates a portfolio **long on best returns** crypto currencies and **short on lowest returns** ones"
      ]
    },
    {
      "cell_type": "code",
      "metadata": {
        "id": "_8YqPZsuLi1B"
      },
      "source": [
        " def long_short_strategy(ptf_values1, ptf_values5):\n",
        "    values = []\n",
        "    for value1, value5 in zip(ptf_values1, ptf_values5):\n",
        "        values.append(value1 - value5)\n",
        "    return values"
      ],
      "execution_count": 75,
      "outputs": []
    },
    {
      "cell_type": "markdown",
      "metadata": {
        "id": "HV9U6LYXLi1C"
      },
      "source": [
        "# Portfolio initializations"
      ]
    },
    {
      "cell_type": "code",
      "metadata": {
        "id": "L7TyFrHBLi1C"
      },
      "source": [
        "# P1, P2, P3, P4, P5\n",
        "portfolios_df = pd.DataFrame()\n",
        "\n",
        "portfolios_df[\"date\"] = formatted_dates\n",
        "portfolios_df.set_index('date', inplace=True) # set as index so that it is easier to plot\n",
        "\n",
        "for i in range(5):\n",
        "    pf_index = 1+i\n",
        "    portfolios_df[\"P\"+str(pf_index)] = get_portfolio_values(initial_value, horizon, formatted_dates, rebalancing_dates, crypto_prices, pf_index)"
      ],
      "execution_count": 76,
      "outputs": []
    },
    {
      "cell_type": "code",
      "metadata": {
        "id": "7coIOQ9_Li1D"
      },
      "source": [
        "# Long-short strategy\n",
        "ptf_values1 = get_portfolio_values(initial_value, horizon, formatted_dates, rebalancing_dates, crypto_prices, 1)\n",
        "ptf_values5 = get_portfolio_values(initial_value, horizon, formatted_dates, rebalancing_dates, crypto_prices, 5)\n",
        "long_short = long_short_strategy(ptf_values1, ptf_values5)\n",
        "\n",
        "long_short_df = pd.DataFrame(data = {'date': formatted_dates, 'P1-P5': long_short})\n",
        "long_short_df.set_index('date', inplace=True)"
      ],
      "execution_count": 77,
      "outputs": []
    },
    {
      "cell_type": "markdown",
      "metadata": {
        "id": "SxjfhRDCLi1D"
      },
      "source": [
        "# Plot "
      ]
    },
    {
      "cell_type": "code",
      "metadata": {
        "colab": {
          "base_uri": "https://localhost:8080/",
          "height": 542
        },
        "id": "llBzE_77Li1E",
        "outputId": "54cf02e4-09ce-45d0-c3e1-69160f1b971e"
      },
      "source": [
        "portfolios_df.plot(figsize=(16,8), title=\"Values of P1, P2, P3, P4 P5\")"
      ],
      "execution_count": 78,
      "outputs": [
        {
          "output_type": "execute_result",
          "data": {
            "text/plain": [
              "<matplotlib.axes._subplots.AxesSubplot at 0x7f3c16e006d0>"
            ]
          },
          "metadata": {
            "tags": []
          },
          "execution_count": 78
        },
        {
          "output_type": "display_data",
          "data": {
            "image/png": "[encoded data removed]",
            "text/plain": [
              "<Figure size 1152x576 with 1 Axes>"
            ]
          },
          "metadata": {
            "tags": [],
            "needs_background": "light"
          }
        }
      ]
    },
    {
      "cell_type": "code",
      "metadata": {
        "scrolled": true,
        "colab": {
          "base_uri": "https://localhost:8080/",
          "height": 542
        },
        "id": "tp__0yDtLi1H",
        "outputId": "b0062d47-228b-4545-8763-3813c44703cc"
      },
      "source": [
        "long_short_df.plot(figsize=(16,8), title=\"Long-short strategy (buy P1 sell P5)\")"
      ],
      "execution_count": 79,
      "outputs": [
        {
          "output_type": "execute_result",
          "data": {
            "text/plain": [
              "<matplotlib.axes._subplots.AxesSubplot at 0x7f3c16c3d690>"
            ]
          },
          "metadata": {
            "tags": []
          },
          "execution_count": 79
        },
        {
          "output_type": "display_data",
          "data": {
            "image/png": "[encoded data removed]",
            "text/plain": [
              "<Figure size 1152x576 with 1 Axes>"
            ]
          },
          "metadata": {
            "tags": [],
            "needs_background": "light"
          }
        }
      ]
    },
    {
      "cell_type": "markdown",
      "metadata": {
        "id": "JRp8PYU4Li1I"
      },
      "source": [
        "# Statistical description"
      ]
    },
    {
      "cell_type": "markdown",
      "metadata": {
        "id": "H39m5TqzLi1I"
      },
      "source": [
        "## Initialization"
      ]
    },
    {
      "cell_type": "code",
      "metadata": {
        "id": "1J5CnZRDLi1J"
      },
      "source": [
        "# P1 to P5\n",
        "portfolios_df_returns = portfolios_df.pct_change()"
      ],
      "execution_count": 80,
      "outputs": []
    },
    {
      "cell_type": "code",
      "metadata": {
        "id": "xN6KQCI0Li1J"
      },
      "source": [
        "# Long-short strategy\n",
        "long_short_df_returns = long_short_df.pct_change()\n",
        "\n",
        "def winsorizing(df, col):\n",
        "    q1 = df[col].quantile(0.25)\n",
        "    q3 = df[col].quantile(0.75)\n",
        "    iqr = q3-q1\n",
        "    minimum  = q1-1.5*iqr\n",
        "    maximum = q3+1.5*iqr\n",
        "    return df.loc[(df[col] > minimum) & (df[col] < maximum)]\n",
        "\n",
        "long_short_df_returns = winsorizing(long_short_df_returns, 'P1-P5')"
      ],
      "execution_count": 81,
      "outputs": []
    },
    {
      "cell_type": "markdown",
      "metadata": {
        "id": "Htb3Dq_YLi1K"
      },
      "source": [
        "## Mean"
      ]
    },
    {
      "cell_type": "code",
      "metadata": {
        "colab": {
          "base_uri": "https://localhost:8080/"
        },
        "id": "fJIkXyC3Li1L",
        "outputId": "c5d5b54b-3935-4980-9f12-67ee8713dacc"
      },
      "source": [
        "# P1, P2, P3, P4, P5\n",
        "portfolios_df_returns.mean()"
      ],
      "execution_count": 82,
      "outputs": [
        {
          "output_type": "execute_result",
          "data": {
            "text/plain": [
              "P1    0.001651\n",
              "P2    0.001213\n",
              "P3    0.000491\n",
              "P4    0.000686\n",
              "P5    0.000440\n",
              "dtype: float64"
            ]
          },
          "metadata": {
            "tags": []
          },
          "execution_count": 82
        }
      ]
    },
    {
      "cell_type": "markdown",
      "metadata": {
        "id": "h4N6fUimLi1M"
      },
      "source": [
        "Interprétation : Le rendement moyen journalier du portefeuille P1 est 0.165%. Il est plus élevé que tous les autres portefeuilles momentum. Cela est cohérent car le portefeuille P1 est constitué des crypto-monnaies ayant la plus forte croissance à chaque date de rebalancement. Il semble donc que la stratégie momentum fonctionne."
      ]
    },
    {
      "cell_type": "code",
      "metadata": {
        "colab": {
          "base_uri": "https://localhost:8080/"
        },
        "id": "fJw1CrPnLi1M",
        "outputId": "5a4a2eb8-3d11-4e01-c96d-ad88561c8f0e"
      },
      "source": [
        "# Long-short strategy\n",
        "long_short_df_returns.mean()"
      ],
      "execution_count": 83,
      "outputs": [
        {
          "output_type": "execute_result",
          "data": {
            "text/plain": [
              "P1-P5    0.00499\n",
              "dtype: float64"
            ]
          },
          "metadata": {
            "tags": []
          },
          "execution_count": 83
        }
      ]
    },
    {
      "cell_type": "markdown",
      "metadata": {
        "id": "uP_NVz0CLi1N"
      },
      "source": [
        "Interprétation : Le rendement moyen journalier de la stratégie 'acheter P1 et vendre P5' est proche de 0.5%. Cela est beaucoup plus élevé que le rendement moyen de P1. C'est un signe positif qui indique que la stratégie semble fonctionner."
      ]
    },
    {
      "cell_type": "markdown",
      "metadata": {
        "id": "FXZDIP0uLi1N"
      },
      "source": [
        "## Standard deviation"
      ]
    },
    {
      "cell_type": "code",
      "metadata": {
        "colab": {
          "base_uri": "https://localhost:8080/"
        },
        "id": "RJnhjrQ_Li1N",
        "outputId": "44193b5b-20f2-46f9-b429-59644cebbd59"
      },
      "source": [
        "# P1, P2, P3, P4, P5\n",
        "portfolios_df_returns.std()"
      ],
      "execution_count": 84,
      "outputs": [
        {
          "output_type": "execute_result",
          "data": {
            "text/plain": [
              "P1    0.047095\n",
              "P2    0.046147\n",
              "P3    0.045343\n",
              "P4    0.046768\n",
              "P5    0.048832\n",
              "dtype: float64"
            ]
          },
          "metadata": {
            "tags": []
          },
          "execution_count": 84
        }
      ]
    },
    {
      "cell_type": "markdown",
      "metadata": {
        "id": "Ngfvbu6bLi1O"
      },
      "source": [
        "Interprétation : Les écart-types ne sont pas significativement éloignés les uns des autres pour pouvoir dire qu'un portefeuille est plus risqué qu'un autre. On peut donc supposer que les portefeuilles de crypto-monnaies sont tous exposés à un risque de marché similaire important (celui des crypto-monnaies) mais que les portefeuilles sont suffisament diversifiés au sein de ce marché pour ne subir qu'un risque spécifique faible."
      ]
    },
    {
      "cell_type": "code",
      "metadata": {
        "colab": {
          "base_uri": "https://localhost:8080/"
        },
        "id": "9S8FvYvhLi1O",
        "outputId": "4cf82d5b-d98c-4a20-b32a-e4cc504d081e"
      },
      "source": [
        "# Long-short strategy\n",
        "long_short_df_returns.std()"
      ],
      "execution_count": 85,
      "outputs": [
        {
          "output_type": "execute_result",
          "data": {
            "text/plain": [
              "P1-P5    0.09213\n",
              "dtype: float64"
            ]
          },
          "metadata": {
            "tags": []
          },
          "execution_count": 85
        }
      ]
    },
    {
      "cell_type": "markdown",
      "metadata": {
        "id": "scg8dY66Li1P"
      },
      "source": [
        "Interprétation : L'écart-type de la stratégie est presque 2x plus élevé que le portefeuille P1. On peut donc expliquer en partie le rendement plus élevé de cet stratégie par un risque beaucoup plus grand."
      ]
    },
    {
      "cell_type": "markdown",
      "metadata": {
        "id": "wwHCzGB_Li1P"
      },
      "source": [
        "## Median"
      ]
    },
    {
      "cell_type": "code",
      "metadata": {
        "colab": {
          "base_uri": "https://localhost:8080/"
        },
        "id": "LneTVLcdLi1Q",
        "outputId": "8616649d-9af6-4ac0-cf91-9bc58173c7fc"
      },
      "source": [
        "# P1, P2, P3, P4, P5\n",
        "portfolios_df_returns.median()"
      ],
      "execution_count": 86,
      "outputs": [
        {
          "output_type": "execute_result",
          "data": {
            "text/plain": [
              "P1    0.003487\n",
              "P2    0.002854\n",
              "P3    0.002478\n",
              "P4    0.003057\n",
              "P5    0.003053\n",
              "dtype: float64"
            ]
          },
          "metadata": {
            "tags": []
          },
          "execution_count": 86
        }
      ]
    },
    {
      "cell_type": "markdown",
      "metadata": {
        "id": "3gBMWTAjLi1Q"
      },
      "source": [
        "Interprétation : Les médianes sont bien plus élevées que les moyennes. Les rendements journaliers négatifs sont donc beaucoup plus importants en valeur absolue que les rendement positifs."
      ]
    },
    {
      "cell_type": "code",
      "metadata": {
        "colab": {
          "base_uri": "https://localhost:8080/"
        },
        "id": "EiEmLkvILi1Q",
        "outputId": "c8bfb9f8-8fa3-418b-e779-4ebb79ba5edc"
      },
      "source": [
        "# Long-short strategy\n",
        "long_short_df_returns.median()"
      ],
      "execution_count": 87,
      "outputs": [
        {
          "output_type": "execute_result",
          "data": {
            "text/plain": [
              "P1-P5    0.005939\n",
              "dtype: float64"
            ]
          },
          "metadata": {
            "tags": []
          },
          "execution_count": 87
        }
      ]
    },
    {
      "cell_type": "markdown",
      "metadata": {
        "id": "uYllufRULi1R"
      },
      "source": [
        "Interprétation : La médiane est plus élevée que pour le P1. Cela semble cohérent avec le fait que la rentabilité moyenne soit également plus élevée."
      ]
    },
    {
      "cell_type": "markdown",
      "metadata": {
        "id": "3Z1WrFj4Li1R"
      },
      "source": [
        "## Minimum"
      ]
    },
    {
      "cell_type": "code",
      "metadata": {
        "colab": {
          "base_uri": "https://localhost:8080/"
        },
        "id": "64ac1kD-Li1R",
        "outputId": "dae8c863-1cd2-4981-83fa-8424512c1c49"
      },
      "source": [
        "# P1, P2, P3, P4, P5\n",
        "portfolios_df_returns.min()"
      ],
      "execution_count": 88,
      "outputs": [
        {
          "output_type": "execute_result",
          "data": {
            "text/plain": [
              "P1   -0.388953\n",
              "P2   -0.414802\n",
              "P3   -0.398284\n",
              "P4   -0.385747\n",
              "P5   -0.426499\n",
              "dtype: float64"
            ]
          },
          "metadata": {
            "tags": []
          },
          "execution_count": 88
        }
      ]
    },
    {
      "cell_type": "markdown",
      "metadata": {
        "id": "h4mYd0DeLi1R"
      },
      "source": [
        "Interprétation : Durant sa pire journée, le portefeuille P1 a subit une baisse de -38.90% de sa valeur. Cela est très important mais reste néanmoins légerement moins que les autres portefeuilles (à l'exception du P4)."
      ]
    },
    {
      "cell_type": "code",
      "metadata": {
        "colab": {
          "base_uri": "https://localhost:8080/"
        },
        "id": "mojvQ8dSLi1S",
        "outputId": "f4c615b3-157d-48cd-e4fb-b75790f04b15"
      },
      "source": [
        "# Long-short strategy\n",
        "long_short_df_returns.min()"
      ],
      "execution_count": 89,
      "outputs": [
        {
          "output_type": "execute_result",
          "data": {
            "text/plain": [
              "P1-P5   -0.243114\n",
              "dtype: float64"
            ]
          },
          "metadata": {
            "tags": []
          },
          "execution_count": 89
        }
      ]
    },
    {
      "cell_type": "markdown",
      "metadata": {
        "id": "sEaUPwPLLi1T"
      },
      "source": [
        "Interprétation : Le minimum de la stratégie est plus faible que celui de P1. C'est un signe positif qui indique que cette stratégie permet d'amortir les variations fortes du marché. \n",
        "\n",
        "A noter : Ce résultat est à relativiser car on effectue une winsorisation qui élimine certaines valeurs extrêmes."
      ]
    },
    {
      "cell_type": "markdown",
      "metadata": {
        "id": "gYRpbj9lLi1T"
      },
      "source": [
        "## Maximum"
      ]
    },
    {
      "cell_type": "code",
      "metadata": {
        "colab": {
          "base_uri": "https://localhost:8080/"
        },
        "id": "Zz2fF7btLi1T",
        "outputId": "6e338a9a-565e-4afb-b680-e66aac6d6412"
      },
      "source": [
        "# P1, P2, P3, P4, P5\n",
        "portfolios_df_returns.max()"
      ],
      "execution_count": 90,
      "outputs": [
        {
          "output_type": "execute_result",
          "data": {
            "text/plain": [
              "P1    0.153043\n",
              "P2    0.186089\n",
              "P3    0.168602\n",
              "P4    0.252157\n",
              "P5    0.210899\n",
              "dtype: float64"
            ]
          },
          "metadata": {
            "tags": []
          },
          "execution_count": 90
        }
      ]
    },
    {
      "cell_type": "markdown",
      "metadata": {
        "id": "HqvL01voLi1T"
      },
      "source": [
        "Interprétation : Durant sa meilleure journée, le portefeuille P1 a vu sa valeur monter de 15.30%. C'est impressionant mais plus faible que les autres portefeuiles qui atteignent jusqu'à 25.22%. Durant des périodes à fortes variations, le portefeuille P1 subit des gains et des pertes moins importantes que ses homologues. On pourra donc s'attendre à un Béta plus faible."
      ]
    },
    {
      "cell_type": "code",
      "metadata": {
        "colab": {
          "base_uri": "https://localhost:8080/"
        },
        "id": "g37Z-T6hLi1V",
        "outputId": "b8c0ea18-64b2-4f81-a2a0-78c2680c6c4b"
      },
      "source": [
        "# Long-short strategy\n",
        "long_short_df_returns.max()"
      ],
      "execution_count": 91,
      "outputs": [
        {
          "output_type": "execute_result",
          "data": {
            "text/plain": [
              "P1-P5    0.257673\n",
              "dtype: float64"
            ]
          },
          "metadata": {
            "tags": []
          },
          "execution_count": 91
        }
      ]
    },
    {
      "cell_type": "markdown",
      "metadata": {
        "id": "7FmZl9E0Li1W"
      },
      "source": [
        "Interprétation : Même avec la winsorisation, le maximum est nettement plus élevé que P1. C'est également un bon signe car cette stratégie permettrait donc d'amortir les variations à la baisse et amplifier les variations à la hausse."
      ]
    },
    {
      "cell_type": "markdown",
      "metadata": {
        "id": "7q_LXLQlLi1Y"
      },
      "source": [
        "## Skewness"
      ]
    },
    {
      "cell_type": "code",
      "metadata": {
        "colab": {
          "base_uri": "https://localhost:8080/"
        },
        "id": "Idv88876Li1Z",
        "outputId": "eb705b06-c6ee-4651-e045-823715c44a15"
      },
      "source": [
        "# P1, P2, P3, P4, P5\n",
        "portfolios_df_returns.skew(axis=0)"
      ],
      "execution_count": 92,
      "outputs": [
        {
          "output_type": "execute_result",
          "data": {
            "text/plain": [
              "P1   -0.938847\n",
              "P2   -1.129604\n",
              "P3   -1.027596\n",
              "P4   -0.639909\n",
              "P5   -0.567365\n",
              "dtype: float64"
            ]
          },
          "metadata": {
            "tags": []
          },
          "execution_count": 92
        }
      ]
    },
    {
      "cell_type": "markdown",
      "metadata": {
        "id": "siuYXl_aLi1Z"
      },
      "source": [
        "Interprétation : La skewness de tous les portefeuilles est négative. Cette statistique indique que la distribution est asymétrique et que la queue de la distribution est plus longue vers les rendements inférieurs à la moyenne. \n",
        "Pour les portefeuilles P1 à P5, la distribution est modéremment voire fortement skewed négativement.\n",
        "Cela est confirmée par le fait que la moyenne soit inférieure à la médiane. "
      ]
    },
    {
      "cell_type": "code",
      "metadata": {
        "colab": {
          "base_uri": "https://localhost:8080/"
        },
        "id": "_uL4IfHdLi1Z",
        "outputId": "d5f552f3-a2ef-4817-b343-78f9f5861059"
      },
      "source": [
        "# Long-short strategy\n",
        "long_short_df_returns.skew(axis=0)"
      ],
      "execution_count": 93,
      "outputs": [
        {
          "output_type": "execute_result",
          "data": {
            "text/plain": [
              "P1-P5   -0.04049\n",
              "dtype: float64"
            ]
          },
          "metadata": {
            "tags": []
          },
          "execution_count": 93
        }
      ]
    },
    {
      "cell_type": "markdown",
      "metadata": {
        "id": "_qyF2EfdLi1Z"
      },
      "source": [
        "Interprétation : La skewness de la stratégie est proche de 0. La distribution est donc quasiment symétrique.\n",
        "Cela est également logique car la différence entre la moyenne et la médiane est plus faible pour la stratégie que pour les portefeuilles individuels."
      ]
    },
    {
      "cell_type": "markdown",
      "metadata": {
        "id": "AwlIQGQ3Li1b"
      },
      "source": [
        "## Kurtosis"
      ]
    },
    {
      "cell_type": "code",
      "metadata": {
        "colab": {
          "base_uri": "https://localhost:8080/"
        },
        "id": "j0WCekePLi1b",
        "outputId": "71a65c6a-fc73-4eca-c8dd-2a35cb434918"
      },
      "source": [
        "# P1, P2, P3, P4, P5\n",
        "portfolios_df_returns.kurtosis(axis=0)"
      ],
      "execution_count": 94,
      "outputs": [
        {
          "output_type": "execute_result",
          "data": {
            "text/plain": [
              "P1    7.182078\n",
              "P2    9.462124\n",
              "P3    8.739581\n",
              "P4    8.008115\n",
              "P5    9.388953\n",
              "dtype: float64"
            ]
          },
          "metadata": {
            "tags": []
          },
          "execution_count": 94
        }
      ]
    },
    {
      "cell_type": "markdown",
      "metadata": {
        "id": "B1OA4wmDLi1b"
      },
      "source": [
        "Interprétation : Les Kurtosis sont plus grandes que 3. La distribution est donc leptokurtique qui indique qu'une grande partie des rentabilités est concentrée autour de la moyenne."
      ]
    },
    {
      "cell_type": "code",
      "metadata": {
        "colab": {
          "base_uri": "https://localhost:8080/"
        },
        "id": "1429GsrbLi1b",
        "outputId": "6653ceb8-333a-41d2-b701-bd33d16902e2"
      },
      "source": [
        "# Long-short strategy\n",
        "long_short_df_returns.kurtosis(axis=0)"
      ],
      "execution_count": 95,
      "outputs": [
        {
          "output_type": "execute_result",
          "data": {
            "text/plain": [
              "P1-P5    0.308785\n",
              "dtype: float64"
            ]
          },
          "metadata": {
            "tags": []
          },
          "execution_count": 95
        }
      ]
    },
    {
      "cell_type": "markdown",
      "metadata": {
        "id": "DgiClB1GLi1c"
      },
      "source": [
        "Interprétation : Le kurtosis est inférieur à 3. La distribution est platykurtique ce qui signifie que la distribution est plate et donc les valeurs ne sont pas concentrées autour de la moyenne mais plus étalées."
      ]
    },
    {
      "cell_type": "markdown",
      "metadata": {
        "id": "tXu8lAAfLi1c"
      },
      "source": [
        "## Global interpretation"
      ]
    },
    {
      "cell_type": "markdown",
      "metadata": {
        "id": "nQ3Ac8ShLi1c"
      },
      "source": [
        "- P1-5 bons rendements moyens médian max donc bonne strat\n",
        "- mais plus risquée car stddev grande et kurtosis < 3 donc rendements étalés et pas forcément proches de la moyenne\n",
        "- donc mesures de perf pour voir lequel est le meilleur ptf\n",
        "- très dépendant des paramètres notamment de horizon"
      ]
    },
    {
      "cell_type": "markdown",
      "metadata": {
        "id": "p8POnMbxLi1c"
      },
      "source": [
        "# Performance measures"
      ]
    },
    {
      "cell_type": "markdown",
      "metadata": {
        "id": "dxwImIR_Li1c"
      },
      "source": [
        "## Initialization"
      ]
    },
    {
      "cell_type": "code",
      "metadata": {
        "id": "R_eiLzCPLi1c"
      },
      "source": [
        "def fill_missing_values(dataframe, dates):\n",
        "    # We use a list of dates to ensure that we have all the dates we want in the dataframe\n",
        "    dataframe = dataframe.reindex(dates)\n",
        "    # We use the last valid value to fill the NaN created \n",
        "    dataframe = dataframe.fillna(method='ffill')\n",
        "    # We use the next valid value to fill the first row of NaN\n",
        "    dataframe = dataframe.fillna(method='bfill')\n",
        "    return dataframe\n",
        "\n",
        "# We fill the missing dates of FFResearch \n",
        "FFResearch_filled = fill_missing_values(FFResearch, formatted_dates)\n",
        "\n",
        "# We fill the missing dates of FFMomentum\n",
        "FFMomentum_filled = fill_missing_values(FFMomentum, formatted_dates)\n",
        "\n",
        "# We fill the first value of portfolios_df_returns which is NaN\n",
        "portfolios_df_returns_filled = fill_missing_values(portfolios_df_returns, formatted_dates)\n",
        "long_short_df_returns_filled = fill_missing_values(long_short_df_returns, formatted_dates)\n",
        "\n",
        "# We compute R-Rf for all portfolios\n",
        "R_RF = portfolios_df_returns_filled.sub(FFResearch_filled[\"RF\"], axis=0)\n",
        "long_short_RF = long_short_df_returns_filled.sub(FFResearch_filled[\"RF\"], axis=0)\n",
        "\n",
        "# We handle crix values\n",
        "crix_returns = crix_prices.pct_change()\n",
        "crix_returns_filled = fill_missing_values(crix_returns, formatted_dates)\n",
        "RM_RF = (crix_returns[\"vcrix\"] - FFResearch_filled['RF'])"
      ],
      "execution_count": 96,
      "outputs": []
    },
    {
      "cell_type": "markdown",
      "metadata": {
        "id": "sZyEUxnGLi1d"
      },
      "source": [
        "## Sharpe"
      ]
    },
    {
      "cell_type": "code",
      "metadata": {
        "colab": {
          "base_uri": "https://localhost:8080/"
        },
        "id": "4QONd5WgLi1d",
        "outputId": "0e823624-7041-4a07-e1f4-051f13aa3e46"
      },
      "source": [
        "print(R_RF)\n",
        "print(long_short_RF.mean()/long_short_df_returns_filled.std())"
      ],
      "execution_count": 97,
      "outputs": [
        {
          "output_type": "stream",
          "text": [
            "                  P1        P2        P3        P4        P5\n",
            "2018-04-01  0.059990  0.046038  0.046509  0.038775  0.043074\n",
            "2018-04-02  0.059990  0.046038  0.046509  0.038775  0.043074\n",
            "2018-04-03  0.039940  0.074172  0.079693  0.066560  0.122797\n",
            "2018-04-04 -0.074984 -0.119709 -0.112364 -0.108133 -0.121065\n",
            "2018-04-05  0.045866 -0.018679 -0.007750  0.014336 -0.006659\n",
            "...              ...       ...       ...       ...       ...\n",
            "2020-05-22  0.069486  0.069420  0.055698  0.082949  0.034701\n",
            "2020-05-23  0.035204  0.003026 -0.003508 -0.013695  0.000524\n",
            "2020-05-24  0.011018 -0.063924 -0.026580 -0.045029 -0.035987\n",
            "2020-05-25  0.046241  0.079814  0.042083  0.053142  0.024934\n",
            "2020-05-26  0.022618 -0.014067  0.002795 -0.015755 -0.000826\n",
            "\n",
            "[787 rows x 5 columns]\n",
            "P1-P5   -0.085774\n",
            "dtype: float64\n"
          ],
          "name": "stdout"
        }
      ]
    },
    {
      "cell_type": "markdown",
      "metadata": {
        "id": "Nid4qCO5Li1e"
      },
      "source": [
        "## Treynor et Jensen"
      ]
    },
    {
      "cell_type": "code",
      "metadata": {
        "id": "NvDervYmLi1f"
      },
      "source": [
        "intercept = sm.add_constant(FFResearch_filled[\"Mkt-RF\"])"
      ],
      "execution_count": 98,
      "outputs": []
    },
    {
      "cell_type": "markdown",
      "metadata": {
        "id": "uWlZ-PQsLi1f"
      },
      "source": [
        "### P1"
      ]
    },
    {
      "cell_type": "code",
      "metadata": {
        "colab": {
          "base_uri": "https://localhost:8080/",
          "height": 452
        },
        "id": "hvP-z2-CLi1f",
        "outputId": "f5871ef7-85a9-484a-9229-af2bbb1ebfbc"
      },
      "source": [
        "reg = sm.OLS(R_RF[\"P1\"], intercept).fit()\n",
        "reg.summary()"
      ],
      "execution_count": 99,
      "outputs": [
        {
          "output_type": "execute_result",
          "data": {
            "text/html": [
              "<table class=\"simpletable\">\n",
              "<caption>OLS Regression Results</caption>\n",
              "<tr>\n",
              "  <th>Dep. Variable:</th>           <td>P1</td>        <th>  R-squared:         </th> <td>   0.029</td>\n",
              "</tr>\n",
              "<tr>\n",
              "  <th>Model:</th>                   <td>OLS</td>       <th>  Adj. R-squared:    </th> <td>   0.028</td>\n",
              "</tr>\n",
              "<tr>\n",
              "  <th>Method:</th>             <td>Least Squares</td>  <th>  F-statistic:       </th> <td>   23.28</td>\n",
              "</tr>\n",
              "<tr>\n",
              "  <th>Date:</th>             <td>Sat, 06 Mar 2021</td> <th>  Prob (F-statistic):</th> <td>1.68e-06</td>\n",
              "</tr>\n",
              "<tr>\n",
              "  <th>Time:</th>                 <td>11:18:25</td>     <th>  Log-Likelihood:    </th> <td>  1296.6</td>\n",
              "</tr>\n",
              "<tr>\n",
              "  <th>No. Observations:</th>      <td>   787</td>      <th>  AIC:               </th> <td>  -2589.</td>\n",
              "</tr>\n",
              "<tr>\n",
              "  <th>Df Residuals:</th>          <td>   785</td>      <th>  BIC:               </th> <td>  -2580.</td>\n",
              "</tr>\n",
              "<tr>\n",
              "  <th>Df Model:</th>              <td>     1</td>      <th>                     </th>     <td> </td>   \n",
              "</tr>\n",
              "<tr>\n",
              "  <th>Covariance Type:</th>      <td>nonrobust</td>    <th>                     </th>     <td> </td>   \n",
              "</tr>\n",
              "</table>\n",
              "<table class=\"simpletable\">\n",
              "<tr>\n",
              "     <td></td>       <th>coef</th>     <th>std err</th>      <th>t</th>      <th>P>|t|</th>  <th>[0.025</th>    <th>0.975]</th>  \n",
              "</tr>\n",
              "<tr>\n",
              "  <th>const</th>  <td>   -0.0054</td> <td>    0.002</td> <td>   -3.262</td> <td> 0.001</td> <td>   -0.009</td> <td>   -0.002</td>\n",
              "</tr>\n",
              "<tr>\n",
              "  <th>Mkt-RF</th> <td>    0.0053</td> <td>    0.001</td> <td>    4.825</td> <td> 0.000</td> <td>    0.003</td> <td>    0.007</td>\n",
              "</tr>\n",
              "</table>\n",
              "<table class=\"simpletable\">\n",
              "<tr>\n",
              "  <th>Omnibus:</th>       <td>138.791</td> <th>  Durbin-Watson:     </th> <td>   2.091</td> \n",
              "</tr>\n",
              "<tr>\n",
              "  <th>Prob(Omnibus):</th> <td> 0.000</td>  <th>  Jarque-Bera (JB):  </th> <td> 746.945</td> \n",
              "</tr>\n",
              "<tr>\n",
              "  <th>Skew:</th>          <td>-0.677</td>  <th>  Prob(JB):          </th> <td>6.35e-163</td>\n",
              "</tr>\n",
              "<tr>\n",
              "  <th>Kurtosis:</th>      <td> 7.577</td>  <th>  Cond. No.          </th> <td>    1.51</td> \n",
              "</tr>\n",
              "</table><br/><br/>Warnings:<br/>[1] Standard Errors assume that the covariance matrix of the errors is correctly specified."
            ],
            "text/plain": [
              "<class 'statsmodels.iolib.summary.Summary'>\n",
              "\"\"\"\n",
              "                            OLS Regression Results                            \n",
              "==============================================================================\n",
              "Dep. Variable:                     P1   R-squared:                       0.029\n",
              "Model:                            OLS   Adj. R-squared:                  0.028\n",
              "Method:                 Least Squares   F-statistic:                     23.28\n",
              "Date:                Sat, 06 Mar 2021   Prob (F-statistic):           1.68e-06\n",
              "Time:                        11:18:25   Log-Likelihood:                 1296.6\n",
              "No. Observations:                 787   AIC:                            -2589.\n",
              "Df Residuals:                     785   BIC:                            -2580.\n",
              "Df Model:                           1                                         \n",
              "Covariance Type:            nonrobust                                         \n",
              "==============================================================================\n",
              "                 coef    std err          t      P>|t|      [0.025      0.975]\n",
              "------------------------------------------------------------------------------\n",
              "const         -0.0054      0.002     -3.262      0.001      -0.009      -0.002\n",
              "Mkt-RF         0.0053      0.001      4.825      0.000       0.003       0.007\n",
              "==============================================================================\n",
              "Omnibus:                      138.791   Durbin-Watson:                   2.091\n",
              "Prob(Omnibus):                  0.000   Jarque-Bera (JB):              746.945\n",
              "Skew:                          -0.677   Prob(JB):                    6.35e-163\n",
              "Kurtosis:                       7.577   Cond. No.                         1.51\n",
              "==============================================================================\n",
              "\n",
              "Warnings:\n",
              "[1] Standard Errors assume that the covariance matrix of the errors is correctly specified.\n",
              "\"\"\""
            ]
          },
          "metadata": {
            "tags": []
          },
          "execution_count": 99
        }
      ]
    },
    {
      "cell_type": "markdown",
      "metadata": {
        "id": "9u0RnOefLi1h"
      },
      "source": [
        "### P2"
      ]
    },
    {
      "cell_type": "code",
      "metadata": {
        "colab": {
          "base_uri": "https://localhost:8080/",
          "height": 452
        },
        "id": "dbju1rJILi1h",
        "outputId": "c6a4ebfc-9c89-4faf-98ef-4deda9b3fefb"
      },
      "source": [
        "reg = sm.OLS(R_RF[\"P2\"], intercept).fit()\n",
        "reg.summary()"
      ],
      "execution_count": 100,
      "outputs": [
        {
          "output_type": "execute_result",
          "data": {
            "text/html": [
              "<table class=\"simpletable\">\n",
              "<caption>OLS Regression Results</caption>\n",
              "<tr>\n",
              "  <th>Dep. Variable:</th>           <td>P2</td>        <th>  R-squared:         </th> <td>   0.034</td>\n",
              "</tr>\n",
              "<tr>\n",
              "  <th>Model:</th>                   <td>OLS</td>       <th>  Adj. R-squared:    </th> <td>   0.033</td>\n",
              "</tr>\n",
              "<tr>\n",
              "  <th>Method:</th>             <td>Least Squares</td>  <th>  F-statistic:       </th> <td>   27.70</td>\n",
              "</tr>\n",
              "<tr>\n",
              "  <th>Date:</th>             <td>Sat, 06 Mar 2021</td> <th>  Prob (F-statistic):</th> <td>1.83e-07</td>\n",
              "</tr>\n",
              "<tr>\n",
              "  <th>Time:</th>                 <td>11:18:25</td>     <th>  Log-Likelihood:    </th> <td>  1315.3</td>\n",
              "</tr>\n",
              "<tr>\n",
              "  <th>No. Observations:</th>      <td>   787</td>      <th>  AIC:               </th> <td>  -2627.</td>\n",
              "</tr>\n",
              "<tr>\n",
              "  <th>Df Residuals:</th>          <td>   785</td>      <th>  BIC:               </th> <td>  -2617.</td>\n",
              "</tr>\n",
              "<tr>\n",
              "  <th>Df Model:</th>              <td>     1</td>      <th>                     </th>     <td> </td>   \n",
              "</tr>\n",
              "<tr>\n",
              "  <th>Covariance Type:</th>      <td>nonrobust</td>    <th>                     </th>     <td> </td>   \n",
              "</tr>\n",
              "</table>\n",
              "<table class=\"simpletable\">\n",
              "<tr>\n",
              "     <td></td>       <th>coef</th>     <th>std err</th>      <th>t</th>      <th>P>|t|</th>  <th>[0.025</th>    <th>0.975]</th>  \n",
              "</tr>\n",
              "<tr>\n",
              "  <th>const</th>  <td>   -0.0059</td> <td>    0.002</td> <td>   -3.616</td> <td> 0.000</td> <td>   -0.009</td> <td>   -0.003</td>\n",
              "</tr>\n",
              "<tr>\n",
              "  <th>Mkt-RF</th> <td>    0.0056</td> <td>    0.001</td> <td>    5.263</td> <td> 0.000</td> <td>    0.004</td> <td>    0.008</td>\n",
              "</tr>\n",
              "</table>\n",
              "<table class=\"simpletable\">\n",
              "<tr>\n",
              "  <th>Omnibus:</th>       <td>174.368</td> <th>  Durbin-Watson:     </th> <td>   2.108</td> \n",
              "</tr>\n",
              "<tr>\n",
              "  <th>Prob(Omnibus):</th> <td> 0.000</td>  <th>  Jarque-Bera (JB):  </th> <td>1239.313</td> \n",
              "</tr>\n",
              "<tr>\n",
              "  <th>Skew:</th>          <td>-0.801</td>  <th>  Prob(JB):          </th> <td>7.70e-270</td>\n",
              "</tr>\n",
              "<tr>\n",
              "  <th>Kurtosis:</th>      <td> 8.935</td>  <th>  Cond. No.          </th> <td>    1.51</td> \n",
              "</tr>\n",
              "</table><br/><br/>Warnings:<br/>[1] Standard Errors assume that the covariance matrix of the errors is correctly specified."
            ],
            "text/plain": [
              "<class 'statsmodels.iolib.summary.Summary'>\n",
              "\"\"\"\n",
              "                            OLS Regression Results                            \n",
              "==============================================================================\n",
              "Dep. Variable:                     P2   R-squared:                       0.034\n",
              "Model:                            OLS   Adj. R-squared:                  0.033\n",
              "Method:                 Least Squares   F-statistic:                     27.70\n",
              "Date:                Sat, 06 Mar 2021   Prob (F-statistic):           1.83e-07\n",
              "Time:                        11:18:25   Log-Likelihood:                 1315.3\n",
              "No. Observations:                 787   AIC:                            -2627.\n",
              "Df Residuals:                     785   BIC:                            -2617.\n",
              "Df Model:                           1                                         \n",
              "Covariance Type:            nonrobust                                         \n",
              "==============================================================================\n",
              "                 coef    std err          t      P>|t|      [0.025      0.975]\n",
              "------------------------------------------------------------------------------\n",
              "const         -0.0059      0.002     -3.616      0.000      -0.009      -0.003\n",
              "Mkt-RF         0.0056      0.001      5.263      0.000       0.004       0.008\n",
              "==============================================================================\n",
              "Omnibus:                      174.368   Durbin-Watson:                   2.108\n",
              "Prob(Omnibus):                  0.000   Jarque-Bera (JB):             1239.313\n",
              "Skew:                          -0.801   Prob(JB):                    7.70e-270\n",
              "Kurtosis:                       8.935   Cond. No.                         1.51\n",
              "==============================================================================\n",
              "\n",
              "Warnings:\n",
              "[1] Standard Errors assume that the covariance matrix of the errors is correctly specified.\n",
              "\"\"\""
            ]
          },
          "metadata": {
            "tags": []
          },
          "execution_count": 100
        }
      ]
    },
    {
      "cell_type": "markdown",
      "metadata": {
        "id": "LyO90PdBLi1h"
      },
      "source": [
        "### P3"
      ]
    },
    {
      "cell_type": "code",
      "metadata": {
        "colab": {
          "base_uri": "https://localhost:8080/",
          "height": 452
        },
        "id": "NS_4AdGyLi1h",
        "outputId": "9ab68873-7d4f-4b42-8926-3556af39f56d"
      },
      "source": [
        "reg = sm.OLS(R_RF[\"P3\"], intercept).fit()\n",
        "reg.summary()"
      ],
      "execution_count": 101,
      "outputs": [
        {
          "output_type": "execute_result",
          "data": {
            "text/html": [
              "<table class=\"simpletable\">\n",
              "<caption>OLS Regression Results</caption>\n",
              "<tr>\n",
              "  <th>Dep. Variable:</th>           <td>P3</td>        <th>  R-squared:         </th> <td>   0.038</td>\n",
              "</tr>\n",
              "<tr>\n",
              "  <th>Model:</th>                   <td>OLS</td>       <th>  Adj. R-squared:    </th> <td>   0.037</td>\n",
              "</tr>\n",
              "<tr>\n",
              "  <th>Method:</th>             <td>Least Squares</td>  <th>  F-statistic:       </th> <td>   30.87</td>\n",
              "</tr>\n",
              "<tr>\n",
              "  <th>Date:</th>             <td>Sat, 06 Mar 2021</td> <th>  Prob (F-statistic):</th> <td>3.78e-08</td>\n",
              "</tr>\n",
              "<tr>\n",
              "  <th>Time:</th>                 <td>11:18:25</td>     <th>  Log-Likelihood:    </th> <td>  1331.3</td>\n",
              "</tr>\n",
              "<tr>\n",
              "  <th>No. Observations:</th>      <td>   787</td>      <th>  AIC:               </th> <td>  -2659.</td>\n",
              "</tr>\n",
              "<tr>\n",
              "  <th>Df Residuals:</th>          <td>   785</td>      <th>  BIC:               </th> <td>  -2649.</td>\n",
              "</tr>\n",
              "<tr>\n",
              "  <th>Df Model:</th>              <td>     1</td>      <th>                     </th>     <td> </td>   \n",
              "</tr>\n",
              "<tr>\n",
              "  <th>Covariance Type:</th>      <td>nonrobust</td>    <th>                     </th>     <td> </td>   \n",
              "</tr>\n",
              "</table>\n",
              "<table class=\"simpletable\">\n",
              "<tr>\n",
              "     <td></td>       <th>coef</th>     <th>std err</th>      <th>t</th>      <th>P>|t|</th>  <th>[0.025</th>    <th>0.975]</th>  \n",
              "</tr>\n",
              "<tr>\n",
              "  <th>const</th>  <td>   -0.0066</td> <td>    0.002</td> <td>   -4.142</td> <td> 0.000</td> <td>   -0.010</td> <td>   -0.003</td>\n",
              "</tr>\n",
              "<tr>\n",
              "  <th>Mkt-RF</th> <td>    0.0058</td> <td>    0.001</td> <td>    5.556</td> <td> 0.000</td> <td>    0.004</td> <td>    0.008</td>\n",
              "</tr>\n",
              "</table>\n",
              "<table class=\"simpletable\">\n",
              "<tr>\n",
              "  <th>Omnibus:</th>       <td>162.985</td> <th>  Durbin-Watson:     </th> <td>   2.083</td> \n",
              "</tr>\n",
              "<tr>\n",
              "  <th>Prob(Omnibus):</th> <td> 0.000</td>  <th>  Jarque-Bera (JB):  </th> <td>1020.612</td> \n",
              "</tr>\n",
              "<tr>\n",
              "  <th>Skew:</th>          <td>-0.773</td>  <th>  Prob(JB):          </th> <td>2.38e-222</td>\n",
              "</tr>\n",
              "<tr>\n",
              "  <th>Kurtosis:</th>      <td> 8.360</td>  <th>  Cond. No.          </th> <td>    1.51</td> \n",
              "</tr>\n",
              "</table><br/><br/>Warnings:<br/>[1] Standard Errors assume that the covariance matrix of the errors is correctly specified."
            ],
            "text/plain": [
              "<class 'statsmodels.iolib.summary.Summary'>\n",
              "\"\"\"\n",
              "                            OLS Regression Results                            \n",
              "==============================================================================\n",
              "Dep. Variable:                     P3   R-squared:                       0.038\n",
              "Model:                            OLS   Adj. R-squared:                  0.037\n",
              "Method:                 Least Squares   F-statistic:                     30.87\n",
              "Date:                Sat, 06 Mar 2021   Prob (F-statistic):           3.78e-08\n",
              "Time:                        11:18:25   Log-Likelihood:                 1331.3\n",
              "No. Observations:                 787   AIC:                            -2659.\n",
              "Df Residuals:                     785   BIC:                            -2649.\n",
              "Df Model:                           1                                         \n",
              "Covariance Type:            nonrobust                                         \n",
              "==============================================================================\n",
              "                 coef    std err          t      P>|t|      [0.025      0.975]\n",
              "------------------------------------------------------------------------------\n",
              "const         -0.0066      0.002     -4.142      0.000      -0.010      -0.003\n",
              "Mkt-RF         0.0058      0.001      5.556      0.000       0.004       0.008\n",
              "==============================================================================\n",
              "Omnibus:                      162.985   Durbin-Watson:                   2.083\n",
              "Prob(Omnibus):                  0.000   Jarque-Bera (JB):             1020.612\n",
              "Skew:                          -0.773   Prob(JB):                    2.38e-222\n",
              "Kurtosis:                       8.360   Cond. No.                         1.51\n",
              "==============================================================================\n",
              "\n",
              "Warnings:\n",
              "[1] Standard Errors assume that the covariance matrix of the errors is correctly specified.\n",
              "\"\"\""
            ]
          },
          "metadata": {
            "tags": []
          },
          "execution_count": 101
        }
      ]
    },
    {
      "cell_type": "markdown",
      "metadata": {
        "id": "NBeW1NwbLi1j"
      },
      "source": [
        "### P4"
      ]
    },
    {
      "cell_type": "code",
      "metadata": {
        "colab": {
          "base_uri": "https://localhost:8080/",
          "height": 452
        },
        "id": "9QV8-zhdLi1j",
        "outputId": "0d5a21dc-a1fd-4609-9cb4-e223e139e0c5"
      },
      "source": [
        "reg = sm.OLS(R_RF[\"P4\"], intercept).fit()\n",
        "reg.summary()"
      ],
      "execution_count": 102,
      "outputs": [
        {
          "output_type": "execute_result",
          "data": {
            "text/html": [
              "<table class=\"simpletable\">\n",
              "<caption>OLS Regression Results</caption>\n",
              "<tr>\n",
              "  <th>Dep. Variable:</th>           <td>P4</td>        <th>  R-squared:         </th> <td>   0.042</td>\n",
              "</tr>\n",
              "<tr>\n",
              "  <th>Model:</th>                   <td>OLS</td>       <th>  Adj. R-squared:    </th> <td>   0.041</td>\n",
              "</tr>\n",
              "<tr>\n",
              "  <th>Method:</th>             <td>Least Squares</td>  <th>  F-statistic:       </th> <td>   34.22</td>\n",
              "</tr>\n",
              "<tr>\n",
              "  <th>Date:</th>             <td>Sat, 06 Mar 2021</td> <th>  Prob (F-statistic):</th> <td>7.23e-09</td>\n",
              "</tr>\n",
              "<tr>\n",
              "  <th>Time:</th>                 <td>11:18:25</td>     <th>  Log-Likelihood:    </th> <td>  1308.5</td>\n",
              "</tr>\n",
              "<tr>\n",
              "  <th>No. Observations:</th>      <td>   787</td>      <th>  AIC:               </th> <td>  -2613.</td>\n",
              "</tr>\n",
              "<tr>\n",
              "  <th>Df Residuals:</th>          <td>   785</td>      <th>  BIC:               </th> <td>  -2604.</td>\n",
              "</tr>\n",
              "<tr>\n",
              "  <th>Df Model:</th>              <td>     1</td>      <th>                     </th>     <td> </td>   \n",
              "</tr>\n",
              "<tr>\n",
              "  <th>Covariance Type:</th>      <td>nonrobust</td>    <th>                     </th>     <td> </td>   \n",
              "</tr>\n",
              "</table>\n",
              "<table class=\"simpletable\">\n",
              "<tr>\n",
              "     <td></td>       <th>coef</th>     <th>std err</th>      <th>t</th>      <th>P>|t|</th>  <th>[0.025</th>    <th>0.975]</th>  \n",
              "</tr>\n",
              "<tr>\n",
              "  <th>const</th>  <td>   -0.0064</td> <td>    0.002</td> <td>   -3.905</td> <td> 0.000</td> <td>   -0.010</td> <td>   -0.003</td>\n",
              "</tr>\n",
              "<tr>\n",
              "  <th>Mkt-RF</th> <td>    0.0063</td> <td>    0.001</td> <td>    5.850</td> <td> 0.000</td> <td>    0.004</td> <td>    0.008</td>\n",
              "</tr>\n",
              "</table>\n",
              "<table class=\"simpletable\">\n",
              "<tr>\n",
              "  <th>Omnibus:</th>       <td>112.755</td> <th>  Durbin-Watson:     </th> <td>   2.078</td> \n",
              "</tr>\n",
              "<tr>\n",
              "  <th>Prob(Omnibus):</th> <td> 0.000</td>  <th>  Jarque-Bera (JB):  </th> <td> 885.490</td> \n",
              "</tr>\n",
              "<tr>\n",
              "  <th>Skew:</th>          <td>-0.362</td>  <th>  Prob(JB):          </th> <td>5.23e-193</td>\n",
              "</tr>\n",
              "<tr>\n",
              "  <th>Kurtosis:</th>      <td> 8.146</td>  <th>  Cond. No.          </th> <td>    1.51</td> \n",
              "</tr>\n",
              "</table><br/><br/>Warnings:<br/>[1] Standard Errors assume that the covariance matrix of the errors is correctly specified."
            ],
            "text/plain": [
              "<class 'statsmodels.iolib.summary.Summary'>\n",
              "\"\"\"\n",
              "                            OLS Regression Results                            \n",
              "==============================================================================\n",
              "Dep. Variable:                     P4   R-squared:                       0.042\n",
              "Model:                            OLS   Adj. R-squared:                  0.041\n",
              "Method:                 Least Squares   F-statistic:                     34.22\n",
              "Date:                Sat, 06 Mar 2021   Prob (F-statistic):           7.23e-09\n",
              "Time:                        11:18:25   Log-Likelihood:                 1308.5\n",
              "No. Observations:                 787   AIC:                            -2613.\n",
              "Df Residuals:                     785   BIC:                            -2604.\n",
              "Df Model:                           1                                         \n",
              "Covariance Type:            nonrobust                                         \n",
              "==============================================================================\n",
              "                 coef    std err          t      P>|t|      [0.025      0.975]\n",
              "------------------------------------------------------------------------------\n",
              "const         -0.0064      0.002     -3.905      0.000      -0.010      -0.003\n",
              "Mkt-RF         0.0063      0.001      5.850      0.000       0.004       0.008\n",
              "==============================================================================\n",
              "Omnibus:                      112.755   Durbin-Watson:                   2.078\n",
              "Prob(Omnibus):                  0.000   Jarque-Bera (JB):              885.490\n",
              "Skew:                          -0.362   Prob(JB):                    5.23e-193\n",
              "Kurtosis:                       8.146   Cond. No.                         1.51\n",
              "==============================================================================\n",
              "\n",
              "Warnings:\n",
              "[1] Standard Errors assume that the covariance matrix of the errors is correctly specified.\n",
              "\"\"\""
            ]
          },
          "metadata": {
            "tags": []
          },
          "execution_count": 102
        }
      ]
    },
    {
      "cell_type": "markdown",
      "metadata": {
        "id": "TXaGbfvlLi1j"
      },
      "source": [
        "### P5"
      ]
    },
    {
      "cell_type": "code",
      "metadata": {
        "colab": {
          "base_uri": "https://localhost:8080/",
          "height": 452
        },
        "id": "xmGGC0HXLi1j",
        "outputId": "4d78b4d9-0df0-4730-aca2-a783ce5d07c6"
      },
      "source": [
        "reg = sm.OLS(R_RF[\"P5\"], intercept).fit()\n",
        "reg.summary()"
      ],
      "execution_count": 103,
      "outputs": [
        {
          "output_type": "execute_result",
          "data": {
            "text/html": [
              "<table class=\"simpletable\">\n",
              "<caption>OLS Regression Results</caption>\n",
              "<tr>\n",
              "  <th>Dep. Variable:</th>           <td>P5</td>        <th>  R-squared:         </th> <td>   0.032</td>\n",
              "</tr>\n",
              "<tr>\n",
              "  <th>Model:</th>                   <td>OLS</td>       <th>  Adj. R-squared:    </th> <td>   0.031</td>\n",
              "</tr>\n",
              "<tr>\n",
              "  <th>Method:</th>             <td>Least Squares</td>  <th>  F-statistic:       </th> <td>   26.24</td>\n",
              "</tr>\n",
              "<tr>\n",
              "  <th>Date:</th>             <td>Sat, 06 Mar 2021</td> <th>  Prob (F-statistic):</th> <td>3.80e-07</td>\n",
              "</tr>\n",
              "<tr>\n",
              "  <th>Time:</th>                 <td>11:18:25</td>     <th>  Log-Likelihood:    </th> <td>  1271.3</td>\n",
              "</tr>\n",
              "<tr>\n",
              "  <th>No. Observations:</th>      <td>   787</td>      <th>  AIC:               </th> <td>  -2539.</td>\n",
              "</tr>\n",
              "<tr>\n",
              "  <th>Df Residuals:</th>          <td>   785</td>      <th>  BIC:               </th> <td>  -2529.</td>\n",
              "</tr>\n",
              "<tr>\n",
              "  <th>Df Model:</th>              <td>     1</td>      <th>                     </th>     <td> </td>   \n",
              "</tr>\n",
              "<tr>\n",
              "  <th>Covariance Type:</th>      <td>nonrobust</td>    <th>                     </th>     <td> </td>   \n",
              "</tr>\n",
              "</table>\n",
              "<table class=\"simpletable\">\n",
              "<tr>\n",
              "     <td></td>       <th>coef</th>     <th>std err</th>      <th>t</th>      <th>P>|t|</th>  <th>[0.025</th>    <th>0.975]</th>  \n",
              "</tr>\n",
              "<tr>\n",
              "  <th>const</th>  <td>   -0.0066</td> <td>    0.002</td> <td>   -3.870</td> <td> 0.000</td> <td>   -0.010</td> <td>   -0.003</td>\n",
              "</tr>\n",
              "<tr>\n",
              "  <th>Mkt-RF</th> <td>    0.0058</td> <td>    0.001</td> <td>    5.122</td> <td> 0.000</td> <td>    0.004</td> <td>    0.008</td>\n",
              "</tr>\n",
              "</table>\n",
              "<table class=\"simpletable\">\n",
              "<tr>\n",
              "  <th>Omnibus:</th>       <td>124.219</td> <th>  Durbin-Watson:     </th> <td>   2.132</td> \n",
              "</tr>\n",
              "<tr>\n",
              "  <th>Prob(Omnibus):</th> <td> 0.000</td>  <th>  Jarque-Bera (JB):  </th> <td>1294.206</td> \n",
              "</tr>\n",
              "<tr>\n",
              "  <th>Skew:</th>          <td>-0.323</td>  <th>  Prob(JB):          </th> <td>9.26e-282</td>\n",
              "</tr>\n",
              "<tr>\n",
              "  <th>Kurtosis:</th>      <td> 9.249</td>  <th>  Cond. No.          </th> <td>    1.51</td> \n",
              "</tr>\n",
              "</table><br/><br/>Warnings:<br/>[1] Standard Errors assume that the covariance matrix of the errors is correctly specified."
            ],
            "text/plain": [
              "<class 'statsmodels.iolib.summary.Summary'>\n",
              "\"\"\"\n",
              "                            OLS Regression Results                            \n",
              "==============================================================================\n",
              "Dep. Variable:                     P5   R-squared:                       0.032\n",
              "Model:                            OLS   Adj. R-squared:                  0.031\n",
              "Method:                 Least Squares   F-statistic:                     26.24\n",
              "Date:                Sat, 06 Mar 2021   Prob (F-statistic):           3.80e-07\n",
              "Time:                        11:18:25   Log-Likelihood:                 1271.3\n",
              "No. Observations:                 787   AIC:                            -2539.\n",
              "Df Residuals:                     785   BIC:                            -2529.\n",
              "Df Model:                           1                                         \n",
              "Covariance Type:            nonrobust                                         \n",
              "==============================================================================\n",
              "                 coef    std err          t      P>|t|      [0.025      0.975]\n",
              "------------------------------------------------------------------------------\n",
              "const         -0.0066      0.002     -3.870      0.000      -0.010      -0.003\n",
              "Mkt-RF         0.0058      0.001      5.122      0.000       0.004       0.008\n",
              "==============================================================================\n",
              "Omnibus:                      124.219   Durbin-Watson:                   2.132\n",
              "Prob(Omnibus):                  0.000   Jarque-Bera (JB):             1294.206\n",
              "Skew:                          -0.323   Prob(JB):                    9.26e-282\n",
              "Kurtosis:                       9.249   Cond. No.                         1.51\n",
              "==============================================================================\n",
              "\n",
              "Warnings:\n",
              "[1] Standard Errors assume that the covariance matrix of the errors is correctly specified.\n",
              "\"\"\""
            ]
          },
          "metadata": {
            "tags": []
          },
          "execution_count": 103
        }
      ]
    },
    {
      "cell_type": "markdown",
      "metadata": {
        "id": "GIAKx_YhLi1k"
      },
      "source": [
        "### P1-5"
      ]
    },
    {
      "cell_type": "code",
      "metadata": {
        "colab": {
          "base_uri": "https://localhost:8080/",
          "height": 452
        },
        "id": "m6T-ihpfLi1k",
        "outputId": "7f84bf77-5ca5-4e8a-c06d-ce030b4d1ae7"
      },
      "source": [
        "reg = sm.OLS(long_short_RF, intercept).fit()\n",
        "reg.summary()"
      ],
      "execution_count": 104,
      "outputs": [
        {
          "output_type": "execute_result",
          "data": {
            "text/html": [
              "<table class=\"simpletable\">\n",
              "<caption>OLS Regression Results</caption>\n",
              "<tr>\n",
              "  <th>Dep. Variable:</th>          <td>P1-P5</td>      <th>  R-squared:         </th> <td>   0.002</td>\n",
              "</tr>\n",
              "<tr>\n",
              "  <th>Model:</th>                   <td>OLS</td>       <th>  Adj. R-squared:    </th> <td>   0.001</td>\n",
              "</tr>\n",
              "<tr>\n",
              "  <th>Method:</th>             <td>Least Squares</td>  <th>  F-statistic:       </th> <td>   1.963</td>\n",
              "</tr>\n",
              "<tr>\n",
              "  <th>Date:</th>             <td>Sat, 06 Mar 2021</td> <th>  Prob (F-statistic):</th>  <td> 0.162</td> \n",
              "</tr>\n",
              "<tr>\n",
              "  <th>Time:</th>                 <td>11:18:25</td>     <th>  Log-Likelihood:    </th> <td>  719.47</td>\n",
              "</tr>\n",
              "<tr>\n",
              "  <th>No. Observations:</th>      <td>   787</td>      <th>  AIC:               </th> <td>  -1435.</td>\n",
              "</tr>\n",
              "<tr>\n",
              "  <th>Df Residuals:</th>          <td>   785</td>      <th>  BIC:               </th> <td>  -1426.</td>\n",
              "</tr>\n",
              "<tr>\n",
              "  <th>Df Model:</th>              <td>     1</td>      <th>                     </th>     <td> </td>   \n",
              "</tr>\n",
              "<tr>\n",
              "  <th>Covariance Type:</th>      <td>nonrobust</td>    <th>                     </th>     <td> </td>   \n",
              "</tr>\n",
              "</table>\n",
              "<table class=\"simpletable\">\n",
              "<tr>\n",
              "     <td></td>       <th>coef</th>     <th>std err</th>      <th>t</th>      <th>P>|t|</th>  <th>[0.025</th>    <th>0.975]</th>  \n",
              "</tr>\n",
              "<tr>\n",
              "  <th>const</th>  <td>   -0.0083</td> <td>    0.003</td> <td>   -2.387</td> <td> 0.017</td> <td>   -0.015</td> <td>   -0.001</td>\n",
              "</tr>\n",
              "<tr>\n",
              "  <th>Mkt-RF</th> <td>    0.0032</td> <td>    0.002</td> <td>    1.401</td> <td> 0.162</td> <td>   -0.001</td> <td>    0.008</td>\n",
              "</tr>\n",
              "</table>\n",
              "<table class=\"simpletable\">\n",
              "<tr>\n",
              "  <th>Omnibus:</th>       <td> 1.351</td> <th>  Durbin-Watson:     </th> <td>   1.633</td>\n",
              "</tr>\n",
              "<tr>\n",
              "  <th>Prob(Omnibus):</th> <td> 0.509</td> <th>  Jarque-Bera (JB):  </th> <td>   1.226</td>\n",
              "</tr>\n",
              "<tr>\n",
              "  <th>Skew:</th>          <td>-0.090</td> <th>  Prob(JB):          </th> <td>   0.542</td>\n",
              "</tr>\n",
              "<tr>\n",
              "  <th>Kurtosis:</th>      <td> 3.069</td> <th>  Cond. No.          </th> <td>    1.51</td>\n",
              "</tr>\n",
              "</table><br/><br/>Warnings:<br/>[1] Standard Errors assume that the covariance matrix of the errors is correctly specified."
            ],
            "text/plain": [
              "<class 'statsmodels.iolib.summary.Summary'>\n",
              "\"\"\"\n",
              "                            OLS Regression Results                            \n",
              "==============================================================================\n",
              "Dep. Variable:                  P1-P5   R-squared:                       0.002\n",
              "Model:                            OLS   Adj. R-squared:                  0.001\n",
              "Method:                 Least Squares   F-statistic:                     1.963\n",
              "Date:                Sat, 06 Mar 2021   Prob (F-statistic):              0.162\n",
              "Time:                        11:18:25   Log-Likelihood:                 719.47\n",
              "No. Observations:                 787   AIC:                            -1435.\n",
              "Df Residuals:                     785   BIC:                            -1426.\n",
              "Df Model:                           1                                         \n",
              "Covariance Type:            nonrobust                                         \n",
              "==============================================================================\n",
              "                 coef    std err          t      P>|t|      [0.025      0.975]\n",
              "------------------------------------------------------------------------------\n",
              "const         -0.0083      0.003     -2.387      0.017      -0.015      -0.001\n",
              "Mkt-RF         0.0032      0.002      1.401      0.162      -0.001       0.008\n",
              "==============================================================================\n",
              "Omnibus:                        1.351   Durbin-Watson:                   1.633\n",
              "Prob(Omnibus):                  0.509   Jarque-Bera (JB):                1.226\n",
              "Skew:                          -0.090   Prob(JB):                        0.542\n",
              "Kurtosis:                       3.069   Cond. No.                         1.51\n",
              "==============================================================================\n",
              "\n",
              "Warnings:\n",
              "[1] Standard Errors assume that the covariance matrix of the errors is correctly specified.\n",
              "\"\"\""
            ]
          },
          "metadata": {
            "tags": []
          },
          "execution_count": 104
        }
      ]
    },
    {
      "cell_type": "code",
      "metadata": {
        "id": "EDhjYQo0Li1k"
      },
      "source": [
        ""
      ],
      "execution_count": 104,
      "outputs": []
    }
  ]
}
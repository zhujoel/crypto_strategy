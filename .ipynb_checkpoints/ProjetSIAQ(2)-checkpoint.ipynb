{
 "cells": [
  {
   "cell_type": "markdown",
   "metadata": {
    "id": "zHHnv1edLi0r"
   },
   "source": [
    "# Projet Stratégies d'Investissement Alternatives et Quantitatives\n",
    "## Jérémy Bellina, Joël Zhu"
   ]
  },
  {
   "cell_type": "markdown",
   "metadata": {
    "id": "w7zF2UfILi0y"
   },
   "source": [
    "# Libraries"
   ]
  },
  {
   "cell_type": "code",
   "execution_count": 1,
   "metadata": {
    "id": "r_4HkcHzLi0z"
   },
   "outputs": [],
   "source": [
    "import numpy as np\n",
    "import pandas as pd\n",
    "import matplotlib.pyplot as plt\n",
    "import statsmodels.api as sm"
   ]
  },
  {
   "cell_type": "markdown",
   "metadata": {
    "id": "_PAEatEvLi02"
   },
   "source": [
    "# Data"
   ]
  },
  {
   "cell_type": "code",
   "execution_count": 79,
   "metadata": {
    "id": "-OcVPcXvLi04"
   },
   "outputs": [
    {
     "data": {
      "text/html": [
       "<div>\n",
       "<style scoped>\n",
       "    .dataframe tbody tr th:only-of-type {\n",
       "        vertical-align: middle;\n",
       "    }\n",
       "\n",
       "    .dataframe tbody tr th {\n",
       "        vertical-align: top;\n",
       "    }\n",
       "\n",
       "    .dataframe thead th {\n",
       "        text-align: right;\n",
       "    }\n",
       "</style>\n",
       "<table border=\"1\" class=\"dataframe\">\n",
       "  <thead>\n",
       "    <tr style=\"text-align: right;\">\n",
       "      <th></th>\n",
       "      <th>Mkt-RF</th>\n",
       "      <th>SMB</th>\n",
       "      <th>HML</th>\n",
       "      <th>RF</th>\n",
       "    </tr>\n",
       "    <tr>\n",
       "      <th>date</th>\n",
       "      <th></th>\n",
       "      <th></th>\n",
       "      <th></th>\n",
       "      <th></th>\n",
       "    </tr>\n",
       "  </thead>\n",
       "  <tbody>\n",
       "    <tr>\n",
       "      <th>2018-04-02</th>\n",
       "      <td>-2.29</td>\n",
       "      <td>-0.14</td>\n",
       "      <td>0.39</td>\n",
       "      <td>0.007</td>\n",
       "    </tr>\n",
       "    <tr>\n",
       "      <th>2018-04-03</th>\n",
       "      <td>1.24</td>\n",
       "      <td>-0.05</td>\n",
       "      <td>0.17</td>\n",
       "      <td>0.007</td>\n",
       "    </tr>\n",
       "    <tr>\n",
       "      <th>2018-04-04</th>\n",
       "      <td>1.17</td>\n",
       "      <td>0.32</td>\n",
       "      <td>-0.32</td>\n",
       "      <td>0.007</td>\n",
       "    </tr>\n",
       "    <tr>\n",
       "      <th>2018-04-05</th>\n",
       "      <td>0.75</td>\n",
       "      <td>0.03</td>\n",
       "      <td>0.48</td>\n",
       "      <td>0.007</td>\n",
       "    </tr>\n",
       "    <tr>\n",
       "      <th>2018-04-06</th>\n",
       "      <td>-2.19</td>\n",
       "      <td>0.40</td>\n",
       "      <td>-0.06</td>\n",
       "      <td>0.007</td>\n",
       "    </tr>\n",
       "    <tr>\n",
       "      <th>...</th>\n",
       "      <td>...</td>\n",
       "      <td>...</td>\n",
       "      <td>...</td>\n",
       "      <td>...</td>\n",
       "    </tr>\n",
       "    <tr>\n",
       "      <th>2020-04-24</th>\n",
       "      <td>1.44</td>\n",
       "      <td>0.32</td>\n",
       "      <td>-0.09</td>\n",
       "      <td>0.000</td>\n",
       "    </tr>\n",
       "    <tr>\n",
       "      <th>2020-04-27</th>\n",
       "      <td>1.73</td>\n",
       "      <td>1.65</td>\n",
       "      <td>2.74</td>\n",
       "      <td>0.000</td>\n",
       "    </tr>\n",
       "    <tr>\n",
       "      <th>2020-04-28</th>\n",
       "      <td>-0.44</td>\n",
       "      <td>0.87</td>\n",
       "      <td>2.89</td>\n",
       "      <td>0.000</td>\n",
       "    </tr>\n",
       "    <tr>\n",
       "      <th>2020-04-29</th>\n",
       "      <td>2.92</td>\n",
       "      <td>1.87</td>\n",
       "      <td>2.04</td>\n",
       "      <td>0.000</td>\n",
       "    </tr>\n",
       "    <tr>\n",
       "      <th>2020-04-30</th>\n",
       "      <td>-1.18</td>\n",
       "      <td>-1.42</td>\n",
       "      <td>-1.63</td>\n",
       "      <td>0.000</td>\n",
       "    </tr>\n",
       "  </tbody>\n",
       "</table>\n",
       "<p>525 rows × 4 columns</p>\n",
       "</div>"
      ],
      "text/plain": [
       "            Mkt-RF   SMB   HML     RF\n",
       "date                                 \n",
       "2018-04-02   -2.29 -0.14  0.39  0.007\n",
       "2018-04-03    1.24 -0.05  0.17  0.007\n",
       "2018-04-04    1.17  0.32 -0.32  0.007\n",
       "2018-04-05    0.75  0.03  0.48  0.007\n",
       "2018-04-06   -2.19  0.40 -0.06  0.007\n",
       "...            ...   ...   ...    ...\n",
       "2020-04-24    1.44  0.32 -0.09  0.000\n",
       "2020-04-27    1.73  1.65  2.74  0.000\n",
       "2020-04-28   -0.44  0.87  2.89  0.000\n",
       "2020-04-29    2.92  1.87  2.04  0.000\n",
       "2020-04-30   -1.18 -1.42 -1.63  0.000\n",
       "\n",
       "[525 rows x 4 columns]"
      ]
     },
     "execution_count": 79,
     "metadata": {},
     "output_type": "execute_result"
    }
   ],
   "source": [
    "# load the crypto prices csv data\n",
    "crypto_prices = pd.read_csv(\"crypto_prices.csv\", parse_dates=[0])\n",
    "crypto_prices.set_index('date', inplace=True)\n",
    "\n",
    "# load the CRIX index csv data\n",
    "crix_prices = pd.read_csv(\"vcrix.csv\", parse_dates=[0])\n",
    "crix_prices.set_index('date', inplace=True)\n",
    "crix_prices = crix_prices.drop([\"Unnamed: 0\", \"n\"], axis=1)\n",
    "crix_prices = crix_prices.loc[\"2018-04-01\":\"2020-05-26\"]\n",
    "\n",
    "# load the Fama & French momentum factor csv data\n",
    "FFMomentum = pd.read_csv(\"F-F_Momentum_Factor_daily.CSV\", parse_dates=[0])\n",
    "FFMomentum = FFMomentum.rename(columns={'Unnamed: 0': 'date'})\n",
    "FFMomentum.set_index('date', inplace=True)\n",
    "FFMomentum = FFMomentum.loc[\"2018-04-01\":]\n",
    "\n",
    "# load the Fama & French research data factor csv data\n",
    "FFResearch = pd.read_csv(\"F-F_Research_Data_Factors_daily.CSV\", parse_dates=[0])\n",
    "FFResearch = FFResearch.rename(columns={'Unnamed: 0': 'date'})\n",
    "FFResearch.set_index('date', inplace=True)\n",
    "FFResearch = FFResearch.loc[\"2018-04-01\":]"
   ]
  },
  {
   "cell_type": "code",
   "execution_count": 3,
   "metadata": {
    "id": "zIMsU8QOLi05"
   },
   "outputs": [],
   "source": [
    "formatted_dates = pd.date_range(start = \"2018-04-01\", end = \"2020-05-26\")\n",
    "rebalancing_dates = pd.date_range(start = \"2018-04-01\", end = \"2020-05-01\", freq = pd.DateOffset(months=1, day=1))\n",
    "horizon = 15\n",
    "initial_value = 100"
   ]
  },
  {
   "cell_type": "markdown",
   "metadata": {
    "id": "RcJ4UKtVLi06"
   },
   "source": [
    "# Helper functions"
   ]
  },
  {
   "cell_type": "code",
   "execution_count": 4,
   "metadata": {
    "id": "v8jchg6eLi07"
   },
   "outputs": [],
   "source": [
    "def sort_returns(current_date, data):\n",
    "    date = str(current_date.date())\n",
    "    return data.loc[date].sort_values(ascending=False)"
   ]
  },
  {
   "cell_type": "code",
   "execution_count": 5,
   "metadata": {
    "id": "KhU5IIoZLi08"
   },
   "outputs": [],
   "source": [
    "def compute_value(date, portfolio, crypto_prices):\n",
    "    value = 0\n",
    "    for item in portfolio:\n",
    "        value += item[1] * crypto_prices.loc[date, item[0]]\n",
    "    return value"
   ]
  },
  {
   "cell_type": "code",
   "execution_count": 6,
   "metadata": {
    "id": "8d0zM7cgLi09"
   },
   "outputs": [],
   "source": [
    "def update_portfolio(amount, data, date, crypto_names):\n",
    "    portfolio = []\n",
    "    for name in crypto_names:\n",
    "        portfolio.append((name, amount / data.loc[date, name]))\n",
    "    return portfolio"
   ]
  },
  {
   "cell_type": "markdown",
   "metadata": {
    "id": "4pxMwZvuLi0_"
   },
   "source": [
    "# Backtest functions"
   ]
  },
  {
   "cell_type": "markdown",
   "metadata": {
    "id": "AB4hBcpeLi1A"
   },
   "source": [
    "Creates portfolio long on all crypto currencies **equally weighted**"
   ]
  },
  {
   "cell_type": "code",
   "execution_count": 7,
   "metadata": {
    "id": "B2gWO0_uLi1B"
   },
   "outputs": [],
   "source": [
    "def get_portfolio_values(initial_value, horizon, formatted_dates, rebalancing_dates, data, portfolio_index):\n",
    "    values = [initial_value]\n",
    "    returns = data.pct_change(periods=horizon)\n",
    "    portfolio = []\n",
    "    for date in formatted_dates:\n",
    "        if str(date) != \"2018-04-01 00:00:00\":\n",
    "            values.append(compute_value(date, portfolio, data)) # update values\n",
    "        if date in rebalancing_dates:\n",
    "            sorted_returns = sort_returns(date, returns) # sort returns for the rebalancing date\n",
    "            crypto_names = sorted_returns.iloc[(10 * (portfolio_index - 1)):(10 * portfolio_index)].index # extract names from data\n",
    "            portfolio = update_portfolio(values[-1] / 10, data, date, crypto_names) # update composition\n",
    "    return values"
   ]
  },
  {
   "cell_type": "markdown",
   "metadata": {
    "id": "A2LyqPYELi1B"
   },
   "source": [
    "Creates a portfolio **long on best returns** crypto currencies and **short on lowest returns** ones"
   ]
  },
  {
   "cell_type": "code",
   "execution_count": 8,
   "metadata": {
    "id": "_8YqPZsuLi1B"
   },
   "outputs": [],
   "source": [
    " def long_short_strategy(ptf_values1, ptf_values5):\n",
    "    values = []\n",
    "    for value1, value5 in zip(ptf_values1, ptf_values5):\n",
    "        values.append(value1 - value5)\n",
    "    return values"
   ]
  },
  {
   "cell_type": "markdown",
   "metadata": {
    "id": "HV9U6LYXLi1C"
   },
   "source": [
    "# Portfolio initializations"
   ]
  },
  {
   "cell_type": "code",
   "execution_count": 9,
   "metadata": {
    "id": "L7TyFrHBLi1C"
   },
   "outputs": [],
   "source": [
    "# P1, P2, P3, P4, P5\n",
    "portfolios_df = pd.DataFrame()\n",
    "\n",
    "portfolios_df[\"date\"] = formatted_dates\n",
    "portfolios_df.set_index('date', inplace=True) # set as index so that it is easier to plot\n",
    "\n",
    "for i in range(5):\n",
    "    pf_index = 1+i\n",
    "    portfolios_df[\"P\"+str(pf_index)] = get_portfolio_values(initial_value, horizon, formatted_dates, rebalancing_dates, crypto_prices, pf_index)"
   ]
  },
  {
   "cell_type": "code",
   "execution_count": 42,
   "metadata": {
    "id": "7coIOQ9_Li1D"
   },
   "outputs": [],
   "source": [
    "# Long-short strategy\n",
    "ptf_values1 = get_portfolio_values(initial_value, horizon, formatted_dates, rebalancing_dates, crypto_prices, 1)\n",
    "ptf_values5 = get_portfolio_values(initial_value, horizon, formatted_dates, rebalancing_dates, crypto_prices, 5)\n",
    "long_short = long_short_strategy(ptf_values1, ptf_values5)\n",
    "\n",
    "long_short_df = pd.DataFrame(data = {'date': formatted_dates, 'P1-P5': long_short})\n",
    "long_short_df.set_index('date', inplace=True)"
   ]
  },
  {
   "cell_type": "markdown",
   "metadata": {
    "id": "SxjfhRDCLi1D"
   },
   "source": [
    "# Plot "
   ]
  },
  {
   "cell_type": "code",
   "execution_count": 11,
   "metadata": {
    "colab": {
     "base_uri": "https://localhost:8080/",
     "height": 542
    },
    "id": "llBzE_77Li1E",
    "outputId": "54cf02e4-09ce-45d0-c3e1-69160f1b971e"
   },
   "outputs": [
    {
     "data": {
      "text/plain": [
       "<matplotlib.axes._subplots.AxesSubplot at 0x7f88f125a1d0>"
      ]
     },
     "execution_count": 11,
     "metadata": {},
     "output_type": "execute_result"
    },
    {
     "data": {
      "image/png": "[encoded data removed]",
      "text/plain": [
       "<Figure size 1152x576 with 1 Axes>"
      ]
     },
     "metadata": {},
     "output_type": "display_data"
    }
   ],
   "source": [
    "portfolios_df.plot(figsize=(16,8), title=\"Values of P1, P2, P3, P4 P5\")"
   ]
  },
  {
   "cell_type": "code",
   "execution_count": 106,
   "metadata": {
    "colab": {
     "base_uri": "https://localhost:8080/",
     "height": 542
    },
    "id": "tp__0yDtLi1H",
    "outputId": "b0062d47-228b-4545-8763-3813c44703cc",
    "scrolled": true
   },
   "outputs": [
    {
     "data": {
      "text/plain": [
       "<matplotlib.axes._subplots.AxesSubplot at 0x7f88f0331c50>"
      ]
     },
     "execution_count": 106,
     "metadata": {},
     "output_type": "execute_result"
    },
    {
     "data": {
      "image/png": "[encoded data removed]",
      "text/plain": [
       "<Figure size 576x288 with 1 Axes>"
      ]
     },
     "metadata": {},
     "output_type": "display_data"
    }
   ],
   "source": [
    "long_short_df.plot(figsize=(8,4), title=\"Long-short strategy (buy P1 sell P5)\")"
   ]
  },
  {
   "cell_type": "markdown",
   "metadata": {
    "id": "JRp8PYU4Li1I"
   },
   "source": [
    "# Statistical description"
   ]
  },
  {
   "cell_type": "markdown",
   "metadata": {
    "id": "H39m5TqzLi1I"
   },
   "source": [
    "## Initialization"
   ]
  },
  {
   "cell_type": "code",
   "execution_count": 13,
   "metadata": {
    "id": "1J5CnZRDLi1J"
   },
   "outputs": [],
   "source": [
    "# P1 to P5\n",
    "portfolios_df_returns = portfolios_df.pct_change()"
   ]
  },
  {
   "cell_type": "code",
   "execution_count": 75,
   "metadata": {
    "id": "xN6KQCI0Li1J"
   },
   "outputs": [],
   "source": [
    "# Long-short strategy\n",
    "long_short_df_returns = long_short_df.pct_change()\n",
    "\n",
    "def winsorizing(df, col):\n",
    "    q1 = df[col].quantile(0.025)\n",
    "    q3 = df[col].quantile(0.975)\n",
    "    iqr = q3-q1\n",
    "    minimum  = q1\n",
    "    maximum = q3\n",
    "    return df.loc[(df[col] > minimum) & (df[col] < maximum)]\n",
    "\n",
    "long_short_df_returns = winsorizing(long_short_df_returns, 'P1-P5')"
   ]
  },
  {
   "cell_type": "markdown",
   "metadata": {
    "id": "Htb3Dq_YLi1K"
   },
   "source": [
    "## Mean"
   ]
  },
  {
   "cell_type": "code",
   "execution_count": 15,
   "metadata": {
    "colab": {
     "base_uri": "https://localhost:8080/"
    },
    "id": "fJIkXyC3Li1L",
    "outputId": "c5d5b54b-3935-4980-9f12-67ee8713dacc"
   },
   "outputs": [
    {
     "data": {
      "text/plain": [
       "P1    0.001651\n",
       "P2    0.001213\n",
       "P3    0.000491\n",
       "P4    0.000686\n",
       "P5    0.000440\n",
       "dtype: float64"
      ]
     },
     "execution_count": 15,
     "metadata": {},
     "output_type": "execute_result"
    }
   ],
   "source": [
    "# P1, P2, P3, P4, P5\n",
    "portfolios_df_returns.mean()"
   ]
  },
  {
   "cell_type": "markdown",
   "metadata": {
    "id": "h4N6fUimLi1M"
   },
   "source": [
    "Interprétation : Le rendement moyen journalier du portefeuille P1 est 0.165%. Il est plus élevé que tous les autres portefeuilles momentum. Cela est cohérent car le portefeuille P1 est constitué des crypto-monnaies ayant la plus forte croissance à chaque date de rebalancement. Il semble donc que la stratégie momentum fonctionne."
   ]
  },
  {
   "cell_type": "code",
   "execution_count": 16,
   "metadata": {
    "colab": {
     "base_uri": "https://localhost:8080/"
    },
    "id": "fJw1CrPnLi1M",
    "outputId": "5a4a2eb8-3d11-4e01-c96d-ad88561c8f0e"
   },
   "outputs": [
    {
     "data": {
      "text/plain": [
       "P1-P5    0.003924\n",
       "dtype: float64"
      ]
     },
     "execution_count": 16,
     "metadata": {},
     "output_type": "execute_result"
    }
   ],
   "source": [
    "# Long-short strategy\n",
    "long_short_df_returns.mean()"
   ]
  },
  {
   "cell_type": "markdown",
   "metadata": {
    "id": "uP_NVz0CLi1N"
   },
   "source": [
    "Interprétation : Le rendement moyen journalier de la stratégie 'acheter P1 et vendre P5' est proche de 0.5%. Cela est beaucoup plus élevé que le rendement moyen de P1. C'est un signe positif qui indique que la stratégie semble fonctionner."
   ]
  },
  {
   "cell_type": "markdown",
   "metadata": {
    "id": "FXZDIP0uLi1N"
   },
   "source": [
    "## Standard deviation"
   ]
  },
  {
   "cell_type": "code",
   "execution_count": 17,
   "metadata": {
    "colab": {
     "base_uri": "https://localhost:8080/"
    },
    "id": "RJnhjrQ_Li1N",
    "outputId": "44193b5b-20f2-46f9-b429-59644cebbd59"
   },
   "outputs": [
    {
     "data": {
      "text/plain": [
       "P1    0.047095\n",
       "P2    0.046147\n",
       "P3    0.045343\n",
       "P4    0.046768\n",
       "P5    0.048832\n",
       "dtype: float64"
      ]
     },
     "execution_count": 17,
     "metadata": {},
     "output_type": "execute_result"
    }
   ],
   "source": [
    "# P1, P2, P3, P4, P5\n",
    "portfolios_df_returns.std()"
   ]
  },
  {
   "cell_type": "markdown",
   "metadata": {
    "id": "Ngfvbu6bLi1O"
   },
   "source": [
    "Interprétation : Les écart-types ne sont pas significativement éloignés les uns des autres pour pouvoir dire qu'un portefeuille est plus risqué qu'un autre. On peut donc supposer que les portefeuilles de crypto-monnaies sont tous exposés à un risque de marché similaire important (celui des crypto-monnaies) mais que les portefeuilles sont suffisament diversifiés au sein de ce marché pour ne subir qu'un risque spécifique faible."
   ]
  },
  {
   "cell_type": "code",
   "execution_count": 18,
   "metadata": {
    "colab": {
     "base_uri": "https://localhost:8080/"
    },
    "id": "9S8FvYvhLi1O",
    "outputId": "4cf82d5b-d98c-4a20-b32a-e4cc504d081e"
   },
   "outputs": [
    {
     "data": {
      "text/plain": [
       "P1-P5    0.105557\n",
       "dtype: float64"
      ]
     },
     "execution_count": 18,
     "metadata": {},
     "output_type": "execute_result"
    }
   ],
   "source": [
    "# Long-short strategy\n",
    "long_short_df_returns.std()"
   ]
  },
  {
   "cell_type": "markdown",
   "metadata": {
    "id": "scg8dY66Li1P"
   },
   "source": [
    "Interprétation : L'écart-type de la stratégie est presque 2x plus élevé que le portefeuille P1. On peut donc expliquer en partie le rendement plus élevé de cet stratégie par un risque beaucoup plus grand."
   ]
  },
  {
   "cell_type": "markdown",
   "metadata": {
    "id": "wwHCzGB_Li1P"
   },
   "source": [
    "## Median"
   ]
  },
  {
   "cell_type": "code",
   "execution_count": 19,
   "metadata": {
    "colab": {
     "base_uri": "https://localhost:8080/"
    },
    "id": "LneTVLcdLi1Q",
    "outputId": "8616649d-9af6-4ac0-cf91-9bc58173c7fc"
   },
   "outputs": [
    {
     "data": {
      "text/plain": [
       "P1    0.003487\n",
       "P2    0.002854\n",
       "P3    0.002478\n",
       "P4    0.003057\n",
       "P5    0.003053\n",
       "dtype: float64"
      ]
     },
     "execution_count": 19,
     "metadata": {},
     "output_type": "execute_result"
    }
   ],
   "source": [
    "# P1, P2, P3, P4, P5\n",
    "portfolios_df_returns.median()"
   ]
  },
  {
   "cell_type": "markdown",
   "metadata": {
    "id": "3gBMWTAjLi1Q"
   },
   "source": [
    "Interprétation : Les médianes sont bien plus élevées que les moyennes. Les rendements journaliers négatifs sont donc beaucoup plus importants en valeur absolue que les rendement positifs."
   ]
  },
  {
   "cell_type": "code",
   "execution_count": 20,
   "metadata": {
    "colab": {
     "base_uri": "https://localhost:8080/"
    },
    "id": "EiEmLkvILi1Q",
    "outputId": "c8bfb9f8-8fa3-418b-e779-4ebb79ba5edc"
   },
   "outputs": [
    {
     "data": {
      "text/plain": [
       "P1-P5    0.005484\n",
       "dtype: float64"
      ]
     },
     "execution_count": 20,
     "metadata": {},
     "output_type": "execute_result"
    }
   ],
   "source": [
    "# Long-short strategy\n",
    "long_short_df_returns.median()"
   ]
  },
  {
   "cell_type": "markdown",
   "metadata": {
    "id": "uYllufRULi1R"
   },
   "source": [
    "Interprétation : La médiane est plus élevée que pour le P1. Cela semble cohérent avec le fait que la rentabilité moyenne soit également plus élevée."
   ]
  },
  {
   "cell_type": "markdown",
   "metadata": {
    "id": "3Z1WrFj4Li1R"
   },
   "source": [
    "## Minimum"
   ]
  },
  {
   "cell_type": "code",
   "execution_count": 21,
   "metadata": {
    "colab": {
     "base_uri": "https://localhost:8080/"
    },
    "id": "64ac1kD-Li1R",
    "outputId": "dae8c863-1cd2-4981-83fa-8424512c1c49"
   },
   "outputs": [
    {
     "data": {
      "text/plain": [
       "P1   -0.388953\n",
       "P2   -0.414802\n",
       "P3   -0.398284\n",
       "P4   -0.385747\n",
       "P5   -0.426499\n",
       "dtype: float64"
      ]
     },
     "execution_count": 21,
     "metadata": {},
     "output_type": "execute_result"
    }
   ],
   "source": [
    "# P1, P2, P3, P4, P5\n",
    "portfolios_df_returns.min()"
   ]
  },
  {
   "cell_type": "markdown",
   "metadata": {
    "id": "h4mYd0DeLi1R"
   },
   "source": [
    "Interprétation : Durant sa pire journée, le portefeuille P1 a subit une baisse de -38.90% de sa valeur. Cela est très important mais reste néanmoins légerement moins que les autres portefeuilles (à l'exception du P4)."
   ]
  },
  {
   "cell_type": "code",
   "execution_count": 22,
   "metadata": {
    "colab": {
     "base_uri": "https://localhost:8080/"
    },
    "id": "mojvQ8dSLi1S",
    "outputId": "f4c615b3-157d-48cd-e4fb-b75790f04b15"
   },
   "outputs": [
    {
     "data": {
      "text/plain": [
       "P1-P5   -0.316076\n",
       "dtype: float64"
      ]
     },
     "execution_count": 22,
     "metadata": {},
     "output_type": "execute_result"
    }
   ],
   "source": [
    "# Long-short strategy\n",
    "long_short_df_returns.min()"
   ]
  },
  {
   "cell_type": "markdown",
   "metadata": {
    "id": "sEaUPwPLLi1T"
   },
   "source": [
    "Interprétation : Le minimum de la stratégie est plus faible que celui de P1. C'est un signe positif qui indique que cette stratégie permet d'amortir les variations fortes du marché. \n",
    "\n",
    "A noter : Ce résultat est à relativiser car on effectue une winsorisation qui élimine certaines valeurs extrêmes."
   ]
  },
  {
   "cell_type": "markdown",
   "metadata": {
    "id": "gYRpbj9lLi1T"
   },
   "source": [
    "## Maximum"
   ]
  },
  {
   "cell_type": "code",
   "execution_count": 23,
   "metadata": {
    "colab": {
     "base_uri": "https://localhost:8080/"
    },
    "id": "Zz2fF7btLi1T",
    "outputId": "6e338a9a-565e-4afb-b680-e66aac6d6412"
   },
   "outputs": [
    {
     "data": {
      "text/plain": [
       "P1    0.153043\n",
       "P2    0.186089\n",
       "P3    0.168602\n",
       "P4    0.252157\n",
       "P5    0.210899\n",
       "dtype: float64"
      ]
     },
     "execution_count": 23,
     "metadata": {},
     "output_type": "execute_result"
    }
   ],
   "source": [
    "# P1, P2, P3, P4, P5\n",
    "portfolios_df_returns.max()"
   ]
  },
  {
   "cell_type": "markdown",
   "metadata": {
    "id": "HqvL01voLi1T"
   },
   "source": [
    "Interprétation : Durant sa meilleure journée, le portefeuille P1 a vu sa valeur monter de 15.30%. C'est impressionant mais plus faible que les autres portefeuiles qui atteignent jusqu'à 25.22%. Durant des périodes à fortes variations, le portefeuille P1 subit des gains et des pertes moins importantes que ses homologues. On pourra donc s'attendre à un Béta plus faible."
   ]
  },
  {
   "cell_type": "code",
   "execution_count": 24,
   "metadata": {
    "colab": {
     "base_uri": "https://localhost:8080/"
    },
    "id": "g37Z-T6hLi1V",
    "outputId": "b8c0ea18-64b2-4f81-a2a0-78c2680c6c4b"
   },
   "outputs": [
    {
     "data": {
      "text/plain": [
       "P1-P5    0.33099\n",
       "dtype: float64"
      ]
     },
     "execution_count": 24,
     "metadata": {},
     "output_type": "execute_result"
    }
   ],
   "source": [
    "# Long-short strategy\n",
    "long_short_df_returns.max()"
   ]
  },
  {
   "cell_type": "markdown",
   "metadata": {
    "id": "7FmZl9E0Li1W"
   },
   "source": [
    "Interprétation : Même avec la winsorisation, le maximum est nettement plus élevé que P1. C'est également un bon signe car cette stratégie permettrait donc d'amortir les variations à la baisse et amplifier les variations à la hausse."
   ]
  },
  {
   "cell_type": "markdown",
   "metadata": {
    "id": "7q_LXLQlLi1Y"
   },
   "source": [
    "## Skewness"
   ]
  },
  {
   "cell_type": "code",
   "execution_count": 25,
   "metadata": {
    "colab": {
     "base_uri": "https://localhost:8080/"
    },
    "id": "Idv88876Li1Z",
    "outputId": "eb705b06-c6ee-4651-e045-823715c44a15"
   },
   "outputs": [
    {
     "data": {
      "text/plain": [
       "P1   -0.938847\n",
       "P2   -1.129604\n",
       "P3   -1.027596\n",
       "P4   -0.639909\n",
       "P5   -0.567365\n",
       "dtype: float64"
      ]
     },
     "execution_count": 25,
     "metadata": {},
     "output_type": "execute_result"
    }
   ],
   "source": [
    "# P1, P2, P3, P4, P5\n",
    "portfolios_df_returns.skew(axis=0)"
   ]
  },
  {
   "cell_type": "markdown",
   "metadata": {
    "id": "siuYXl_aLi1Z"
   },
   "source": [
    "Interprétation : La skewness de tous les portefeuilles est négative. Cette statistique indique que la distribution est asymétrique et que la queue de la distribution est plus longue vers les rendements inférieurs à la moyenne. \n",
    "Pour les portefeuilles P1 à P5, la distribution est modéremment voire fortement skewed négativement.\n",
    "Cela est confirmée par le fait que la moyenne soit inférieure à la médiane. "
   ]
  },
  {
   "cell_type": "code",
   "execution_count": 26,
   "metadata": {
    "colab": {
     "base_uri": "https://localhost:8080/"
    },
    "id": "_uL4IfHdLi1Z",
    "outputId": "d5f552f3-a2ef-4817-b343-78f9f5861059"
   },
   "outputs": [
    {
     "data": {
      "text/plain": [
       "P1-P5   -0.051887\n",
       "dtype: float64"
      ]
     },
     "execution_count": 26,
     "metadata": {},
     "output_type": "execute_result"
    }
   ],
   "source": [
    "# Long-short strategy\n",
    "long_short_df_returns.skew(axis=0)"
   ]
  },
  {
   "cell_type": "markdown",
   "metadata": {
    "id": "_qyF2EfdLi1Z"
   },
   "source": [
    "Interprétation : La skewness de la stratégie est proche de 0. La distribution est donc quasiment symétrique.\n",
    "Cela est également logique car la différence entre la moyenne et la médiane est plus faible pour la stratégie que pour les portefeuilles individuels."
   ]
  },
  {
   "cell_type": "markdown",
   "metadata": {
    "id": "AwlIQGQ3Li1b"
   },
   "source": [
    "## Kurtosis"
   ]
  },
  {
   "cell_type": "code",
   "execution_count": 27,
   "metadata": {
    "colab": {
     "base_uri": "https://localhost:8080/"
    },
    "id": "j0WCekePLi1b",
    "outputId": "71a65c6a-fc73-4eca-c8dd-2a35cb434918"
   },
   "outputs": [
    {
     "data": {
      "text/plain": [
       "P1    7.182078\n",
       "P2    9.462124\n",
       "P3    8.739581\n",
       "P4    8.008115\n",
       "P5    9.388953\n",
       "dtype: float64"
      ]
     },
     "execution_count": 27,
     "metadata": {},
     "output_type": "execute_result"
    }
   ],
   "source": [
    "# P1, P2, P3, P4, P5\n",
    "portfolios_df_returns.kurtosis(axis=0)"
   ]
  },
  {
   "cell_type": "markdown",
   "metadata": {
    "id": "B1OA4wmDLi1b"
   },
   "source": [
    "Interprétation : Les Kurtosis sont plus grandes que 3. La distribution est donc leptokurtique qui indique qu'une grande partie des rentabilités est concentrée autour de la moyenne."
   ]
  },
  {
   "cell_type": "code",
   "execution_count": 28,
   "metadata": {
    "colab": {
     "base_uri": "https://localhost:8080/"
    },
    "id": "1429GsrbLi1b",
    "outputId": "6653ceb8-333a-41d2-b701-bd33d16902e2"
   },
   "outputs": [
    {
     "data": {
      "text/plain": [
       "P1-P5    0.892423\n",
       "dtype: float64"
      ]
     },
     "execution_count": 28,
     "metadata": {},
     "output_type": "execute_result"
    }
   ],
   "source": [
    "# Long-short strategy\n",
    "long_short_df_returns.kurtosis(axis=0)"
   ]
  },
  {
   "cell_type": "markdown",
   "metadata": {
    "id": "DgiClB1GLi1c"
   },
   "source": [
    "Interprétation : Le kurtosis est inférieur à 3. La distribution est platykurtique ce qui signifie que la distribution est plate et donc les valeurs ne sont pas concentrées autour de la moyenne mais plus étalées."
   ]
  },
  {
   "cell_type": "markdown",
   "metadata": {
    "id": "tXu8lAAfLi1c"
   },
   "source": [
    "## Global interpretation"
   ]
  },
  {
   "cell_type": "markdown",
   "metadata": {
    "id": "nQ3Ac8ShLi1c"
   },
   "source": [
    "- P1-5 bons rendements moyens médian max donc bonne strat\n",
    "- mais plus risquée car stddev grande et kurtosis < 3 donc rendements étalés et pas forcément proches de la moyenne\n",
    "- donc mesures de perf pour voir lequel est le meilleur ptf\n",
    "- très dépendant des paramètres notamment de horizon"
   ]
  },
  {
   "cell_type": "markdown",
   "metadata": {
    "id": "p8POnMbxLi1c"
   },
   "source": [
    "# Performance measures"
   ]
  },
  {
   "cell_type": "markdown",
   "metadata": {
    "id": "dxwImIR_Li1c"
   },
   "source": [
    "## Initialization"
   ]
  },
  {
   "cell_type": "code",
   "execution_count": 99,
   "metadata": {
    "id": "R_eiLzCPLi1c"
   },
   "outputs": [],
   "source": [
    "def fill_missing_values(dataframe, dates):\n",
    "    # We use a list of dates to ensure that we have all the dates we want in the dataframe\n",
    "    dataframe = dataframe.reindex(dates)\n",
    "    # We use the last valid value to fill the NaN created \n",
    "    dataframe = dataframe.fillna(method='ffill')\n",
    "    # We use the next valid value to fill the first row of NaN\n",
    "    dataframe = dataframe.fillna(method='bfill')\n",
    "    return dataframe\n",
    "\n",
    "# We fill the missing dates of FFResearch \n",
    "FFResearch_filled = fill_missing_values(FFResearch, formatted_dates)\n",
    "\n",
    "# We fill the missing dates of FFMomentum\n",
    "FFMomentum_filled = fill_missing_values(FFMomentum, formatted_dates)\n",
    "\n",
    "# We fill the first value of portfolios_df_returns which is NaN\n",
    "portfolios_df_returns_filled = fill_missing_values(portfolios_df_returns, formatted_dates)\n",
    "long_short_df_returns_filled = fill_missing_values(long_short_df_returns, formatted_dates)\n",
    "\n",
    "# We compute R-Rf for all portfolios\n",
    "R_RF = portfolios_df_returns_filled.sub(FFResearch_filled[\"RF\"]/360, axis=0)\n",
    "long_short_RF = long_short_df_returns_filled.sub(FFResearch_filled[\"RF\"]/360, axis=0)\n",
    "\n",
    "# We handle crix values\n",
    "crix_returns = crix_prices.pct_change()\n",
    "crix_returns_filled = fill_missing_values(crix_returns, formatted_dates)\n",
    "RM_RF = (crix_returns_filled[\"vcrix\"].sub(FFResearch_filled['RF']/360, axis=0))"
   ]
  },
  {
   "cell_type": "markdown",
   "metadata": {
    "id": "sZyEUxnGLi1d"
   },
   "source": [
    "## Sharpe"
   ]
  },
  {
   "cell_type": "code",
   "execution_count": 96,
   "metadata": {
    "colab": {
     "base_uri": "https://localhost:8080/"
    },
    "id": "4QONd5WgLi1d",
    "outputId": "0e823624-7041-4a07-e1f4-051f13aa3e46"
   },
   "outputs": [
    {
     "name": "stdout",
     "output_type": "stream",
     "text": [
      "P1    0.034612\n",
      "P2    0.025838\n",
      "P3    0.010361\n",
      "P4    0.014221\n",
      "P5    0.008588\n",
      "dtype: float64\n",
      "P1-P5    0.041732\n",
      "dtype: float64\n"
     ]
    }
   ],
   "source": [
    "print((portfolios_df_returns.mean()-(FFResearch[\"RF\"]/360).mean())/portfolios_df_returns.std())\n",
    "print((long_short_df_returns.mean() - (FFResearch[\"RF\"]/360).mean())/long_short_df_returns.std())"
   ]
  },
  {
   "cell_type": "markdown",
   "metadata": {
    "id": "Nid4qCO5Li1e"
   },
   "source": [
    "## Treynor et Jensen"
   ]
  },
  {
   "cell_type": "code",
   "execution_count": 107,
   "metadata": {
    "id": "NvDervYmLi1f"
   },
   "outputs": [],
   "source": [
    "intercept = sm.add_constant(FFResearch_filled[\"Mkt-RF\"])"
   ]
  },
  {
   "cell_type": "markdown",
   "metadata": {
    "id": "uWlZ-PQsLi1f"
   },
   "source": [
    "### P1"
   ]
  },
  {
   "cell_type": "code",
   "execution_count": 108,
   "metadata": {
    "colab": {
     "base_uri": "https://localhost:8080/",
     "height": 452
    },
    "id": "hvP-z2-CLi1f",
    "outputId": "f5871ef7-85a9-484a-9229-af2bbb1ebfbc"
   },
   "outputs": [
    {
     "data": {
      "text/html": [
       "<table class=\"simpletable\">\n",
       "<caption>OLS Regression Results</caption>\n",
       "<tr>\n",
       "  <th>Dep. Variable:</th>           <td>P1</td>        <th>  R-squared:         </th> <td>   0.030</td>\n",
       "</tr>\n",
       "<tr>\n",
       "  <th>Model:</th>                   <td>OLS</td>       <th>  Adj. R-squared:    </th> <td>   0.028</td>\n",
       "</tr>\n",
       "<tr>\n",
       "  <th>Method:</th>             <td>Least Squares</td>  <th>  F-statistic:       </th> <td>   23.96</td>\n",
       "</tr>\n",
       "<tr>\n",
       "  <th>Date:</th>             <td>Sun, 07 Mar 2021</td> <th>  Prob (F-statistic):</th> <td>1.19e-06</td>\n",
       "</tr>\n",
       "<tr>\n",
       "  <th>Time:</th>                 <td>12:15:19</td>     <th>  Log-Likelihood:    </th> <td>  1299.9</td>\n",
       "</tr>\n",
       "<tr>\n",
       "  <th>No. Observations:</th>      <td>   787</td>      <th>  AIC:               </th> <td>  -2596.</td>\n",
       "</tr>\n",
       "<tr>\n",
       "  <th>Df Residuals:</th>          <td>   785</td>      <th>  BIC:               </th> <td>  -2586.</td>\n",
       "</tr>\n",
       "<tr>\n",
       "  <th>Df Model:</th>              <td>     1</td>      <th>                     </th>     <td> </td>   \n",
       "</tr>\n",
       "<tr>\n",
       "  <th>Covariance Type:</th>      <td>nonrobust</td>    <th>                     </th>     <td> </td>   \n",
       "</tr>\n",
       "</table>\n",
       "<table class=\"simpletable\">\n",
       "<tr>\n",
       "     <td></td>       <th>coef</th>     <th>std err</th>      <th>t</th>      <th>P>|t|</th>  <th>[0.025</th>    <th>0.975]</th>  \n",
       "</tr>\n",
       "<tr>\n",
       "  <th>const</th>  <td>    0.0018</td> <td>    0.002</td> <td>    1.094</td> <td> 0.274</td> <td>   -0.001</td> <td>    0.005</td>\n",
       "</tr>\n",
       "<tr>\n",
       "  <th>Mkt-RF</th> <td>    0.0054</td> <td>    0.001</td> <td>    4.895</td> <td> 0.000</td> <td>    0.003</td> <td>    0.008</td>\n",
       "</tr>\n",
       "</table>\n",
       "<table class=\"simpletable\">\n",
       "<tr>\n",
       "  <th>Omnibus:</th>       <td>142.543</td> <th>  Durbin-Watson:     </th> <td>   2.108</td> \n",
       "</tr>\n",
       "<tr>\n",
       "  <th>Prob(Omnibus):</th> <td> 0.000</td>  <th>  Jarque-Bera (JB):  </th> <td> 780.897</td> \n",
       "</tr>\n",
       "<tr>\n",
       "  <th>Skew:</th>          <td>-0.694</td>  <th>  Prob(JB):          </th> <td>2.69e-170</td>\n",
       "</tr>\n",
       "<tr>\n",
       "  <th>Kurtosis:</th>      <td> 7.679</td>  <th>  Cond. No.          </th> <td>    1.51</td> \n",
       "</tr>\n",
       "</table><br/><br/>Notes:<br/>[1] Standard Errors assume that the covariance matrix of the errors is correctly specified."
      ],
      "text/plain": [
       "<class 'statsmodels.iolib.summary.Summary'>\n",
       "\"\"\"\n",
       "                            OLS Regression Results                            \n",
       "==============================================================================\n",
       "Dep. Variable:                     P1   R-squared:                       0.030\n",
       "Model:                            OLS   Adj. R-squared:                  0.028\n",
       "Method:                 Least Squares   F-statistic:                     23.96\n",
       "Date:                Sun, 07 Mar 2021   Prob (F-statistic):           1.19e-06\n",
       "Time:                        12:15:19   Log-Likelihood:                 1299.9\n",
       "No. Observations:                 787   AIC:                            -2596.\n",
       "Df Residuals:                     785   BIC:                            -2586.\n",
       "Df Model:                           1                                         \n",
       "Covariance Type:            nonrobust                                         \n",
       "==============================================================================\n",
       "                 coef    std err          t      P>|t|      [0.025      0.975]\n",
       "------------------------------------------------------------------------------\n",
       "const          0.0018      0.002      1.094      0.274      -0.001       0.005\n",
       "Mkt-RF         0.0054      0.001      4.895      0.000       0.003       0.008\n",
       "==============================================================================\n",
       "Omnibus:                      142.543   Durbin-Watson:                   2.108\n",
       "Prob(Omnibus):                  0.000   Jarque-Bera (JB):              780.897\n",
       "Skew:                          -0.694   Prob(JB):                    2.69e-170\n",
       "Kurtosis:                       7.679   Cond. No.                         1.51\n",
       "==============================================================================\n",
       "\n",
       "Notes:\n",
       "[1] Standard Errors assume that the covariance matrix of the errors is correctly specified.\n",
       "\"\"\""
      ]
     },
     "execution_count": 108,
     "metadata": {},
     "output_type": "execute_result"
    }
   ],
   "source": [
    "reg = sm.OLS(R_RF[\"P1\"], intercept).fit()\n",
    "reg.summary()"
   ]
  },
  {
   "cell_type": "markdown",
   "metadata": {
    "id": "9u0RnOefLi1h"
   },
   "source": [
    "### P2"
   ]
  },
  {
   "cell_type": "code",
   "execution_count": 109,
   "metadata": {
    "colab": {
     "base_uri": "https://localhost:8080/",
     "height": 452
    },
    "id": "dbju1rJILi1h",
    "outputId": "c6a4ebfc-9c89-4faf-98ef-4deda9b3fefb"
   },
   "outputs": [
    {
     "data": {
      "text/html": [
       "<table class=\"simpletable\">\n",
       "<caption>OLS Regression Results</caption>\n",
       "<tr>\n",
       "  <th>Dep. Variable:</th>           <td>P2</td>        <th>  R-squared:         </th> <td>   0.035</td>\n",
       "</tr>\n",
       "<tr>\n",
       "  <th>Model:</th>                   <td>OLS</td>       <th>  Adj. R-squared:    </th> <td>   0.034</td>\n",
       "</tr>\n",
       "<tr>\n",
       "  <th>Method:</th>             <td>Least Squares</td>  <th>  F-statistic:       </th> <td>   28.47</td>\n",
       "</tr>\n",
       "<tr>\n",
       "  <th>Date:</th>             <td>Sun, 07 Mar 2021</td> <th>  Prob (F-statistic):</th> <td>1.25e-07</td>\n",
       "</tr>\n",
       "<tr>\n",
       "  <th>Time:</th>                 <td>12:15:26</td>     <th>  Log-Likelihood:    </th> <td>  1318.4</td>\n",
       "</tr>\n",
       "<tr>\n",
       "  <th>No. Observations:</th>      <td>   787</td>      <th>  AIC:               </th> <td>  -2633.</td>\n",
       "</tr>\n",
       "<tr>\n",
       "  <th>Df Residuals:</th>          <td>   785</td>      <th>  BIC:               </th> <td>  -2624.</td>\n",
       "</tr>\n",
       "<tr>\n",
       "  <th>Df Model:</th>              <td>     1</td>      <th>                     </th>     <td> </td>   \n",
       "</tr>\n",
       "<tr>\n",
       "  <th>Covariance Type:</th>      <td>nonrobust</td>    <th>                     </th>     <td> </td>   \n",
       "</tr>\n",
       "</table>\n",
       "<table class=\"simpletable\">\n",
       "<tr>\n",
       "     <td></td>       <th>coef</th>     <th>std err</th>      <th>t</th>      <th>P>|t|</th>  <th>[0.025</th>    <th>0.975]</th>  \n",
       "</tr>\n",
       "<tr>\n",
       "  <th>const</th>  <td>    0.0014</td> <td>    0.002</td> <td>    0.843</td> <td> 0.399</td> <td>   -0.002</td> <td>    0.005</td>\n",
       "</tr>\n",
       "<tr>\n",
       "  <th>Mkt-RF</th> <td>    0.0057</td> <td>    0.001</td> <td>    5.336</td> <td> 0.000</td> <td>    0.004</td> <td>    0.008</td>\n",
       "</tr>\n",
       "</table>\n",
       "<table class=\"simpletable\">\n",
       "<tr>\n",
       "  <th>Omnibus:</th>       <td>177.825</td> <th>  Durbin-Watson:     </th> <td>   2.124</td> \n",
       "</tr>\n",
       "<tr>\n",
       "  <th>Prob(Omnibus):</th> <td> 0.000</td>  <th>  Jarque-Bera (JB):  </th> <td>1295.889</td> \n",
       "</tr>\n",
       "<tr>\n",
       "  <th>Skew:</th>          <td>-0.813</td>  <th>  Prob(JB):          </th> <td>3.99e-282</td>\n",
       "</tr>\n",
       "<tr>\n",
       "  <th>Kurtosis:</th>      <td> 9.072</td>  <th>  Cond. No.          </th> <td>    1.51</td> \n",
       "</tr>\n",
       "</table><br/><br/>Notes:<br/>[1] Standard Errors assume that the covariance matrix of the errors is correctly specified."
      ],
      "text/plain": [
       "<class 'statsmodels.iolib.summary.Summary'>\n",
       "\"\"\"\n",
       "                            OLS Regression Results                            \n",
       "==============================================================================\n",
       "Dep. Variable:                     P2   R-squared:                       0.035\n",
       "Model:                            OLS   Adj. R-squared:                  0.034\n",
       "Method:                 Least Squares   F-statistic:                     28.47\n",
       "Date:                Sun, 07 Mar 2021   Prob (F-statistic):           1.25e-07\n",
       "Time:                        12:15:26   Log-Likelihood:                 1318.4\n",
       "No. Observations:                 787   AIC:                            -2633.\n",
       "Df Residuals:                     785   BIC:                            -2624.\n",
       "Df Model:                           1                                         \n",
       "Covariance Type:            nonrobust                                         \n",
       "==============================================================================\n",
       "                 coef    std err          t      P>|t|      [0.025      0.975]\n",
       "------------------------------------------------------------------------------\n",
       "const          0.0014      0.002      0.843      0.399      -0.002       0.005\n",
       "Mkt-RF         0.0057      0.001      5.336      0.000       0.004       0.008\n",
       "==============================================================================\n",
       "Omnibus:                      177.825   Durbin-Watson:                   2.124\n",
       "Prob(Omnibus):                  0.000   Jarque-Bera (JB):             1295.889\n",
       "Skew:                          -0.813   Prob(JB):                    3.99e-282\n",
       "Kurtosis:                       9.072   Cond. No.                         1.51\n",
       "==============================================================================\n",
       "\n",
       "Notes:\n",
       "[1] Standard Errors assume that the covariance matrix of the errors is correctly specified.\n",
       "\"\"\""
      ]
     },
     "execution_count": 109,
     "metadata": {},
     "output_type": "execute_result"
    }
   ],
   "source": [
    "reg = sm.OLS(R_RF[\"P2\"], intercept).fit()\n",
    "reg.summary()"
   ]
  },
  {
   "cell_type": "markdown",
   "metadata": {
    "id": "LyO90PdBLi1h"
   },
   "source": [
    "### P3"
   ]
  },
  {
   "cell_type": "code",
   "execution_count": 110,
   "metadata": {
    "colab": {
     "base_uri": "https://localhost:8080/",
     "height": 452
    },
    "id": "NS_4AdGyLi1h",
    "outputId": "9ab68873-7d4f-4b42-8926-3556af39f56d"
   },
   "outputs": [
    {
     "data": {
      "text/html": [
       "<table class=\"simpletable\">\n",
       "<caption>OLS Regression Results</caption>\n",
       "<tr>\n",
       "  <th>Dep. Variable:</th>           <td>P3</td>        <th>  R-squared:         </th> <td>   0.039</td>\n",
       "</tr>\n",
       "<tr>\n",
       "  <th>Model:</th>                   <td>OLS</td>       <th>  Adj. R-squared:    </th> <td>   0.038</td>\n",
       "</tr>\n",
       "<tr>\n",
       "  <th>Method:</th>             <td>Least Squares</td>  <th>  F-statistic:       </th> <td>   31.65</td>\n",
       "</tr>\n",
       "<tr>\n",
       "  <th>Date:</th>             <td>Sun, 07 Mar 2021</td> <th>  Prob (F-statistic):</th> <td>2.57e-08</td>\n",
       "</tr>\n",
       "<tr>\n",
       "  <th>Time:</th>                 <td>12:15:30</td>     <th>  Log-Likelihood:    </th> <td>  1333.8</td>\n",
       "</tr>\n",
       "<tr>\n",
       "  <th>No. Observations:</th>      <td>   787</td>      <th>  AIC:               </th> <td>  -2664.</td>\n",
       "</tr>\n",
       "<tr>\n",
       "  <th>Df Residuals:</th>          <td>   785</td>      <th>  BIC:               </th> <td>  -2654.</td>\n",
       "</tr>\n",
       "<tr>\n",
       "  <th>Df Model:</th>              <td>     1</td>      <th>                     </th>     <td> </td>   \n",
       "</tr>\n",
       "<tr>\n",
       "  <th>Covariance Type:</th>      <td>nonrobust</td>    <th>                     </th>     <td> </td>   \n",
       "</tr>\n",
       "</table>\n",
       "<table class=\"simpletable\">\n",
       "<tr>\n",
       "     <td></td>       <th>coef</th>     <th>std err</th>      <th>t</th>      <th>P>|t|</th>  <th>[0.025</th>    <th>0.975]</th>  \n",
       "</tr>\n",
       "<tr>\n",
       "  <th>const</th>  <td>    0.0006</td> <td>    0.002</td> <td>    0.407</td> <td> 0.684</td> <td>   -0.002</td> <td>    0.004</td>\n",
       "</tr>\n",
       "<tr>\n",
       "  <th>Mkt-RF</th> <td>    0.0059</td> <td>    0.001</td> <td>    5.626</td> <td> 0.000</td> <td>    0.004</td> <td>    0.008</td>\n",
       "</tr>\n",
       "</table>\n",
       "<table class=\"simpletable\">\n",
       "<tr>\n",
       "  <th>Omnibus:</th>       <td>164.038</td> <th>  Durbin-Watson:     </th> <td>   2.096</td> \n",
       "</tr>\n",
       "<tr>\n",
       "  <th>Prob(Omnibus):</th> <td> 0.000</td>  <th>  Jarque-Bera (JB):  </th> <td>1065.449</td> \n",
       "</tr>\n",
       "<tr>\n",
       "  <th>Skew:</th>          <td>-0.768</td>  <th>  Prob(JB):          </th> <td>4.37e-232</td>\n",
       "</tr>\n",
       "<tr>\n",
       "  <th>Kurtosis:</th>      <td> 8.489</td>  <th>  Cond. No.          </th> <td>    1.51</td> \n",
       "</tr>\n",
       "</table><br/><br/>Notes:<br/>[1] Standard Errors assume that the covariance matrix of the errors is correctly specified."
      ],
      "text/plain": [
       "<class 'statsmodels.iolib.summary.Summary'>\n",
       "\"\"\"\n",
       "                            OLS Regression Results                            \n",
       "==============================================================================\n",
       "Dep. Variable:                     P3   R-squared:                       0.039\n",
       "Model:                            OLS   Adj. R-squared:                  0.038\n",
       "Method:                 Least Squares   F-statistic:                     31.65\n",
       "Date:                Sun, 07 Mar 2021   Prob (F-statistic):           2.57e-08\n",
       "Time:                        12:15:30   Log-Likelihood:                 1333.8\n",
       "No. Observations:                 787   AIC:                            -2664.\n",
       "Df Residuals:                     785   BIC:                            -2654.\n",
       "Df Model:                           1                                         \n",
       "Covariance Type:            nonrobust                                         \n",
       "==============================================================================\n",
       "                 coef    std err          t      P>|t|      [0.025      0.975]\n",
       "------------------------------------------------------------------------------\n",
       "const          0.0006      0.002      0.407      0.684      -0.002       0.004\n",
       "Mkt-RF         0.0059      0.001      5.626      0.000       0.004       0.008\n",
       "==============================================================================\n",
       "Omnibus:                      164.038   Durbin-Watson:                   2.096\n",
       "Prob(Omnibus):                  0.000   Jarque-Bera (JB):             1065.449\n",
       "Skew:                          -0.768   Prob(JB):                    4.37e-232\n",
       "Kurtosis:                       8.489   Cond. No.                         1.51\n",
       "==============================================================================\n",
       "\n",
       "Notes:\n",
       "[1] Standard Errors assume that the covariance matrix of the errors is correctly specified.\n",
       "\"\"\""
      ]
     },
     "execution_count": 110,
     "metadata": {},
     "output_type": "execute_result"
    }
   ],
   "source": [
    "reg = sm.OLS(R_RF[\"P3\"], intercept).fit()\n",
    "reg.summary()"
   ]
  },
  {
   "cell_type": "markdown",
   "metadata": {
    "id": "NBeW1NwbLi1j"
   },
   "source": [
    "### P4"
   ]
  },
  {
   "cell_type": "code",
   "execution_count": 111,
   "metadata": {
    "colab": {
     "base_uri": "https://localhost:8080/",
     "height": 452
    },
    "id": "9QV8-zhdLi1j",
    "outputId": "0d5a21dc-a1fd-4609-9cb4-e223e139e0c5"
   },
   "outputs": [
    {
     "data": {
      "text/html": [
       "<table class=\"simpletable\">\n",
       "<caption>OLS Regression Results</caption>\n",
       "<tr>\n",
       "  <th>Dep. Variable:</th>           <td>P4</td>        <th>  R-squared:         </th> <td>   0.043</td>\n",
       "</tr>\n",
       "<tr>\n",
       "  <th>Model:</th>                   <td>OLS</td>       <th>  Adj. R-squared:    </th> <td>   0.042</td>\n",
       "</tr>\n",
       "<tr>\n",
       "  <th>Method:</th>             <td>Least Squares</td>  <th>  F-statistic:       </th> <td>   35.06</td>\n",
       "</tr>\n",
       "<tr>\n",
       "  <th>Date:</th>             <td>Sun, 07 Mar 2021</td> <th>  Prob (F-statistic):</th> <td>4.78e-09</td>\n",
       "</tr>\n",
       "<tr>\n",
       "  <th>Time:</th>                 <td>12:15:35</td>     <th>  Log-Likelihood:    </th> <td>  1311.3</td>\n",
       "</tr>\n",
       "<tr>\n",
       "  <th>No. Observations:</th>      <td>   787</td>      <th>  AIC:               </th> <td>  -2619.</td>\n",
       "</tr>\n",
       "<tr>\n",
       "  <th>Df Residuals:</th>          <td>   785</td>      <th>  BIC:               </th> <td>  -2609.</td>\n",
       "</tr>\n",
       "<tr>\n",
       "  <th>Df Model:</th>              <td>     1</td>      <th>                     </th>     <td> </td>   \n",
       "</tr>\n",
       "<tr>\n",
       "  <th>Covariance Type:</th>      <td>nonrobust</td>    <th>                     </th>     <td> </td>   \n",
       "</tr>\n",
       "</table>\n",
       "<table class=\"simpletable\">\n",
       "<tr>\n",
       "     <td></td>       <th>coef</th>     <th>std err</th>      <th>t</th>      <th>P>|t|</th>  <th>[0.025</th>    <th>0.975]</th>  \n",
       "</tr>\n",
       "<tr>\n",
       "  <th>const</th>  <td>    0.0008</td> <td>    0.002</td> <td>    0.515</td> <td> 0.607</td> <td>   -0.002</td> <td>    0.004</td>\n",
       "</tr>\n",
       "<tr>\n",
       "  <th>Mkt-RF</th> <td>    0.0064</td> <td>    0.001</td> <td>    5.921</td> <td> 0.000</td> <td>    0.004</td> <td>    0.009</td>\n",
       "</tr>\n",
       "</table>\n",
       "<table class=\"simpletable\">\n",
       "<tr>\n",
       "  <th>Omnibus:</th>       <td>114.282</td> <th>  Durbin-Watson:     </th> <td>   2.092</td> \n",
       "</tr>\n",
       "<tr>\n",
       "  <th>Prob(Omnibus):</th> <td> 0.000</td>  <th>  Jarque-Bera (JB):  </th> <td> 914.242</td> \n",
       "</tr>\n",
       "<tr>\n",
       "  <th>Skew:</th>          <td>-0.366</td>  <th>  Prob(JB):          </th> <td>2.98e-199</td>\n",
       "</tr>\n",
       "<tr>\n",
       "  <th>Kurtosis:</th>      <td> 8.229</td>  <th>  Cond. No.          </th> <td>    1.51</td> \n",
       "</tr>\n",
       "</table><br/><br/>Notes:<br/>[1] Standard Errors assume that the covariance matrix of the errors is correctly specified."
      ],
      "text/plain": [
       "<class 'statsmodels.iolib.summary.Summary'>\n",
       "\"\"\"\n",
       "                            OLS Regression Results                            \n",
       "==============================================================================\n",
       "Dep. Variable:                     P4   R-squared:                       0.043\n",
       "Model:                            OLS   Adj. R-squared:                  0.042\n",
       "Method:                 Least Squares   F-statistic:                     35.06\n",
       "Date:                Sun, 07 Mar 2021   Prob (F-statistic):           4.78e-09\n",
       "Time:                        12:15:35   Log-Likelihood:                 1311.3\n",
       "No. Observations:                 787   AIC:                            -2619.\n",
       "Df Residuals:                     785   BIC:                            -2609.\n",
       "Df Model:                           1                                         \n",
       "Covariance Type:            nonrobust                                         \n",
       "==============================================================================\n",
       "                 coef    std err          t      P>|t|      [0.025      0.975]\n",
       "------------------------------------------------------------------------------\n",
       "const          0.0008      0.002      0.515      0.607      -0.002       0.004\n",
       "Mkt-RF         0.0064      0.001      5.921      0.000       0.004       0.009\n",
       "==============================================================================\n",
       "Omnibus:                      114.282   Durbin-Watson:                   2.092\n",
       "Prob(Omnibus):                  0.000   Jarque-Bera (JB):              914.242\n",
       "Skew:                          -0.366   Prob(JB):                    2.98e-199\n",
       "Kurtosis:                       8.229   Cond. No.                         1.51\n",
       "==============================================================================\n",
       "\n",
       "Notes:\n",
       "[1] Standard Errors assume that the covariance matrix of the errors is correctly specified.\n",
       "\"\"\""
      ]
     },
     "execution_count": 111,
     "metadata": {},
     "output_type": "execute_result"
    }
   ],
   "source": [
    "reg = sm.OLS(R_RF[\"P4\"], intercept).fit()\n",
    "reg.summary()"
   ]
  },
  {
   "cell_type": "markdown",
   "metadata": {
    "id": "TXaGbfvlLi1j"
   },
   "source": [
    "### P5"
   ]
  },
  {
   "cell_type": "code",
   "execution_count": 112,
   "metadata": {
    "colab": {
     "base_uri": "https://localhost:8080/",
     "height": 452
    },
    "id": "xmGGC0HXLi1j",
    "outputId": "4d78b4d9-0df0-4730-aca2-a783ce5d07c6"
   },
   "outputs": [
    {
     "data": {
      "text/html": [
       "<table class=\"simpletable\">\n",
       "<caption>OLS Regression Results</caption>\n",
       "<tr>\n",
       "  <th>Dep. Variable:</th>           <td>P5</td>        <th>  R-squared:         </th> <td>   0.033</td>\n",
       "</tr>\n",
       "<tr>\n",
       "  <th>Model:</th>                   <td>OLS</td>       <th>  Adj. R-squared:    </th> <td>   0.032</td>\n",
       "</tr>\n",
       "<tr>\n",
       "  <th>Method:</th>             <td>Least Squares</td>  <th>  F-statistic:       </th> <td>   26.87</td>\n",
       "</tr>\n",
       "<tr>\n",
       "  <th>Date:</th>             <td>Sun, 07 Mar 2021</td> <th>  Prob (F-statistic):</th> <td>2.77e-07</td>\n",
       "</tr>\n",
       "<tr>\n",
       "  <th>Time:</th>                 <td>12:15:38</td>     <th>  Log-Likelihood:    </th> <td>  1273.3</td>\n",
       "</tr>\n",
       "<tr>\n",
       "  <th>No. Observations:</th>      <td>   787</td>      <th>  AIC:               </th> <td>  -2543.</td>\n",
       "</tr>\n",
       "<tr>\n",
       "  <th>Df Residuals:</th>          <td>   785</td>      <th>  BIC:               </th> <td>  -2533.</td>\n",
       "</tr>\n",
       "<tr>\n",
       "  <th>Df Model:</th>              <td>     1</td>      <th>                     </th>     <td> </td>   \n",
       "</tr>\n",
       "<tr>\n",
       "  <th>Covariance Type:</th>      <td>nonrobust</td>    <th>                     </th>     <td> </td>   \n",
       "</tr>\n",
       "</table>\n",
       "<table class=\"simpletable\">\n",
       "<tr>\n",
       "     <td></td>       <th>coef</th>     <th>std err</th>      <th>t</th>      <th>P>|t|</th>  <th>[0.025</th>    <th>0.975]</th>  \n",
       "</tr>\n",
       "<tr>\n",
       "  <th>const</th>  <td>    0.0006</td> <td>    0.002</td> <td>    0.345</td> <td> 0.730</td> <td>   -0.003</td> <td>    0.004</td>\n",
       "</tr>\n",
       "<tr>\n",
       "  <th>Mkt-RF</th> <td>    0.0059</td> <td>    0.001</td> <td>    5.184</td> <td> 0.000</td> <td>    0.004</td> <td>    0.008</td>\n",
       "</tr>\n",
       "</table>\n",
       "<table class=\"simpletable\">\n",
       "<tr>\n",
       "  <th>Omnibus:</th>       <td>125.028</td> <th>  Durbin-Watson:     </th> <td>   2.142</td> \n",
       "</tr>\n",
       "<tr>\n",
       "  <th>Prob(Omnibus):</th> <td> 0.000</td>  <th>  Jarque-Bera (JB):  </th> <td>1353.042</td> \n",
       "</tr>\n",
       "<tr>\n",
       "  <th>Skew:</th>          <td>-0.310</td>  <th>  Prob(JB):          </th> <td>1.55e-294</td>\n",
       "</tr>\n",
       "<tr>\n",
       "  <th>Kurtosis:</th>      <td> 9.393</td>  <th>  Cond. No.          </th> <td>    1.51</td> \n",
       "</tr>\n",
       "</table><br/><br/>Notes:<br/>[1] Standard Errors assume that the covariance matrix of the errors is correctly specified."
      ],
      "text/plain": [
       "<class 'statsmodels.iolib.summary.Summary'>\n",
       "\"\"\"\n",
       "                            OLS Regression Results                            \n",
       "==============================================================================\n",
       "Dep. Variable:                     P5   R-squared:                       0.033\n",
       "Model:                            OLS   Adj. R-squared:                  0.032\n",
       "Method:                 Least Squares   F-statistic:                     26.87\n",
       "Date:                Sun, 07 Mar 2021   Prob (F-statistic):           2.77e-07\n",
       "Time:                        12:15:38   Log-Likelihood:                 1273.3\n",
       "No. Observations:                 787   AIC:                            -2543.\n",
       "Df Residuals:                     785   BIC:                            -2533.\n",
       "Df Model:                           1                                         \n",
       "Covariance Type:            nonrobust                                         \n",
       "==============================================================================\n",
       "                 coef    std err          t      P>|t|      [0.025      0.975]\n",
       "------------------------------------------------------------------------------\n",
       "const          0.0006      0.002      0.345      0.730      -0.003       0.004\n",
       "Mkt-RF         0.0059      0.001      5.184      0.000       0.004       0.008\n",
       "==============================================================================\n",
       "Omnibus:                      125.028   Durbin-Watson:                   2.142\n",
       "Prob(Omnibus):                  0.000   Jarque-Bera (JB):             1353.042\n",
       "Skew:                          -0.310   Prob(JB):                    1.55e-294\n",
       "Kurtosis:                       9.393   Cond. No.                         1.51\n",
       "==============================================================================\n",
       "\n",
       "Notes:\n",
       "[1] Standard Errors assume that the covariance matrix of the errors is correctly specified.\n",
       "\"\"\""
      ]
     },
     "execution_count": 112,
     "metadata": {},
     "output_type": "execute_result"
    }
   ],
   "source": [
    "reg = sm.OLS(R_RF[\"P5\"], intercept).fit()\n",
    "reg.summary()"
   ]
  },
  {
   "cell_type": "markdown",
   "metadata": {
    "id": "GIAKx_YhLi1k"
   },
   "source": [
    "### P1-5"
   ]
  },
  {
   "cell_type": "code",
   "execution_count": 113,
   "metadata": {
    "colab": {
     "base_uri": "https://localhost:8080/",
     "height": 452
    },
    "id": "m6T-ihpfLi1k",
    "outputId": "7f84bf77-5ca5-4e8a-c06d-ce030b4d1ae7"
   },
   "outputs": [
    {
     "data": {
      "text/html": [
       "<table class=\"simpletable\">\n",
       "<caption>OLS Regression Results</caption>\n",
       "<tr>\n",
       "  <th>Dep. Variable:</th>          <td>P1-P5</td>      <th>  R-squared:         </th> <td>   0.006</td>\n",
       "</tr>\n",
       "<tr>\n",
       "  <th>Model:</th>                   <td>OLS</td>       <th>  Adj. R-squared:    </th> <td>   0.005</td>\n",
       "</tr>\n",
       "<tr>\n",
       "  <th>Method:</th>             <td>Least Squares</td>  <th>  F-statistic:       </th> <td>   4.952</td>\n",
       "</tr>\n",
       "<tr>\n",
       "  <th>Date:</th>             <td>Sun, 07 Mar 2021</td> <th>  Prob (F-statistic):</th>  <td>0.0263</td> \n",
       "</tr>\n",
       "<tr>\n",
       "  <th>Time:</th>                 <td>12:15:42</td>     <th>  Log-Likelihood:    </th> <td>  359.57</td>\n",
       "</tr>\n",
       "<tr>\n",
       "  <th>No. Observations:</th>      <td>   787</td>      <th>  AIC:               </th> <td>  -715.1</td>\n",
       "</tr>\n",
       "<tr>\n",
       "  <th>Df Residuals:</th>          <td>   785</td>      <th>  BIC:               </th> <td>  -705.8</td>\n",
       "</tr>\n",
       "<tr>\n",
       "  <th>Df Model:</th>              <td>     1</td>      <th>                     </th>     <td> </td>   \n",
       "</tr>\n",
       "<tr>\n",
       "  <th>Covariance Type:</th>      <td>nonrobust</td>    <th>                     </th>     <td> </td>   \n",
       "</tr>\n",
       "</table>\n",
       "<table class=\"simpletable\">\n",
       "<tr>\n",
       "     <td></td>       <th>coef</th>     <th>std err</th>      <th>t</th>      <th>P>|t|</th>  <th>[0.025</th>    <th>0.975]</th>  \n",
       "</tr>\n",
       "<tr>\n",
       "  <th>const</th>  <td>   -0.0012</td> <td>    0.005</td> <td>   -0.214</td> <td> 0.831</td> <td>   -0.012</td> <td>    0.010</td>\n",
       "</tr>\n",
       "<tr>\n",
       "  <th>Mkt-RF</th> <td>    0.0080</td> <td>    0.004</td> <td>    2.225</td> <td> 0.026</td> <td>    0.001</td> <td>    0.015</td>\n",
       "</tr>\n",
       "</table>\n",
       "<table class=\"simpletable\">\n",
       "<tr>\n",
       "  <th>Omnibus:</th>       <td>64.107</td> <th>  Durbin-Watson:     </th> <td>   1.665</td>\n",
       "</tr>\n",
       "<tr>\n",
       "  <th>Prob(Omnibus):</th> <td> 0.000</td> <th>  Jarque-Bera (JB):  </th> <td> 255.795</td>\n",
       "</tr>\n",
       "<tr>\n",
       "  <th>Skew:</th>          <td> 0.256</td> <th>  Prob(JB):          </th> <td>2.85e-56</td>\n",
       "</tr>\n",
       "<tr>\n",
       "  <th>Kurtosis:</th>      <td> 5.746</td> <th>  Cond. No.          </th> <td>    1.51</td>\n",
       "</tr>\n",
       "</table><br/><br/>Notes:<br/>[1] Standard Errors assume that the covariance matrix of the errors is correctly specified."
      ],
      "text/plain": [
       "<class 'statsmodels.iolib.summary.Summary'>\n",
       "\"\"\"\n",
       "                            OLS Regression Results                            \n",
       "==============================================================================\n",
       "Dep. Variable:                  P1-P5   R-squared:                       0.006\n",
       "Model:                            OLS   Adj. R-squared:                  0.005\n",
       "Method:                 Least Squares   F-statistic:                     4.952\n",
       "Date:                Sun, 07 Mar 2021   Prob (F-statistic):             0.0263\n",
       "Time:                        12:15:42   Log-Likelihood:                 359.57\n",
       "No. Observations:                 787   AIC:                            -715.1\n",
       "Df Residuals:                     785   BIC:                            -705.8\n",
       "Df Model:                           1                                         \n",
       "Covariance Type:            nonrobust                                         \n",
       "==============================================================================\n",
       "                 coef    std err          t      P>|t|      [0.025      0.975]\n",
       "------------------------------------------------------------------------------\n",
       "const         -0.0012      0.005     -0.214      0.831      -0.012       0.010\n",
       "Mkt-RF         0.0080      0.004      2.225      0.026       0.001       0.015\n",
       "==============================================================================\n",
       "Omnibus:                       64.107   Durbin-Watson:                   1.665\n",
       "Prob(Omnibus):                  0.000   Jarque-Bera (JB):              255.795\n",
       "Skew:                           0.256   Prob(JB):                     2.85e-56\n",
       "Kurtosis:                       5.746   Cond. No.                         1.51\n",
       "==============================================================================\n",
       "\n",
       "Notes:\n",
       "[1] Standard Errors assume that the covariance matrix of the errors is correctly specified.\n",
       "\"\"\""
      ]
     },
     "execution_count": 113,
     "metadata": {},
     "output_type": "execute_result"
    }
   ],
   "source": [
    "reg = sm.OLS(long_short_RF, intercept).fit()\n",
    "reg.summary()"
   ]
  },
  {
   "cell_type": "markdown",
   "metadata": {
    "id": "EDhjYQo0Li1k"
   },
   "source": [
    "## Fama et French"
   ]
  },
  {
   "cell_type": "code",
   "execution_count": 123,
   "metadata": {},
   "outputs": [],
   "source": [
    "intercept = sm.add_constant(FFResearch_filled[[\"Mkt-RF\", \"SMB\", \"HML\"]])"
   ]
  },
  {
   "cell_type": "code",
   "execution_count": 125,
   "metadata": {},
   "outputs": [
    {
     "data": {
      "text/html": [
       "<table class=\"simpletable\">\n",
       "<caption>OLS Regression Results</caption>\n",
       "<tr>\n",
       "  <th>Dep. Variable:</th>           <td>P1</td>        <th>  R-squared:         </th> <td>   0.032</td>\n",
       "</tr>\n",
       "<tr>\n",
       "  <th>Model:</th>                   <td>OLS</td>       <th>  Adj. R-squared:    </th> <td>   0.028</td>\n",
       "</tr>\n",
       "<tr>\n",
       "  <th>Method:</th>             <td>Least Squares</td>  <th>  F-statistic:       </th> <td>   8.564</td>\n",
       "</tr>\n",
       "<tr>\n",
       "  <th>Date:</th>             <td>Sun, 07 Mar 2021</td> <th>  Prob (F-statistic):</th> <td>1.34e-05</td>\n",
       "</tr>\n",
       "<tr>\n",
       "  <th>Time:</th>                 <td>12:22:45</td>     <th>  Log-Likelihood:    </th> <td>  1300.8</td>\n",
       "</tr>\n",
       "<tr>\n",
       "  <th>No. Observations:</th>      <td>   787</td>      <th>  AIC:               </th> <td>  -2594.</td>\n",
       "</tr>\n",
       "<tr>\n",
       "  <th>Df Residuals:</th>          <td>   783</td>      <th>  BIC:               </th> <td>  -2575.</td>\n",
       "</tr>\n",
       "<tr>\n",
       "  <th>Df Model:</th>              <td>     3</td>      <th>                     </th>     <td> </td>   \n",
       "</tr>\n",
       "<tr>\n",
       "  <th>Covariance Type:</th>      <td>nonrobust</td>    <th>                     </th>     <td> </td>   \n",
       "</tr>\n",
       "</table>\n",
       "<table class=\"simpletable\">\n",
       "<tr>\n",
       "     <td></td>       <th>coef</th>     <th>std err</th>      <th>t</th>      <th>P>|t|</th>  <th>[0.025</th>    <th>0.975]</th>  \n",
       "</tr>\n",
       "<tr>\n",
       "  <th>const</th>  <td>    0.0016</td> <td>    0.002</td> <td>    0.940</td> <td> 0.348</td> <td>   -0.002</td> <td>    0.005</td>\n",
       "</tr>\n",
       "<tr>\n",
       "  <th>Mkt-RF</th> <td>    0.0057</td> <td>    0.001</td> <td>    5.058</td> <td> 0.000</td> <td>    0.004</td> <td>    0.008</td>\n",
       "</tr>\n",
       "<tr>\n",
       "  <th>SMB</th>    <td>    0.0002</td> <td>    0.003</td> <td>    0.095</td> <td> 0.924</td> <td>   -0.005</td> <td>    0.005</td>\n",
       "</tr>\n",
       "<tr>\n",
       "  <th>HML</th>    <td>   -0.0027</td> <td>    0.002</td> <td>   -1.311</td> <td> 0.190</td> <td>   -0.007</td> <td>    0.001</td>\n",
       "</tr>\n",
       "</table>\n",
       "<table class=\"simpletable\">\n",
       "<tr>\n",
       "  <th>Omnibus:</th>       <td>140.332</td> <th>  Durbin-Watson:     </th> <td>   2.113</td> \n",
       "</tr>\n",
       "<tr>\n",
       "  <th>Prob(Omnibus):</th> <td> 0.000</td>  <th>  Jarque-Bera (JB):  </th> <td> 759.240</td> \n",
       "</tr>\n",
       "<tr>\n",
       "  <th>Skew:</th>          <td>-0.684</td>  <th>  Prob(JB):          </th> <td>1.36e-165</td>\n",
       "</tr>\n",
       "<tr>\n",
       "  <th>Kurtosis:</th>      <td> 7.613</td>  <th>  Cond. No.          </th> <td>    2.41</td> \n",
       "</tr>\n",
       "</table><br/><br/>Notes:<br/>[1] Standard Errors assume that the covariance matrix of the errors is correctly specified."
      ],
      "text/plain": [
       "<class 'statsmodels.iolib.summary.Summary'>\n",
       "\"\"\"\n",
       "                            OLS Regression Results                            \n",
       "==============================================================================\n",
       "Dep. Variable:                     P1   R-squared:                       0.032\n",
       "Model:                            OLS   Adj. R-squared:                  0.028\n",
       "Method:                 Least Squares   F-statistic:                     8.564\n",
       "Date:                Sun, 07 Mar 2021   Prob (F-statistic):           1.34e-05\n",
       "Time:                        12:22:45   Log-Likelihood:                 1300.8\n",
       "No. Observations:                 787   AIC:                            -2594.\n",
       "Df Residuals:                     783   BIC:                            -2575.\n",
       "Df Model:                           3                                         \n",
       "Covariance Type:            nonrobust                                         \n",
       "==============================================================================\n",
       "                 coef    std err          t      P>|t|      [0.025      0.975]\n",
       "------------------------------------------------------------------------------\n",
       "const          0.0016      0.002      0.940      0.348      -0.002       0.005\n",
       "Mkt-RF         0.0057      0.001      5.058      0.000       0.004       0.008\n",
       "SMB            0.0002      0.003      0.095      0.924      -0.005       0.005\n",
       "HML           -0.0027      0.002     -1.311      0.190      -0.007       0.001\n",
       "==============================================================================\n",
       "Omnibus:                      140.332   Durbin-Watson:                   2.113\n",
       "Prob(Omnibus):                  0.000   Jarque-Bera (JB):              759.240\n",
       "Skew:                          -0.684   Prob(JB):                    1.36e-165\n",
       "Kurtosis:                       7.613   Cond. No.                         2.41\n",
       "==============================================================================\n",
       "\n",
       "Notes:\n",
       "[1] Standard Errors assume that the covariance matrix of the errors is correctly specified.\n",
       "\"\"\""
      ]
     },
     "execution_count": 125,
     "metadata": {},
     "output_type": "execute_result"
    }
   ],
   "source": [
    "reg = sm.OLS(R_RF[\"P1\"], intercept).fit()\n",
    "reg.summary()"
   ]
  }
 ],
 "metadata": {
  "colab": {
   "collapsed_sections": [
    "H39m5TqzLi1I",
    "Htb3Dq_YLi1K",
    "FXZDIP0uLi1N",
    "wwHCzGB_Li1P",
    "3Z1WrFj4Li1R",
    "gYRpbj9lLi1T",
    "7q_LXLQlLi1Y",
    "AwlIQGQ3Li1b"
   ],
   "name": "ProjetSIAQ.ipynb",
   "provenance": []
  },
  "kernelspec": {
   "display_name": "Python 3",
   "language": "python",
   "name": "python3"
  },
  "language_info": {
   "codemirror_mode": {
    "name": "ipython",
    "version": 3
   },
   "file_extension": ".py",
   "mimetype": "text/x-python",
   "name": "python",
   "nbconvert_exporter": "python",
   "pygments_lexer": "ipython3",
   "version": "3.6.9"
  }
 },
 "nbformat": 4,
 "nbformat_minor": 1
}

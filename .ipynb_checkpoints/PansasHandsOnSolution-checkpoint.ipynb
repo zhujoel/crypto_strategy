{
 "cells": [
  {
   "cell_type": "markdown",
   "metadata": {},
   "source": [
    "# Pandas hands-on\n",
    "\n",
    "The goal of this notebook is to get acquainted with some of the core functionalities of Pandas."
   ]
  },
  {
   "cell_type": "code",
   "execution_count": null,
   "metadata": {},
   "outputs": [],
   "source": [
    "import numpy as np\n",
    "import pandas as pd\n",
    "import matplotlib.pyplot as plt\n",
    "import statsmodels.api as sm"
   ]
  },
  {
   "cell_type": "markdown",
   "metadata": {},
   "source": [
    "## Basic manipulations on dataframes\n",
    "\n",
    "Run the commands in the cells below to create a dataframe starting from a dictionary."
   ]
  },
  {
   "cell_type": "code",
   "execution_count": null,
   "metadata": {},
   "outputs": [],
   "source": [
    "family = pd.DataFrame({'name': ['Alice', 'Bob', 'Cathy', 'Daniel', 'Emily'], 'age': [38, 38, 9, 6, 6], 'parent-child': ['P', 'P', 'C', 'C', 'C']})"
   ]
  },
  {
   "cell_type": "code",
   "execution_count": null,
   "metadata": {},
   "outputs": [],
   "source": [
    "family"
   ]
  },
  {
   "cell_type": "markdown",
   "metadata": {},
   "source": [
    "Use the **set_index** command to make the *name* column become the index of the dataframe.\n",
    "\n",
    "**Nb:** the goal is not to create a new dataframe, but have the *family* dataframe itself modified with the new index."
   ]
  },
  {
   "cell_type": "code",
   "execution_count": null,
   "metadata": {},
   "outputs": [],
   "source": [
    "family.set_index('name', inplace=True)"
   ]
  },
  {
   "cell_type": "code",
   "execution_count": null,
   "metadata": {},
   "outputs": [],
   "source": [
    "family"
   ]
  },
  {
   "cell_type": "markdown",
   "metadata": {},
   "source": [
    "Select the *age* column from this dataframe, using attribute-based selection."
   ]
  },
  {
   "cell_type": "code",
   "execution_count": null,
   "metadata": {},
   "outputs": [],
   "source": [
    "family.age"
   ]
  },
  {
   "cell_type": "markdown",
   "metadata": {},
   "source": [
    "Select the *age* column from this dataframe, using the name of the column."
   ]
  },
  {
   "cell_type": "code",
   "execution_count": null,
   "metadata": {},
   "outputs": [],
   "source": [
    "family['age']"
   ]
  },
  {
   "cell_type": "markdown",
   "metadata": {},
   "source": [
    "Use the **iloc** command on the dataframe to select the element at the second row and first column."
   ]
  },
  {
   "cell_type": "code",
   "execution_count": null,
   "metadata": {},
   "outputs": [],
   "source": [
    "family.iloc[1,0]"
   ]
  },
  {
   "cell_type": "markdown",
   "metadata": {},
   "source": [
    "Use the **iloc** command to get a slice of the dataframe containing the last three rows."
   ]
  },
  {
   "cell_type": "code",
   "execution_count": null,
   "metadata": {},
   "outputs": [],
   "source": [
    "family.iloc[-3:,:]"
   ]
  },
  {
   "cell_type": "markdown",
   "metadata": {},
   "source": [
    "Use the **loc** command to get a series of booleans that are true for the rows containing the '*C*' attribute in the *parent-child* column."
   ]
  },
  {
   "cell_type": "code",
   "execution_count": null,
   "metadata": {},
   "outputs": [],
   "source": [
    "family[\"parent-child\"]=='C'"
   ]
  },
  {
   "cell_type": "markdown",
   "metadata": {},
   "source": [
    "Use the **loc** command to get a slice of the dataframe containing all the children ('*C*' attribute)."
   ]
  },
  {
   "cell_type": "code",
   "execution_count": null,
   "metadata": {},
   "outputs": [],
   "source": [
    "family.loc[family['parent-child']=='C']"
   ]
  },
  {
   "cell_type": "markdown",
   "metadata": {},
   "source": [
    "Copy the slice of the dataframe containing all the children into a new dataframe named *children*."
   ]
  },
  {
   "cell_type": "code",
   "execution_count": null,
   "metadata": {},
   "outputs": [],
   "source": [
    "children = family.loc[family['parent-child'] == 'C'].copy()"
   ]
  },
  {
   "cell_type": "code",
   "execution_count": null,
   "metadata": {},
   "outputs": [],
   "source": [
    "children"
   ]
  },
  {
   "cell_type": "markdown",
   "metadata": {},
   "source": [
    "Use the **loc** method to add a new child, Franck, age 0, to the *family* dataframe.\n",
    "\n",
    "**Hint:** reset the index before adding the row, and then set it back to the **name** column."
   ]
  },
  {
   "cell_type": "code",
   "execution_count": null,
   "metadata": {},
   "outputs": [],
   "source": [
    "family.reset_index(inplace=True)\n",
    "family.loc[len(family)] = {'name': 'Franck', 'age': 0, 'parent-child': 'C'}\n",
    "family.set_index('name', inplace=True)"
   ]
  },
  {
   "cell_type": "code",
   "execution_count": null,
   "metadata": {},
   "outputs": [],
   "source": [
    "family"
   ]
  },
  {
   "cell_type": "markdown",
   "metadata": {},
   "source": [
    "Add a column named *sex* to the *family* dataframe, stating whether the individual is male ('*M*'), or female ('*F*')."
   ]
  },
  {
   "cell_type": "code",
   "execution_count": null,
   "metadata": {},
   "outputs": [],
   "source": [
    "family['sex'] = ['F', 'M', 'F', 'M', 'F', 'M']"
   ]
  },
  {
   "cell_type": "markdown",
   "metadata": {},
   "source": [
    "Increase the age of each family member by 1."
   ]
  },
  {
   "cell_type": "code",
   "execution_count": null,
   "metadata": {},
   "outputs": [],
   "source": [
    "family.loc[:,'age'] = family.age + 1"
   ]
  },
  {
   "cell_type": "code",
   "execution_count": null,
   "metadata": {},
   "outputs": [],
   "source": [
    "family"
   ]
  },
  {
   "cell_type": "markdown",
   "metadata": {},
   "source": [
    "## Analysis of numerical data\n",
    "\n",
    "Create a dataframe named **crypto_prices** containing the data available in the file **crypto_prices.csv**. Use the **parse_dates** argument to specify that the first column consists of dates."
   ]
  },
  {
   "cell_type": "code",
   "execution_count": null,
   "metadata": {},
   "outputs": [],
   "source": [
    "crypto_prices = pd.read_csv(\"crypto_prices.csv\", parse_dates=[0])"
   ]
  },
  {
   "cell_type": "markdown",
   "metadata": {},
   "source": [
    "Set the index of **crypto_prices** to be the *date* column."
   ]
  },
  {
   "cell_type": "code",
   "execution_count": null,
   "metadata": {},
   "outputs": [],
   "source": [
    "crypto_prices.set_index('date', inplace=True)"
   ]
  },
  {
   "cell_type": "markdown",
   "metadata": {},
   "source": [
    "Use the *info()* method to get a summary of the contents of **crypto_prices**."
   ]
  },
  {
   "cell_type": "code",
   "execution_count": null,
   "metadata": {},
   "outputs": [],
   "source": [
    "crypto_prices.info()"
   ]
  },
  {
   "cell_type": "markdown",
   "metadata": {},
   "source": [
    "Use the *describe()* method to retrieve basic statistics about the data in the **crypto_prices** "
   ]
  },
  {
   "cell_type": "code",
   "execution_count": null,
   "metadata": {},
   "outputs": [],
   "source": [
    "crypto_prices.describe()"
   ]
  },
  {
   "cell_type": "markdown",
   "metadata": {},
   "source": [
    "Create a new dataframe called **btc_eth**, and containing the prices for *bitcoin* and *ethereum* from Jan. 1st 2019 until May 1st 2019.\n",
    "\n",
    "**Nb:** don't forget to use the *copy()* method to make sure **btc_eth** is indeed a new dataframe."
   ]
  },
  {
   "cell_type": "code",
   "execution_count": null,
   "metadata": {},
   "outputs": [],
   "source": [
    "btc_eth = crypto_prices.loc['2019-1-1': '2019-5-1', ['bitcoin', 'ethereum']].copy()"
   ]
  },
  {
   "cell_type": "markdown",
   "metadata": {},
   "source": [
    "In order to compare the price evolution of both cryptocurrencies, we will plot them with the same basis.\n",
    "\n",
    "Use the *pct_change()* method to compute the daily returns of both cryptocurrencies, store the result in a dataframe called **btc_eth_rets**. "
   ]
  },
  {
   "cell_type": "code",
   "execution_count": null,
   "metadata": {},
   "outputs": [],
   "source": [
    "btc_eth_rets = btc_eth.pct_change()"
   ]
  },
  {
   "cell_type": "markdown",
   "metadata": {},
   "source": [
    "Create a dataframe **btc_eth_perf** containing the daily performances of both cryptocurrencies, and set the value of the first row to 1."
   ]
  },
  {
   "cell_type": "code",
   "execution_count": null,
   "metadata": {},
   "outputs": [],
   "source": [
    "btc_eth_perf= 1+ btc_eth_rets\n",
    "btc_eth_perf.iloc[0,:] = 1"
   ]
  },
  {
   "cell_type": "markdown",
   "metadata": {},
   "source": [
    "Create a dataframe **btc_eth_base100** containing the price evolutions of both cryptocurrencies if their value on Jan 1st had been 100."
   ]
  },
  {
   "cell_type": "code",
   "execution_count": null,
   "metadata": {},
   "outputs": [],
   "source": [
    "btc_eth_base100 = 100 * btc_eth_perf.cumprod()"
   ]
  },
  {
   "cell_type": "markdown",
   "metadata": {},
   "source": [
    "Plot both price evolutions using the *plot* method on the **btc_eth_base100** dataframe."
   ]
  },
  {
   "cell_type": "code",
   "execution_count": null,
   "metadata": {},
   "outputs": [],
   "source": [
    "btc_eth_base100.plot(figsize=(12, 6))"
   ]
  },
  {
   "cell_type": "markdown",
   "metadata": {},
   "source": [
    "The goal of this part is to perform a linear regression and obtain the values $\\alpha$ and $\\beta$ such that\n",
    "$$R_e = \\alpha + \\beta\\cdot R_b + \\epsilon,$$\n",
    "where:\n",
    "- $R_e$ denotes the returns of **ethereum**,\n",
    "- $R_b$ denotes the returns of **bitcoin**,\n",
    "- $\\epsilon$ is a white noise.\n",
    "\n",
    "\n",
    "Create a dataframe **btc_eth_na** containing the returns of both cryptocurrencies without the first *NA* value."
   ]
  },
  {
   "cell_type": "code",
   "execution_count": null,
   "metadata": {},
   "outputs": [],
   "source": [
    "btc_eth_na = btc_eth.pct_change().dropna()"
   ]
  },
  {
   "cell_type": "markdown",
   "metadata": {},
   "source": [
    "Use the ordinary least squares method from **statmodels** (*OLS* method) to compute the regression, store this result in a variable **reg**. "
   ]
  },
  {
   "cell_type": "code",
   "execution_count": null,
   "metadata": {},
   "outputs": [],
   "source": [
    "intercept = sm.add_constant(btc_eth_na.bitcoin)\n",
    "reg = sm.OLS(btc_eth_na.ethereum, intercept).fit()"
   ]
  },
  {
   "cell_type": "markdown",
   "metadata": {},
   "source": [
    "Print out the summary of **reg**."
   ]
  },
  {
   "cell_type": "code",
   "execution_count": null,
   "metadata": {},
   "outputs": [],
   "source": [
    "print(reg.summary())"
   ]
  },
  {
   "cell_type": "markdown",
   "metadata": {},
   "source": [
    "Use the *predict* method on **reg** to predict the returns of **ethereum** and plot the regressed line along with the actual returns of the cryptocurrency."
   ]
  },
  {
   "cell_type": "code",
   "execution_count": null,
   "metadata": {},
   "outputs": [],
   "source": [
    "pred = reg.predict(intercept)\n",
    "plt.figure(figsize=(12, 6))\n",
    "plt.plot(btc_eth_na.bitcoin, btc_eth_na.ethereum,  'o')  \n",
    "plt.plot(btc_eth_na.bitcoin, pred, 'r', linewidth=2) "
   ]
  }
 ],
 "metadata": {
  "kernelspec": {
   "display_name": "Python 3",
   "language": "python",
   "name": "python3"
  },
  "language_info": {
   "codemirror_mode": {
    "name": "ipython",
    "version": 3
   },
   "file_extension": ".py",
   "mimetype": "text/x-python",
   "name": "python",
   "nbconvert_exporter": "python",
   "pygments_lexer": "ipython3",
   "version": "3.6.9"
  }
 },
 "nbformat": 4,
 "nbformat_minor": 4
}

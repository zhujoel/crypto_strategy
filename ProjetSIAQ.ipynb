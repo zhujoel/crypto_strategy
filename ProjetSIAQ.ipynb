{
 "cells": [
  {
   "cell_type": "markdown",
   "metadata": {},
   "source": [
    "# Projet Stratégies d'Investissement Alternatives et Quantitatives\n",
    "## Jérémy Bellina, Joël Zhu"
   ]
  },
  {
   "cell_type": "code",
   "execution_count": 1,
   "metadata": {},
   "outputs": [],
   "source": [
    "# import needed libraries\n",
    "import numpy as np\n",
    "import pandas as pd\n",
    "import matplotlib.pyplot as plt\n",
    "import statsmodels.api as sm"
   ]
  },
  {
   "cell_type": "code",
   "execution_count": 2,
   "metadata": {},
   "outputs": [],
   "source": [
    "# load the csv data\n",
    "crypto_prices = pd.read_csv(\"crypto_prices.csv\", parse_dates=[0])\n",
    "crypto_prices.set_index('date', inplace=True)"
   ]
  },
  {
   "cell_type": "code",
   "execution_count": 103,
   "metadata": {},
   "outputs": [],
   "source": [
    "# create rebalancing dates array\n",
    "rebalancing_dates = pd.date_range(start = \"2018-04-01\", end = \"2020-05-01\", freq = pd.DateOffset(months=1, day = 1))\n",
    "formatted_dates = pd.date_range(start = \"2018-04-01\", end = \"2020-05-26\")"
   ]
  },
  {
   "cell_type": "code",
   "execution_count": 72,
   "metadata": {},
   "outputs": [],
   "source": [
    "# horizon\n",
    "horizon = 14\n",
    "# Initial value of protfolio\n",
    "initial_value = 100000"
   ]
  },
  {
   "cell_type": "code",
   "execution_count": 65,
   "metadata": {},
   "outputs": [],
   "source": [
    "def compute_return(start_date, end_date, data):\n",
    "    return (data.loc[end_date] - data.loc[start_date])/data.loc[start_date]"
   ]
  },
  {
   "cell_type": "code",
   "execution_count": 96,
   "metadata": {},
   "outputs": [],
   "source": [
    "def update_composition(start_date, end_date, data, value):\n",
    "    portfolios = [[] for _ in range(5)]\n",
    "    returns = compute_return(start_date, end_date, crypto_prices)\n",
    "    # We sort those returns\n",
    "    sorted_returns = returns.sort_values(ascending=False)\n",
    "    #We create the 5 portfolios\n",
    "    for index_portfolio in range (5):\n",
    "        for name in sorted_returns.iloc[(10 * index_portfolio):(10 * (index_portfolio + 1))].index:\n",
    "            portfolios[index].append((name, value / 50 / data.loc[end_date, name]))\n",
    "    return portfolios"
   ]
  },
  {
   "cell_type": "code",
   "execution_count": 108,
   "metadata": {},
   "outputs": [],
   "source": [
    "def update_value(date, portfolios, crypto_prices):\n",
    "    value = 0\n",
    "    for portfolio in portfolios:\n",
    "        for item in portfolio:\n",
    "            value += item[1] * crypto_prices.loc[date, item[0]]\n",
    "    return value"
   ]
  },
  {
   "cell_type": "code",
   "execution_count": 114,
   "metadata": {},
   "outputs": [],
   "source": [
    " def backtest_portfolio(initial_value, horizon, formatted_dates, rebalancing_dates, data):\n",
    "    values = [initial_value]\n",
    "    for date in formatted_dates:\n",
    "        if date in rebalancing_dates:\n",
    "            start_date = str(date.date() - pd.to_timedelta(horizon, unit='d'))\n",
    "            end_date = str(date.date())\n",
    "            portfolios = update_composition(start_date, end_date, data, values[len(values) - 1])\n",
    "        values.append(update_value(date, portfolios, data)) \n",
    "\n",
    "    return values[1:]"
   ]
  },
  {
   "cell_type": "code",
   "execution_count": 116,
   "metadata": {},
   "outputs": [
    {
     "data": {
      "text/plain": [
       "787"
      ]
     },
     "execution_count": 116,
     "metadata": {},
     "output_type": "execute_result"
    }
   ],
   "source": [
    "backtest_portfolio(initial_value, horizon, formatted_dates, rebalancing_dates, crypto_prices)"
   ]
  }
 ],
 "metadata": {
  "kernelspec": {
   "display_name": "Python 3",
   "language": "python",
   "name": "python3"
  },
  "language_info": {
   "codemirror_mode": {
    "name": "ipython",
    "version": 3
   },
   "file_extension": ".py",
   "mimetype": "text/x-python",
   "name": "python",
   "nbconvert_exporter": "python",
   "pygments_lexer": "ipython3",
   "version": "3.6.9"
  }
 },
 "nbformat": 4,
 "nbformat_minor": 2
}
